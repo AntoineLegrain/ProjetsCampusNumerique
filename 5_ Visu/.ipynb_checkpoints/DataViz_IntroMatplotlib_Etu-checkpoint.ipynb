{
 "cells": [
  {
   "cell_type": "markdown",
   "metadata": {},
   "source": [
    "# Les bases\n",
    "\n",
    "## Importation de Matplotlib\n",
    "\n",
    "Comme les autres librairies que vous avez commencé à utiliser il existe une convention pour importer matplotlib "
   ]
  },
  {
   "cell_type": "code",
   "execution_count": 2,
   "metadata": {},
   "outputs": [],
   "source": [
    "# convention d'importation de matplotlib\n",
    "import matplotlib.pyplot as plt\n",
    "\n",
    "# convention d'importation de numpy\n",
    "import numpy as np"
   ]
  },
  {
   "cell_type": "code",
   "execution_count": 3,
   "metadata": {},
   "outputs": [
    {
     "data": {
      "text/plain": [
       "'module://ipykernel.pylab.backend_inline'"
      ]
     },
     "execution_count": 3,
     "metadata": {},
     "output_type": "execute_result"
    }
   ],
   "source": [
    "plt.get_backend()"
   ]
  },
  {
   "cell_type": "markdown",
   "metadata": {},
   "source": [
    "Il existe plusieurs moteurs de rendu des graphiques. Vous pouvez vérifier le backend à l'aide de la function ``plt.get_backend()``.\n",
    "\n",
    "**Sur des Jupyter Notebook, il est conseillé de bosser avec le backend inline.** Pour l'activer, il faut utiliser la magic function suivante : \n",
    "\n",
    "```python\n",
    "%matplotlib inline\n",
    "```"
   ]
  },
  {
   "cell_type": "code",
   "execution_count": null,
   "metadata": {},
   "outputs": [],
   "source": [
    "# TODO activer inline et vérifer le backend"
   ]
  },
  {
   "cell_type": "code",
   "execution_count": null,
   "metadata": {},
   "outputs": [],
   "source": [
    "# Realiser un premier graphique !\n",
    "x = np.random.randn(15).cumsum()\n",
    "plt.plot(x)\n",
    "\n",
    "plt.show()"
   ]
  },
  {
   "cell_type": "markdown",
   "metadata": {},
   "source": [
    "## Structure d'un plot\n",
    "\n",
    "Avant de continuer, il est très important de comprendre comment un plot est structuré. Il existe 2 notions à bien comprendre : \n",
    "\n",
    "- la `figure` : votre canvas pour dessiner  \n",
    "- les `axes` : un espace du canvas pour plotter vos données \n",
    "\n",
    "\n",
    "Attention à ne pas confondre `axis` (les axes en francais) avec `axes`\n",
    "\n",
    "\n",
    "![struct](https://res.cloudinary.com/practicaldev/image/fetch/s--dNi3F76s--/c_limit%2Cf_auto%2Cfl_progressive%2Cq_auto%2Cw_880/https://thepracticaldev.s3.amazonaws.com/i/rr39m52m6peef1drke7m.png)\n",
    "\n",
    "\n",
    "**Il existe deux interfaces pour plotter avec la librairie matplotlib** :\n",
    "\n",
    "- Une interface simplifié : à l'aide `pyplot` qui se rapproche à Matlab \n",
    "- Une interface orientée objet : aussi appellé interface Artist, qui permet d'avoir une meilleur granularitée pour faire des plots avancés.\n",
    "\n",
    "**Nous allons explorer ces deux interfaces. Mais avant de commencer, je vous conseille de vous impregner du vocabulaire liée un plot :**\n",
    "\n",
    "![vocab](https://res.cloudinary.com/practicaldev/image/fetch/s--1x1epD95--/c_limit%2Cf_auto%2Cfl_progressive%2Cq_auto%2Cw_880/https://thepracticaldev.s3.amazonaws.com/i/b9psb0mtz7yk8qmfe26f.png)"
   ]
  },
  {
   "cell_type": "markdown",
   "metadata": {},
   "source": [
    "# Plotter à l'aide de l'interface PyPlot"
   ]
  },
  {
   "cell_type": "markdown",
   "metadata": {},
   "source": [
    "## Exercise 1 - Tracer une ligne\n",
    "\n",
    "Utiliser `pyplot` afin de créer un graphique qui ressemble à la figure ci dessous:\n",
    "\n",
    "![exo1](ex1.png)\n",
    "\n",
    "\n",
    "**Attention l'objectif n'est pas de reproduire la courbe, mais de mettre en place tous les composants et le style.**"
   ]
  },
  {
   "cell_type": "code",
   "execution_count": null,
   "metadata": {},
   "outputs": [],
   "source": [
    "# Exo1 - Help \n",
    "\n",
    "# voici la variable à plotter\n",
    "x = np.random.randn(30).cumsum()\n",
    "\n",
    "# la taille de la figure est (14,6)\n",
    "# la couleur de la ligne a le code RGB : #5445BA\n",
    "# Pour le titre la fontsize=18, fontweight=\"bold\"\n",
    "# Les labels des ticks sont en rotation de 90 degrées.\n",
    "\n"
   ]
  },
  {
   "cell_type": "markdown",
   "metadata": {},
   "source": [
    "## Exercise 2 - Tracer un histogramme\n",
    "\n",
    "A l'aide de la fonction `plt.hist()` tracez un histogramme qui resemble (dans sa structure) à l'image suivante.\n",
    "\n",
    "![exo2](ex2.png)"
   ]
  },
  {
   "cell_type": "code",
   "execution_count": null,
   "metadata": {},
   "outputs": [],
   "source": [
    "# Help exo 2\n",
    "\n",
    "# add mu and sigma to x\n",
    "x = np.random.randn(10000)\n",
    "\n",
    "# figsize=(9,6)\n",
    "# histogramme avec 40 bins. y présente la densité au lieu des valeurs !\n",
    "# n'oublies pas la legende !!"
   ]
  },
  {
   "cell_type": "markdown",
   "metadata": {},
   "source": [
    "# Interlude : styles et parametrage"
   ]
  },
  {
   "cell_type": "markdown",
   "metadata": {},
   "source": [
    "## Exercise 3 - Essayer autres styles\n",
    "\n",
    "\n",
    "Il existe plusieurs styles graphiques pour le rendu de vos plots. Vous pouvez les connaitre à l'aide de l'attribut `plt.style.available` \n",
    "\n",
    "Essayer differents styles backend et observez les résultats sur la cellule ci dessous. \n",
    "\n",
    "Voici un exemple de rendu avec le style `seaborn` :\n",
    "\n",
    "![exo3](ex3.png)\n",
    "\n",
    "Un des principes de la visualisation est : **less is more**\n",
    "\n",
    "**Quel style vous semble rendre le graphique moins chargé,  donc plus lisible ?**"
   ]
  },
  {
   "cell_type": "code",
   "execution_count": null,
   "metadata": {},
   "outputs": [],
   "source": [
    "# Quels styles sont disponibles ?"
   ]
  },
  {
   "cell_type": "code",
   "execution_count": null,
   "metadata": {},
   "outputs": [],
   "source": [
    "# Changez le style !\n",
    "\n",
    "\n",
    "# Style playing\n",
    "plt.figure(figsize=(14,6))\n",
    "\n",
    "plt.plot(np.random.randn(100).cumsum(), label=\"x\")\n",
    "plt.plot(np.random.randn(100).cumsum(), label=\"y\")\n",
    "plt.plot(np.random.randn(100).cumsum(), label=\"z\")\n",
    "plt.title(\"Checking styles\")\n",
    "\n",
    "plt.legend()\n",
    "plt.show()"
   ]
  },
  {
   "cell_type": "markdown",
   "metadata": {},
   "source": [
    "## Exercise 4 : Changez les parametres \n",
    "\n",
    "Matplotlib propose un ensemble de parametres par défaut qui sont bien pratiques. Mais souvent on se retrouve à répéter toujours la meme instruction. \n",
    "\n",
    "Le cas typique est la taille par défaut d'une figure. Lorsque nous sommes sur notre notebook nous avons regulirement besoin d'une figure de plus grand taille.\n",
    "\n",
    "Les parametres sont stockés dans un `dict()`, ce dictionnaire est l'attribut `rcParams` de `plt`.\n",
    "\n",
    "- Explorez rapidement ce dictionnaire.\n",
    "- Changez le parametre de la taille de figure par défaut vers qq chose qui vous convient.  \n",
    "- Nous allons par la suite utiliser le style seaborn, mais le background attire trop l'oeil. Changez le facecolor. Comme par exemple la couleur RGB `#f2f2f2` ou alors `#f1f3f9`.\n",
    "\n",
    "Voici un exemple de ce que cela peut donner.\n",
    "\n",
    "![exo4](ex4.png)"
   ]
  },
  {
   "cell_type": "code",
   "execution_count": null,
   "metadata": {},
   "outputs": [],
   "source": [
    "# Changez les parametre par défaut\n"
   ]
  },
  {
   "cell_type": "code",
   "execution_count": null,
   "metadata": {},
   "outputs": [],
   "source": [
    "# Vérifier l'échange de vos parametrage de Matplotlib\n",
    "ax = plt.figure(figsize=(14,6))\n",
    "\n",
    "plt.plot(np.random.randn(100).cumsum(), label=\"x\")\n",
    "plt.plot(np.random.randn(100).cumsum(), label=\"y\")\n",
    "plt.plot(np.random.randn(100).cumsum(), label=\"z\")\n",
    "plt.title(\"Checking parameters\")\n",
    "print(ax)\n",
    "plt.legend()\n",
    "plt.show()"
   ]
  },
  {
   "cell_type": "markdown",
   "metadata": {},
   "source": [
    "## Plotter avec l'interface Artist.\n",
    "\n",
    "`pyplot` est une interface qui permet de travailler sur des cas de visualisation faciles. \n",
    "Mais des que nous souhaitons aller plus loin, l'interface trouve ses limites.\n",
    "\n",
    "Le cas le plus concret est lorsque nous souhaitons tracer plusieurs graphiques (a.k.a. `axes`) dans le meme canvas (a.k.a. `figure`).\n",
    "\n",
    "Pour tracer des subplots, nous devons travailler directement avec les objets de la classe `Figure` et `Axes`. Ce que l'on appelle bosser directement sur les objets de la couche *Artist*. \n",
    "\n",
    "Voici un exemple :\n",
    "\n",
    "```python\n",
    "    fig = plt.figure() # créer un objet de type Figure (canvas)\n",
    "    ax = fig.add_subplot(nrows, ncols, plot_number) # creér un objet de type Axes\n",
    "```\n",
    "\n",
    "- `nrows` et `ncols` decoupe la figure en (`nrows` \\* `ncols`) sub-axes,  \n",
    "- `plot_number` est l'identifiant d'un plot particulier. \n",
    "\n",
    "**Remarque** `plot_number` commence à 1, et fini à `nrows` \\* `ncols` \n",
    "\n",
    "L'image suivante devrait vous aider à comprendre la logique des subplots :\n",
    "\n",
    "![subplots](subplots.png \"source: IBM\")\n",
    "\n",
    "\n",
    "## Exercise 5 : Faire des subplots\n",
    "\n",
    "Reproduisez avec exactitude la figure suivante.\n",
    "\n",
    "![exo5](ex5.png)\n",
    "\n",
    "Quelques pistes :\n",
    "\n",
    "- Il s'agit d'une grille 2x2\n",
    "- Pour le texte sur 4ème axes rajoutez du texte à l'aide de la fonction `text` qui se trouve dans l'objet du type `Axes`.\n",
    "- La couleur du texte est `green`\n",
    "\n",
    "https://matplotlib.org/3.1.1/gallery/pyplots/text_commands.html#sphx-glr-gallery-pyplots-text-commands-py "
   ]
  },
  {
   "cell_type": "code",
   "execution_count": null,
   "metadata": {
    "scrolled": false
   },
   "outputs": [],
   "source": [
    "# TODO Exercise subplot"
   ]
  },
  {
   "cell_type": "markdown",
   "metadata": {},
   "source": [
    "## Exercise 6 : 'Traduction' de pyplot à artist\n",
    "\n",
    "Traduisez le code suivant vers l'interface objet de matplotlib"
   ]
  },
  {
   "cell_type": "code",
   "execution_count": null,
   "metadata": {},
   "outputs": [],
   "source": [
    "x = np.arange(30)\n",
    "y = np.arange(30) + 3*np.random.randn(30)\n",
    "\n",
    "plt.scatter(x , y , color=\"orangered\", s=20*x)\n",
    "\n",
    "plt.title(\"Scatter plot\", fontsize=18, fontweight=\"bold\")\n",
    "plt.xlabel(\"Values of X\", fontweight=\"bold\")\n",
    "plt.ylabel(\"Values of Y\", fontweight=\"bold\")\n",
    "plt.xticks(x, labels=x + 1990, rotation=45, color=\"darkred\")\n",
    "plt.show()"
   ]
  },
  {
   "cell_type": "code",
   "execution_count": null,
   "metadata": {},
   "outputs": [],
   "source": [
    "# Utiliser la méthode artiste"
   ]
  },
  {
   "cell_type": "markdown",
   "metadata": {},
   "source": [
    "# Pour aller plus loin\n",
    "\n",
    "- L'histoire de Matplotlib\n",
    "    - https://matplotlib.org/users/history.html\n",
    " \n",
    "- Les styles, le parametrage et les couleurs\n",
    "    - https://matplotlib.org/3.1.0/gallery/style_sheets/style_sheets_reference.html\n",
    "    - https://matplotlib.org/tutorials/introductory/customizing.html\n",
    "    - https://matplotlib.org/3.1.0/gallery/color/named_colors.html\n",
    "    \n",
    "- La difference entre pyplot and axes\n",
    "\t- https://stackoverflow.com/questions/37970424/what-is-the-difference-between-drawing-plots-using-plot-axes-or-figure-in-matpl\n",
    "    \n",
    "- The Artist interface\n",
    "    - https://dev.to/skotaro/artist-in-matplotlib---something-i-wanted-to-know-before-spending-tremendous-hours-on-googling-how-tos--31oo\n",
    "\n",
    "- Exemple d'une entreprise qui fait de la visu son coeur métier\n",
    "    - https://www.darkhorseanalytics.com/portfolio-all\n",
    "    - http://babynames.dha.io/\n"
   ]
  }
 ],
 "metadata": {
  "kernelspec": {
   "display_name": "Python 3",
   "language": "python",
   "name": "python3"
  },
  "language_info": {
   "codemirror_mode": {
    "name": "ipython",
    "version": 3
   },
   "file_extension": ".py",
   "mimetype": "text/x-python",
   "name": "python",
   "nbconvert_exporter": "python",
   "pygments_lexer": "ipython3",
   "version": "3.7.6"
  },
  "toc": {
   "base_numbering": 1,
   "nav_menu": {},
   "number_sections": true,
   "sideBar": true,
   "skip_h1_title": false,
   "title_cell": "Table of Contents",
   "title_sidebar": "Contents",
   "toc_cell": false,
   "toc_position": {
    "height": "calc(100% - 180px)",
    "left": "10px",
    "top": "150px",
    "width": "288px"
   },
   "toc_section_display": true,
   "toc_window_display": true
  }
 },
 "nbformat": 4,
 "nbformat_minor": 2
}
