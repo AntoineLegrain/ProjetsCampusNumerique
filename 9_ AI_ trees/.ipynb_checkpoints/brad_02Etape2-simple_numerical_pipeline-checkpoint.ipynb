{
 "cells": [
  {
   "cell_type": "code",
   "execution_count": 1,
   "metadata": {},
   "outputs": [],
   "source": [
    "import pandas as pd\n",
    "import numpy as np\n",
    "%matplotlib inline"
   ]
  },
  {
   "cell_type": "markdown",
   "metadata": {},
   "source": [
    "## load data"
   ]
  },
  {
   "cell_type": "code",
   "execution_count": 2,
   "metadata": {},
   "outputs": [],
   "source": [
    "trees = pd.read_pickle('./../data/modified/trees_first_clean.pkl')"
   ]
  },
  {
   "cell_type": "code",
   "execution_count": 3,
   "metadata": {},
   "outputs": [
    {
     "data": {
      "text/html": [
       "<div>\n",
       "<style scoped>\n",
       "    .dataframe tbody tr th:only-of-type {\n",
       "        vertical-align: middle;\n",
       "    }\n",
       "\n",
       "    .dataframe tbody tr th {\n",
       "        vertical-align: top;\n",
       "    }\n",
       "\n",
       "    .dataframe thead th {\n",
       "        text-align: right;\n",
       "    }\n",
       "</style>\n",
       "<table border=\"1\" class=\"dataframe\">\n",
       "  <thead>\n",
       "    <tr style=\"text-align: right;\">\n",
       "      <th></th>\n",
       "      <th>ELEM_POINT_ID</th>\n",
       "      <th>CODE</th>\n",
       "      <th>SOUS_CATEGORIE</th>\n",
       "      <th>SOUS_CATEGORIE_DESC</th>\n",
       "      <th>CODE_PARENT</th>\n",
       "      <th>CODE_PARENT_DESC</th>\n",
       "      <th>ADR_SECTEUR</th>\n",
       "      <th>GENRE_BOTA</th>\n",
       "      <th>ESPECE</th>\n",
       "      <th>VARIETE</th>\n",
       "      <th>STADEDEDEVELOPPEMENT</th>\n",
       "      <th>ANNEEDEPLANTATION</th>\n",
       "      <th>COLLECTIVITE</th>\n",
       "      <th>LONGITUDE</th>\n",
       "      <th>LATITUDE</th>\n",
       "    </tr>\n",
       "  </thead>\n",
       "  <tbody>\n",
       "    <tr>\n",
       "      <th>0</th>\n",
       "      <td>31906</td>\n",
       "      <td>ESP32632</td>\n",
       "      <td>ESP174</td>\n",
       "      <td>Arbre d'espaces ouverts</td>\n",
       "      <td>ESP995</td>\n",
       "      <td>Prc Echangeurs Bastion St Roch</td>\n",
       "      <td>5</td>\n",
       "      <td>Acer</td>\n",
       "      <td>pseudoplatanus</td>\n",
       "      <td>NaN</td>\n",
       "      <td>Arbre adulte</td>\n",
       "      <td>2001.0</td>\n",
       "      <td>Ville de Grenoble</td>\n",
       "      <td>5.740727</td>\n",
       "      <td>45.190539</td>\n",
       "    </tr>\n",
       "    <tr>\n",
       "      <th>1</th>\n",
       "      <td>31905</td>\n",
       "      <td>ESP32631</td>\n",
       "      <td>ESP174</td>\n",
       "      <td>Arbre d'espaces ouverts</td>\n",
       "      <td>ESP995</td>\n",
       "      <td>Prc Echangeurs Bastion St Roch</td>\n",
       "      <td>5</td>\n",
       "      <td>Acer</td>\n",
       "      <td>pseudoplatanus</td>\n",
       "      <td>NaN</td>\n",
       "      <td>Arbre adulte</td>\n",
       "      <td>2001.0</td>\n",
       "      <td>Ville de Grenoble</td>\n",
       "      <td>5.740748</td>\n",
       "      <td>45.190525</td>\n",
       "    </tr>\n",
       "    <tr>\n",
       "      <th>2</th>\n",
       "      <td>31904</td>\n",
       "      <td>ESP32630</td>\n",
       "      <td>ESP174</td>\n",
       "      <td>Arbre d'espaces ouverts</td>\n",
       "      <td>ESP995</td>\n",
       "      <td>Prc Echangeurs Bastion St Roch</td>\n",
       "      <td>5</td>\n",
       "      <td>Acer</td>\n",
       "      <td>pseudoplatanus</td>\n",
       "      <td>NaN</td>\n",
       "      <td>Arbre adulte</td>\n",
       "      <td>2001.0</td>\n",
       "      <td>Ville de Grenoble</td>\n",
       "      <td>5.740697</td>\n",
       "      <td>45.190498</td>\n",
       "    </tr>\n",
       "    <tr>\n",
       "      <th>3</th>\n",
       "      <td>31903</td>\n",
       "      <td>ESP32629</td>\n",
       "      <td>ESP174</td>\n",
       "      <td>Arbre d'espaces ouverts</td>\n",
       "      <td>ESP995</td>\n",
       "      <td>Prc Echangeurs Bastion St Roch</td>\n",
       "      <td>5</td>\n",
       "      <td>Acer</td>\n",
       "      <td>pseudoplatanus</td>\n",
       "      <td>NaN</td>\n",
       "      <td>Arbre adulte</td>\n",
       "      <td>2001.0</td>\n",
       "      <td>Ville de Grenoble</td>\n",
       "      <td>5.740675</td>\n",
       "      <td>45.190491</td>\n",
       "    </tr>\n",
       "    <tr>\n",
       "      <th>4</th>\n",
       "      <td>31902</td>\n",
       "      <td>ESP32628</td>\n",
       "      <td>ESP174</td>\n",
       "      <td>Arbre d'espaces ouverts</td>\n",
       "      <td>ESP995</td>\n",
       "      <td>Prc Echangeurs Bastion St Roch</td>\n",
       "      <td>5</td>\n",
       "      <td>Acer</td>\n",
       "      <td>pseudoplatanus</td>\n",
       "      <td>NaN</td>\n",
       "      <td>Arbre adulte</td>\n",
       "      <td>2001.0</td>\n",
       "      <td>Ville de Grenoble</td>\n",
       "      <td>5.740702</td>\n",
       "      <td>45.190479</td>\n",
       "    </tr>\n",
       "  </tbody>\n",
       "</table>\n",
       "</div>"
      ],
      "text/plain": [
       "   ELEM_POINT_ID      CODE SOUS_CATEGORIE      SOUS_CATEGORIE_DESC  \\\n",
       "0          31906  ESP32632         ESP174  Arbre d'espaces ouverts   \n",
       "1          31905  ESP32631         ESP174  Arbre d'espaces ouverts   \n",
       "2          31904  ESP32630         ESP174  Arbre d'espaces ouverts   \n",
       "3          31903  ESP32629         ESP174  Arbre d'espaces ouverts   \n",
       "4          31902  ESP32628         ESP174  Arbre d'espaces ouverts   \n",
       "\n",
       "  CODE_PARENT                CODE_PARENT_DESC  ADR_SECTEUR GENRE_BOTA  \\\n",
       "0      ESP995  Prc Echangeurs Bastion St Roch            5       Acer   \n",
       "1      ESP995  Prc Echangeurs Bastion St Roch            5       Acer   \n",
       "2      ESP995  Prc Echangeurs Bastion St Roch            5       Acer   \n",
       "3      ESP995  Prc Echangeurs Bastion St Roch            5       Acer   \n",
       "4      ESP995  Prc Echangeurs Bastion St Roch            5       Acer   \n",
       "\n",
       "           ESPECE VARIETE STADEDEDEVELOPPEMENT  ANNEEDEPLANTATION  \\\n",
       "0  pseudoplatanus     NaN         Arbre adulte             2001.0   \n",
       "1  pseudoplatanus     NaN         Arbre adulte             2001.0   \n",
       "2  pseudoplatanus     NaN         Arbre adulte             2001.0   \n",
       "3  pseudoplatanus     NaN         Arbre adulte             2001.0   \n",
       "4  pseudoplatanus     NaN         Arbre adulte             2001.0   \n",
       "\n",
       "        COLLECTIVITE  LONGITUDE   LATITUDE  \n",
       "0  Ville de Grenoble   5.740727  45.190539  \n",
       "1  Ville de Grenoble   5.740748  45.190525  \n",
       "2  Ville de Grenoble   5.740697  45.190498  \n",
       "3  Ville de Grenoble   5.740675  45.190491  \n",
       "4  Ville de Grenoble   5.740702  45.190479  "
      ]
     },
     "execution_count": 3,
     "metadata": {},
     "output_type": "execute_result"
    }
   ],
   "source": [
    "trees.head()"
   ]
  },
  {
   "cell_type": "code",
   "execution_count": 4,
   "metadata": {},
   "outputs": [
    {
     "data": {
      "text/plain": [
       "Index(['ELEM_POINT_ID', 'CODE', 'SOUS_CATEGORIE', 'SOUS_CATEGORIE_DESC',\n",
       "       'CODE_PARENT', 'CODE_PARENT_DESC', 'ADR_SECTEUR', 'GENRE_BOTA',\n",
       "       'ESPECE', 'VARIETE', 'STADEDEDEVELOPPEMENT', 'ANNEEDEPLANTATION',\n",
       "       'COLLECTIVITE', 'LONGITUDE', 'LATITUDE'],\n",
       "      dtype='object')"
      ]
     },
     "execution_count": 4,
     "metadata": {},
     "output_type": "execute_result"
    }
   ],
   "source": [
    "trees.columns"
   ]
  },
  {
   "cell_type": "markdown",
   "metadata": {},
   "source": [
    "# make train test split"
   ]
  },
  {
   "cell_type": "markdown",
   "metadata": {},
   "source": [
    "#### random split"
   ]
  },
  {
   "cell_type": "code",
   "execution_count": 5,
   "metadata": {},
   "outputs": [],
   "source": [
    "year = trees.pop('ANNEEDEPLANTATION')"
   ]
  },
  {
   "cell_type": "code",
   "execution_count": 6,
   "metadata": {},
   "outputs": [],
   "source": [
    "from sklearn.model_selection import train_test_split"
   ]
  },
  {
   "cell_type": "code",
   "execution_count": 7,
   "metadata": {},
   "outputs": [],
   "source": [
    "X_train, X_test, y_train, y_test = train_test_split(trees, year, random_state = 800)"
   ]
  },
  {
   "cell_type": "code",
   "execution_count": 8,
   "metadata": {},
   "outputs": [
    {
     "data": {
      "text/plain": [
       "(22816,)"
      ]
     },
     "execution_count": 8,
     "metadata": {},
     "output_type": "execute_result"
    }
   ],
   "source": [
    "y_train.shape"
   ]
  },
  {
   "cell_type": "code",
   "execution_count": 9,
   "metadata": {},
   "outputs": [
    {
     "data": {
      "text/plain": [
       "(7606,)"
      ]
     },
     "execution_count": 9,
     "metadata": {},
     "output_type": "execute_result"
    }
   ],
   "source": [
    "y_test.shape"
   ]
  },
  {
   "cell_type": "markdown",
   "metadata": {},
   "source": [
    "# basic stats"
   ]
  },
  {
   "cell_type": "code",
   "execution_count": 10,
   "metadata": {},
   "outputs": [
    {
     "data": {
      "text/html": [
       "<div>\n",
       "<style scoped>\n",
       "    .dataframe tbody tr th:only-of-type {\n",
       "        vertical-align: middle;\n",
       "    }\n",
       "\n",
       "    .dataframe tbody tr th {\n",
       "        vertical-align: top;\n",
       "    }\n",
       "\n",
       "    .dataframe thead th {\n",
       "        text-align: right;\n",
       "    }\n",
       "</style>\n",
       "<table border=\"1\" class=\"dataframe\">\n",
       "  <thead>\n",
       "    <tr style=\"text-align: right;\">\n",
       "      <th></th>\n",
       "      <th>ELEM_POINT_ID</th>\n",
       "      <th>ADR_SECTEUR</th>\n",
       "      <th>LONGITUDE</th>\n",
       "      <th>LATITUDE</th>\n",
       "    </tr>\n",
       "  </thead>\n",
       "  <tbody>\n",
       "    <tr>\n",
       "      <th>count</th>\n",
       "      <td>22816.000000</td>\n",
       "      <td>22816.000000</td>\n",
       "      <td>22816.000000</td>\n",
       "      <td>22816.000000</td>\n",
       "    </tr>\n",
       "    <tr>\n",
       "      <th>mean</th>\n",
       "      <td>17650.728524</td>\n",
       "      <td>3.870004</td>\n",
       "      <td>5.727232</td>\n",
       "      <td>45.176694</td>\n",
       "    </tr>\n",
       "    <tr>\n",
       "      <th>std</th>\n",
       "      <td>10413.879692</td>\n",
       "      <td>1.697305</td>\n",
       "      <td>0.012692</td>\n",
       "      <td>0.011814</td>\n",
       "    </tr>\n",
       "    <tr>\n",
       "      <th>min</th>\n",
       "      <td>2.000000</td>\n",
       "      <td>1.000000</td>\n",
       "      <td>5.697915</td>\n",
       "      <td>45.151572</td>\n",
       "    </tr>\n",
       "    <tr>\n",
       "      <th>25%</th>\n",
       "      <td>8696.750000</td>\n",
       "      <td>2.000000</td>\n",
       "      <td>5.717458</td>\n",
       "      <td>45.165806</td>\n",
       "    </tr>\n",
       "    <tr>\n",
       "      <th>50%</th>\n",
       "      <td>17476.500000</td>\n",
       "      <td>4.000000</td>\n",
       "      <td>5.729647</td>\n",
       "      <td>45.175359</td>\n",
       "    </tr>\n",
       "    <tr>\n",
       "      <th>75%</th>\n",
       "      <td>26157.500000</td>\n",
       "      <td>5.000000</td>\n",
       "      <td>5.737346</td>\n",
       "      <td>45.186574</td>\n",
       "    </tr>\n",
       "    <tr>\n",
       "      <th>max</th>\n",
       "      <td>39374.000000</td>\n",
       "      <td>6.000000</td>\n",
       "      <td>5.760530</td>\n",
       "      <td>45.207024</td>\n",
       "    </tr>\n",
       "  </tbody>\n",
       "</table>\n",
       "</div>"
      ],
      "text/plain": [
       "       ELEM_POINT_ID   ADR_SECTEUR     LONGITUDE      LATITUDE\n",
       "count   22816.000000  22816.000000  22816.000000  22816.000000\n",
       "mean    17650.728524      3.870004      5.727232     45.176694\n",
       "std     10413.879692      1.697305      0.012692      0.011814\n",
       "min         2.000000      1.000000      5.697915     45.151572\n",
       "25%      8696.750000      2.000000      5.717458     45.165806\n",
       "50%     17476.500000      4.000000      5.729647     45.175359\n",
       "75%     26157.500000      5.000000      5.737346     45.186574\n",
       "max     39374.000000      6.000000      5.760530     45.207024"
      ]
     },
     "execution_count": 10,
     "metadata": {},
     "output_type": "execute_result"
    }
   ],
   "source": [
    "X_train.describe()"
   ]
  },
  {
   "cell_type": "code",
   "execution_count": 11,
   "metadata": {},
   "outputs": [
    {
     "data": {
      "image/png": "[encoded data removed]",
      "text/plain": [
       "<Figure size 432x288 with 1 Axes>"
      ]
     },
     "metadata": {
      "needs_background": "light"
     },
     "output_type": "display_data"
    }
   ],
   "source": [
    "y_train.hist(bins=50);"
   ]
  },
  {
   "cell_type": "code",
   "execution_count": 12,
   "metadata": {},
   "outputs": [
    {
     "data": {
      "image/png": "[encoded data removed]",
      "text/plain": [
       "<Figure size 432x288 with 4 Axes>"
      ]
     },
     "metadata": {
      "needs_background": "light"
     },
     "output_type": "display_data"
    }
   ],
   "source": [
    "X_train.hist();"
   ]
  },
  {
   "cell_type": "code",
   "execution_count": 13,
   "metadata": {},
   "outputs": [
    {
     "data": {
      "text/plain": [
       "ELEM_POINT_ID               0\n",
       "CODE                        0\n",
       "SOUS_CATEGORIE              0\n",
       "SOUS_CATEGORIE_DESC         0\n",
       "CODE_PARENT                 0\n",
       "CODE_PARENT_DESC            0\n",
       "ADR_SECTEUR                 0\n",
       "GENRE_BOTA                 46\n",
       "ESPECE                   1897\n",
       "VARIETE                 26209\n",
       "STADEDEDEVELOPPEMENT     1305\n",
       "COLLECTIVITE                0\n",
       "LONGITUDE                   0\n",
       "LATITUDE                    0\n",
       "dtype: int64"
      ]
     },
     "execution_count": 13,
     "metadata": {},
     "output_type": "execute_result"
    }
   ],
   "source": [
    "trees.isnull().sum()"
   ]
  },
  {
   "cell_type": "markdown",
   "metadata": {},
   "source": [
    "# Naive model\n",
    "\n",
    "Based on average tree age"
   ]
  },
  {
   "cell_type": "code",
   "execution_count": 14,
   "metadata": {},
   "outputs": [
    {
     "data": {
      "text/plain": [
       "1985.0"
      ]
     },
     "execution_count": 14,
     "metadata": {},
     "output_type": "execute_result"
    }
   ],
   "source": [
    "y_train.median()"
   ]
  },
  {
   "cell_type": "code",
   "execution_count": 15,
   "metadata": {},
   "outputs": [
    {
     "data": {
      "text/plain": [
       "(7606, 14)"
      ]
     },
     "execution_count": 15,
     "metadata": {},
     "output_type": "execute_result"
    }
   ],
   "source": [
    "X_test.shape"
   ]
  },
  {
   "cell_type": "code",
   "execution_count": 16,
   "metadata": {},
   "outputs": [],
   "source": [
    "y_test_pred = np.ones(len(X_test)) * y_train.median()"
   ]
  },
  {
   "cell_type": "code",
   "execution_count": 17,
   "metadata": {},
   "outputs": [
    {
     "data": {
      "text/plain": [
       "array([1985., 1985., 1985., ..., 1985., 1985., 1985.])"
      ]
     },
     "execution_count": 17,
     "metadata": {},
     "output_type": "execute_result"
    }
   ],
   "source": [
    "y_test_pred"
   ]
  },
  {
   "cell_type": "code",
   "execution_count": 18,
   "metadata": {},
   "outputs": [
    {
     "name": "stdout",
     "output_type": "stream",
     "text": [
      "Root mean squared error:  16.85826672529921\n"
     ]
    }
   ],
   "source": [
    "from sklearn.metrics import mean_squared_error\n",
    "\n",
    "mse = mean_squared_error(y_test, y_test_pred)\n",
    "print('Root mean squared error: ', np.sqrt(mse))"
   ]
  },
  {
   "cell_type": "code",
   "execution_count": 19,
   "metadata": {},
   "outputs": [
    {
     "data": {
      "text/plain": [
       "count    22816.000000\n",
       "mean      1988.234353\n",
       "std         16.451785\n",
       "min       1950.000000\n",
       "25%       1975.000000\n",
       "50%       1985.000000\n",
       "75%       2001.000000\n",
       "max       2018.000000\n",
       "Name: ANNEEDEPLANTATION, dtype: float64"
      ]
     },
     "execution_count": 19,
     "metadata": {},
     "output_type": "execute_result"
    }
   ],
   "source": [
    "y_train.describe()"
   ]
  },
  {
   "cell_type": "markdown",
   "metadata": {},
   "source": [
    "# Prepare data"
   ]
  },
  {
   "cell_type": "markdown",
   "metadata": {},
   "source": [
    "### make pipelines for numerical"
   ]
  },
  {
   "cell_type": "code",
   "execution_count": 21,
   "metadata": {},
   "outputs": [],
   "source": [
    "from sklearn.base import BaseEstimator, TransformerMixin\n",
    "from sklearn.impute import SimpleImputer\n",
    "from sklearn.pipeline import Pipeline\n",
    "from sklearn.preprocessing import StandardScaler\n",
    "from sklearn.preprocessing import OneHotEncoder\n",
    "\n",
    "# Create a class to select numerical or categorical columns \n",
    "class DataFrameSelector(BaseEstimator, TransformerMixin):\n",
    "    def __init__(self, attribute_names):\n",
    "        self.attribute_names = attribute_names\n",
    "    def fit(self, X, y=None):\n",
    "        return self\n",
    "    def transform(self, X):\n",
    "        return X[self.attribute_names].values"
   ]
  },
  {
   "cell_type": "code",
   "execution_count": 50,
   "metadata": {},
   "outputs": [],
   "source": [
    "num_attribs = ['LONGITUDE', 'LATITUDE']\n",
    "\n",
    "num_pipeline = Pipeline([\n",
    "        ('selector', DataFrameSelector(num_attribs)),\n",
    "        ('imputer', SimpleImputer(strategy=\"median\")),\n",
    "#         ('attribs_adder', CombinedAttributesAdder()),\n",
    "        ('std_scaler', StandardScaler()),\n",
    "    ])"
   ]
  },
  {
   "cell_type": "code",
   "execution_count": 51,
   "metadata": {},
   "outputs": [
    {
     "data": {
      "text/html": [
       "<div>\n",
       "<style scoped>\n",
       "    .dataframe tbody tr th:only-of-type {\n",
       "        vertical-align: middle;\n",
       "    }\n",
       "\n",
       "    .dataframe tbody tr th {\n",
       "        vertical-align: top;\n",
       "    }\n",
       "\n",
       "    .dataframe thead th {\n",
       "        text-align: right;\n",
       "    }\n",
       "</style>\n",
       "<table border=\"1\" class=\"dataframe\">\n",
       "  <thead>\n",
       "    <tr style=\"text-align: right;\">\n",
       "      <th></th>\n",
       "      <th>LONGITUDE</th>\n",
       "      <th>LATITUDE</th>\n",
       "    </tr>\n",
       "  </thead>\n",
       "  <tbody>\n",
       "    <tr>\n",
       "      <th>10785</th>\n",
       "      <td>5.708942</td>\n",
       "      <td>45.192967</td>\n",
       "    </tr>\n",
       "    <tr>\n",
       "      <th>29131</th>\n",
       "      <td>5.716428</td>\n",
       "      <td>45.188666</td>\n",
       "    </tr>\n",
       "    <tr>\n",
       "      <th>25124</th>\n",
       "      <td>5.721933</td>\n",
       "      <td>45.162200</td>\n",
       "    </tr>\n",
       "    <tr>\n",
       "      <th>9493</th>\n",
       "      <td>5.734030</td>\n",
       "      <td>45.193838</td>\n",
       "    </tr>\n",
       "    <tr>\n",
       "      <th>30859</th>\n",
       "      <td>5.726477</td>\n",
       "      <td>45.184027</td>\n",
       "    </tr>\n",
       "  </tbody>\n",
       "</table>\n",
       "</div>"
      ],
      "text/plain": [
       "       LONGITUDE   LATITUDE\n",
       "10785   5.708942  45.192967\n",
       "29131   5.716428  45.188666\n",
       "25124   5.721933  45.162200\n",
       "9493    5.734030  45.193838\n",
       "30859   5.726477  45.184027"
      ]
     },
     "execution_count": 51,
     "metadata": {},
     "output_type": "execute_result"
    }
   ],
   "source": [
    "X_train[num_attribs].head()"
   ]
  },
  {
   "cell_type": "code",
   "execution_count": 56,
   "metadata": {},
   "outputs": [],
   "source": [
    "X_trainT = num_pipeline.fit_transform(X_train)\n",
    "# X_trainT.shape"
   ]
  },
  {
   "cell_type": "code",
   "execution_count": 57,
   "metadata": {},
   "outputs": [
    {
     "data": {
      "text/plain": [
       "array([[ 0.47190154, -0.63358213],\n",
       "       [ 0.52563397,  0.63714848],\n",
       "       [ 0.70506824, -1.03152913],\n",
       "       ...,\n",
       "       [-1.62947103,  1.06306123],\n",
       "       [ 0.50665379,  0.79650053],\n",
       "       [ 0.86095587,  0.78431325]])"
      ]
     },
     "execution_count": 57,
     "metadata": {},
     "output_type": "execute_result"
    }
   ],
   "source": [
    "num_pipeline.transform(X_test)"
   ]
  },
  {
   "cell_type": "code",
   "execution_count": null,
   "metadata": {},
   "outputs": [],
   "source": []
  },
  {
   "cell_type": "markdown",
   "metadata": {},
   "source": [
    "#### Start modelling!"
   ]
  },
  {
   "cell_type": "code",
   "execution_count": 58,
   "metadata": {},
   "outputs": [
    {
     "name": "stdout",
     "output_type": "stream",
     "text": [
      "Cross validation results\n"
     ]
    },
    {
     "data": {
      "text/plain": [
       "count    10.000000\n",
       "mean     16.203110\n",
       "std       0.228174\n",
       "min      15.740728\n",
       "25%      16.062934\n",
       "50%      16.258043\n",
       "75%      16.350008\n",
       "max      16.546170\n",
       "dtype: float64"
      ]
     },
     "execution_count": 58,
     "metadata": {},
     "output_type": "execute_result"
    }
   ],
   "source": [
    "from sklearn.linear_model import LinearRegression\n",
    "from sklearn.model_selection import cross_val_score\n",
    "lin_reg = LinearRegression()\n",
    "\n",
    "scores = cross_val_score(lin_reg, X_trainT, y_train, scoring='neg_mean_squared_error', cv=10)\n",
    "print('Cross validation results')\n",
    "pd.Series(np.sqrt(-scores)).describe()\n"
   ]
  },
  {
   "cell_type": "code",
   "execution_count": 59,
   "metadata": {},
   "outputs": [
    {
     "name": "stdout",
     "output_type": "stream",
     "text": [
      "Cross validation results\n"
     ]
    },
    {
     "data": {
      "text/plain": [
       "count    10.000000\n",
       "mean     11.509024\n",
       "std       0.370723\n",
       "min      10.780765\n",
       "25%      11.377563\n",
       "50%      11.503802\n",
       "75%      11.673765\n",
       "max      12.210111\n",
       "dtype: float64"
      ]
     },
     "execution_count": 59,
     "metadata": {},
     "output_type": "execute_result"
    }
   ],
   "source": [
    "from sklearn.tree import DecisionTreeRegressor\n",
    "\n",
    "tree_reg = DecisionTreeRegressor(random_state=43)\n",
    "\n",
    "scores = cross_val_score(tree_reg, X_trainT, y_train, scoring='neg_mean_squared_error', cv=10)\n",
    "print('Cross validation results')\n",
    "pd.Series(np.sqrt(-scores)).describe()\n"
   ]
  },
  {
   "cell_type": "code",
   "execution_count": null,
   "metadata": {},
   "outputs": [],
   "source": []
  },
  {
   "cell_type": "markdown",
   "metadata": {},
   "source": [
    "TO DO NEXT:\n",
    "* try to create a pipeline only for catagorical variables!\n",
    "* build some models with this transformed data\n",
    "* decide if they are better\n",
    "\n",
    "* is it worth combining both catagorical and numerical vars? If so try to combine both pipelines!"
   ]
  },
  {
   "cell_type": "code",
   "execution_count": null,
   "metadata": {},
   "outputs": [],
   "source": []
  },
  {
   "cell_type": "code",
   "execution_count": null,
   "metadata": {},
   "outputs": [],
   "source": []
  }
 ],
 "metadata": {
  "kernelspec": {
   "display_name": "Python 3",
   "language": "python",
   "name": "python3"
  },
  "language_info": {
   "codemirror_mode": {
    "name": "ipython",
    "version": 3
   },
   "file_extension": ".py",
   "mimetype": "text/x-python",
   "name": "python",
   "nbconvert_exporter": "python",
   "pygments_lexer": "ipython3",
   "version": "3.7.6"
  },
  "toc": {
   "base_numbering": 1,
   "nav_menu": {},
   "number_sections": true,
   "sideBar": true,
   "skip_h1_title": false,
   "title_cell": "Table of Contents",
   "title_sidebar": "Contents",
   "toc_cell": false,
   "toc_position": {},
   "toc_section_display": true,
   "toc_window_display": false
  }
 },
 "nbformat": 4,
 "nbformat_minor": 2
}
