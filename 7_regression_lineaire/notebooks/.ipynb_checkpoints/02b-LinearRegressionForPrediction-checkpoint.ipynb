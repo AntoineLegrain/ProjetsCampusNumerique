{
 "cells": [
  {
   "cell_type": "code",
   "execution_count": 134,
   "metadata": {},
   "outputs": [],
   "source": [
    "import numpy as np\n",
    "from matplotlib import pyplot as plt"
   ]
  },
  {
   "cell_type": "markdown",
   "metadata": {},
   "source": [
    "# Linear regression for prediction\n",
    "\n",
    "For the remainder of the course we will look at using linear regression in a more algorithmic/computer science/machine learning context. In this notebook we will take a more detailed look at conducting linear regression in `scikit-learn`, you will:\n",
    "* write your own code to compute MSE\n",
    "* Learn what training and testing sets are\n",
    "* Use `scikit-learn` to perform a multiple linear regression\n",
    "* Evaluate your results\n",
    "* Create a model to predict housing prices\n"
   ]
  },
  {
   "cell_type": "markdown",
   "metadata": {},
   "source": [
    "## Assesing model accuracy\n",
    "\n",
    "We always must evaluate how 'good' our model is in order to understand how it performs. One common meaure of accuracy (or error) for a regression type problem is **Mean Squared Error (MSE)**. This can be calculated using the following formula:\n",
    "\n",
    "<div style=\"font-size: 120%;\">  \n",
    "$$ MSE = \\frac{1}{n} \\sum_{i=1}^n (y_i − \\hat{f}(x_i))^2, $$\n",
    "</div>\n",
    "\n",
    "where $y_i$ is the true values and $\\hat{f}(x_i)$ is the predicted values by our model over $n$ samples.\n",
    "\n",
    "### Excercise 1: write a function to calculate MSE\n",
    "\n",
    "Given the lists of true values and predictions write a function that calculates the MSE of this data. \n",
    "\n",
    "\n",
    "<details><summary>HINT</summary><br>\n",
    "using numpy arrays will make this much easier.\n",
    "</details>"
   ]
  },
  {
   "cell_type": "code",
   "execution_count": 3,
   "metadata": {},
   "outputs": [],
   "source": [
    "true_values = [13.9, 20.3, 2.1, 8.8, 5.2]\n",
    "predicted_vals = [14.3, 18.9, 3.4, 8.9, 5.0]"
   ]
  },
  {
   "cell_type": "code",
   "execution_count": 12,
   "metadata": {},
   "outputs": [
    {
     "name": "stdout",
     "output_type": "stream",
     "text": [
      "0.7720000000000011\n"
     ]
    }
   ],
   "source": [
    "### your solution here\n",
    "true_values=np.asarray(true_values)\n",
    "predicted_vals=np.asarray(predicted_vals)\n",
    "MSE=((true_values-predicted_vals)**2).sum()/len(true_values)\n",
    "print(MSE)"
   ]
  },
  {
   "cell_type": "markdown",
   "metadata": {},
   "source": [
    "### MSE evaluation in sklearn"
   ]
  },
  {
   "cell_type": "markdown",
   "metadata": {},
   "source": [
    "`Scikit-Learn` provides a function to calculate MSE (as well as other useful performance metrics) so that you dont have to carry around your function to all the different projects you work on. We can use this to evaluate our function and check that we got the correct answer in the excercise above."
   ]
  },
  {
   "cell_type": "code",
   "execution_count": 14,
   "metadata": {},
   "outputs": [
    {
     "data": {
      "text/plain": [
       "0.7720000000000011"
      ]
     },
     "execution_count": 14,
     "metadata": {},
     "output_type": "execute_result"
    }
   ],
   "source": [
    "import sklearn.metrics as metrics\n",
    "\n",
    "mean_squared_error(true_values, predicted_vals)"
   ]
  },
  {
   "cell_type": "markdown",
   "metadata": {},
   "source": [
    "**Task 1**: Other evaluation metrics\n",
    "* Find at least 2 other metrics that exist in `Scikit-Learn` that can be used in regression problems.\n",
    "* Calculate the errors of these on the hypothetical data we used above."
   ]
  },
  {
   "cell_type": "code",
   "execution_count": 23,
   "metadata": {},
   "outputs": [
    {
     "name": "stdout",
     "output_type": "stream",
     "text": [
      "R squared score is : 0.9814576407970332\n",
      "Explained variance scored is : 0.9814960705570394\n",
      "Max error is : 1.4000000000000021\n",
      "Mean absolute error is : 0.6800000000000004\n"
     ]
    }
   ],
   "source": [
    "#### your solution here\n",
    "print(\"R squared score is :\",metrics.r2_score(true_values,predicted_vals))\n",
    "print(\"Explained variance scored is :\",metrics.explained_variance_score(true_values,predicted_vals))\n",
    "print(\"Max error is :\",metrics.max_error(true_values,predicted_vals))\n",
    "print(\"Mean absolute error is :\",metrics.mean_absolute_error(true_values,predicted_vals))"
   ]
  },
  {
   "cell_type": "markdown",
   "metadata": {},
   "source": [
    "## Training and testing sets\n",
    "\n",
    "When building models for prediction we are most interested in building a model that will generalise well to new sets of data that we will encounter in the future. Strictly speaking what we have calculated above is a *training MSE*, which means that the calculation of MSE was performed on the same data samples the model was fitted to. \n",
    " \n",
    "One good way to asses whether our model will be useful on new data sets is to fit our model only to a subset of the data, and then use new data the model has not seen to produce a prediction which we can evaluate. We saw this process in the previous notebook when we introduced `scikit-learn` and Logistic Regression.\n",
    "\n",
    "Here is another example:"
   ]
  },
  {
   "cell_type": "code",
   "execution_count": 24,
   "metadata": {},
   "outputs": [],
   "source": [
    "from sklearn.datasets import load_diabetes\n",
    "diabs = load_diabetes()"
   ]
  },
  {
   "cell_type": "code",
   "execution_count": 25,
   "metadata": {},
   "outputs": [
    {
     "name": "stdout",
     "output_type": "stream",
     "text": [
      ".. _diabetes_dataset:\n",
      "\n",
      "Diabetes dataset\n",
      "----------------\n",
      "\n",
      "Ten baseline variables, age, sex, body mass index, average blood\n",
      "pressure, and six blood serum measurements were obtained for each of n =\n",
      "442 diabetes patients, as well as the response of interest, a\n",
      "quantitative measure of disease progression one year after baseline.\n",
      "\n",
      "**Data Set Characteristics:**\n",
      "\n",
      "  :Number of Instances: 442\n",
      "\n",
      "  :Number of Attributes: First 10 columns are numeric predictive values\n",
      "\n",
      "  :Target: Column 11 is a quantitative measure of disease progression one year after baseline\n",
      "\n",
      "  :Attribute Information:\n",
      "      - Age\n",
      "      - Sex\n",
      "      - Body mass index\n",
      "      - Average blood pressure\n",
      "      - S1\n",
      "      - S2\n",
      "      - S3\n",
      "      - S4\n",
      "      - S5\n",
      "      - S6\n",
      "\n",
      "Note: Each of these 10 feature variables have been mean centered and scaled by the standard deviation times `n_samples` (i.e. the sum of squares of each column totals 1).\n",
      "\n",
      "Source URL:\n",
      "https://www4.stat.ncsu.edu/~boos/var.select/diabetes.html\n",
      "\n",
      "For more information see:\n",
      "Bradley Efron, Trevor Hastie, Iain Johnstone and Robert Tibshirani (2004) \"Least Angle Regression,\" Annals of Statistics (with discussion), 407-499.\n",
      "(https://web.stanford.edu/~hastie/Papers/LARS/LeastAngle_2002.pdf)\n"
     ]
    }
   ],
   "source": [
    "print(diabs.DESCR)"
   ]
  },
  {
   "cell_type": "code",
   "execution_count": 26,
   "metadata": {},
   "outputs": [
    {
     "data": {
      "text/plain": [
       "(442, 10)"
      ]
     },
     "execution_count": 26,
     "metadata": {},
     "output_type": "execute_result"
    }
   ],
   "source": [
    "diabs.data.shape"
   ]
  },
  {
   "cell_type": "code",
   "execution_count": 27,
   "metadata": {},
   "outputs": [
    {
     "data": {
      "text/plain": [
       "(442,)"
      ]
     },
     "execution_count": 27,
     "metadata": {},
     "output_type": "execute_result"
    }
   ],
   "source": [
    "diabs.target.shape"
   ]
  },
  {
   "cell_type": "code",
   "execution_count": 28,
   "metadata": {},
   "outputs": [],
   "source": [
    "import pandas as pd\n",
    "\n",
    "X = pd.DataFrame(diabs.data, columns=diabs.feature_names)#.assign(disease_progression = diabs.target)\n",
    "y = diabs.target"
   ]
  },
  {
   "cell_type": "code",
   "execution_count": 29,
   "metadata": {},
   "outputs": [
    {
     "data": {
      "text/html": [
       "<div>\n",
       "<style scoped>\n",
       "    .dataframe tbody tr th:only-of-type {\n",
       "        vertical-align: middle;\n",
       "    }\n",
       "\n",
       "    .dataframe tbody tr th {\n",
       "        vertical-align: top;\n",
       "    }\n",
       "\n",
       "    .dataframe thead th {\n",
       "        text-align: right;\n",
       "    }\n",
       "</style>\n",
       "<table border=\"1\" class=\"dataframe\">\n",
       "  <thead>\n",
       "    <tr style=\"text-align: right;\">\n",
       "      <th></th>\n",
       "      <th>age</th>\n",
       "      <th>sex</th>\n",
       "      <th>bmi</th>\n",
       "      <th>bp</th>\n",
       "      <th>s1</th>\n",
       "      <th>s2</th>\n",
       "      <th>s3</th>\n",
       "      <th>s4</th>\n",
       "      <th>s5</th>\n",
       "      <th>s6</th>\n",
       "    </tr>\n",
       "  </thead>\n",
       "  <tbody>\n",
       "    <tr>\n",
       "      <th>0</th>\n",
       "      <td>0.038076</td>\n",
       "      <td>0.050680</td>\n",
       "      <td>0.061696</td>\n",
       "      <td>0.021872</td>\n",
       "      <td>-0.044223</td>\n",
       "      <td>-0.034821</td>\n",
       "      <td>-0.043401</td>\n",
       "      <td>-0.002592</td>\n",
       "      <td>0.019908</td>\n",
       "      <td>-0.017646</td>\n",
       "    </tr>\n",
       "    <tr>\n",
       "      <th>1</th>\n",
       "      <td>-0.001882</td>\n",
       "      <td>-0.044642</td>\n",
       "      <td>-0.051474</td>\n",
       "      <td>-0.026328</td>\n",
       "      <td>-0.008449</td>\n",
       "      <td>-0.019163</td>\n",
       "      <td>0.074412</td>\n",
       "      <td>-0.039493</td>\n",
       "      <td>-0.068330</td>\n",
       "      <td>-0.092204</td>\n",
       "    </tr>\n",
       "    <tr>\n",
       "      <th>2</th>\n",
       "      <td>0.085299</td>\n",
       "      <td>0.050680</td>\n",
       "      <td>0.044451</td>\n",
       "      <td>-0.005671</td>\n",
       "      <td>-0.045599</td>\n",
       "      <td>-0.034194</td>\n",
       "      <td>-0.032356</td>\n",
       "      <td>-0.002592</td>\n",
       "      <td>0.002864</td>\n",
       "      <td>-0.025930</td>\n",
       "    </tr>\n",
       "    <tr>\n",
       "      <th>3</th>\n",
       "      <td>-0.089063</td>\n",
       "      <td>-0.044642</td>\n",
       "      <td>-0.011595</td>\n",
       "      <td>-0.036656</td>\n",
       "      <td>0.012191</td>\n",
       "      <td>0.024991</td>\n",
       "      <td>-0.036038</td>\n",
       "      <td>0.034309</td>\n",
       "      <td>0.022692</td>\n",
       "      <td>-0.009362</td>\n",
       "    </tr>\n",
       "    <tr>\n",
       "      <th>4</th>\n",
       "      <td>0.005383</td>\n",
       "      <td>-0.044642</td>\n",
       "      <td>-0.036385</td>\n",
       "      <td>0.021872</td>\n",
       "      <td>0.003935</td>\n",
       "      <td>0.015596</td>\n",
       "      <td>0.008142</td>\n",
       "      <td>-0.002592</td>\n",
       "      <td>-0.031991</td>\n",
       "      <td>-0.046641</td>\n",
       "    </tr>\n",
       "  </tbody>\n",
       "</table>\n",
       "</div>"
      ],
      "text/plain": [
       "        age       sex       bmi        bp        s1        s2        s3  \\\n",
       "0  0.038076  0.050680  0.061696  0.021872 -0.044223 -0.034821 -0.043401   \n",
       "1 -0.001882 -0.044642 -0.051474 -0.026328 -0.008449 -0.019163  0.074412   \n",
       "2  0.085299  0.050680  0.044451 -0.005671 -0.045599 -0.034194 -0.032356   \n",
       "3 -0.089063 -0.044642 -0.011595 -0.036656  0.012191  0.024991 -0.036038   \n",
       "4  0.005383 -0.044642 -0.036385  0.021872  0.003935  0.015596  0.008142   \n",
       "\n",
       "         s4        s5        s6  \n",
       "0 -0.002592  0.019908 -0.017646  \n",
       "1 -0.039493 -0.068330 -0.092204  \n",
       "2 -0.002592  0.002864 -0.025930  \n",
       "3  0.034309  0.022692 -0.009362  \n",
       "4 -0.002592 -0.031991 -0.046641  "
      ]
     },
     "execution_count": 29,
     "metadata": {},
     "output_type": "execute_result"
    }
   ],
   "source": [
    "X.head()"
   ]
  },
  {
   "cell_type": "markdown",
   "metadata": {},
   "source": [
    "We split the data into a test and training set."
   ]
  },
  {
   "cell_type": "code",
   "execution_count": 30,
   "metadata": {},
   "outputs": [],
   "source": [
    "from sklearn.model_selection import train_test_split\n",
    "X_train, X_test, y_train, y_test = train_test_split(X, y, random_state = 18)"
   ]
  },
  {
   "cell_type": "markdown",
   "metadata": {},
   "source": [
    "Fitting a linear regression model."
   ]
  },
  {
   "cell_type": "code",
   "execution_count": 31,
   "metadata": {},
   "outputs": [
    {
     "name": "stdout",
     "output_type": "stream",
     "text": [
      "test MSE: 3006.0733911079724\n"
     ]
    }
   ],
   "source": [
    "from sklearn.linear_model import LinearRegression\n",
    "\n",
    "# fit model to training data\n",
    "model = LinearRegression()\n",
    "model.fit(X_train, y_train)\n",
    "\n",
    "# predict y values for testing data set\n",
    "y_pred_test = model.predict(X_test)\n",
    "\n",
    "# evaluate MSE\n",
    "mse_test = mean_squared_error(y_test, y_pred_test)\n",
    "print('test MSE: {0}'.format(mse_test))"
   ]
  },
  {
   "cell_type": "code",
   "execution_count": 77,
   "metadata": {},
   "outputs": [
    {
     "data": {
      "text/plain": [
       "sklearn.linear_model._base.LinearRegression"
      ]
     },
     "execution_count": 77,
     "metadata": {},
     "output_type": "execute_result"
    }
   ],
   "source": [
    "type(model)"
   ]
  },
  {
   "cell_type": "markdown",
   "metadata": {},
   "source": [
    "We can also use this model to predict values on the train set, and evaluate the MSE. Comparing the two MSE scores gives us information on whether the model is overfitting or not. Normally we would compare these scores with other types of models (for example *support vector machines* or *random forests*...) that we have built in order to understand which model is best for the particular problem we are trying to solve. We almost always expect the *training error* to be lower than the *test error* (i.e. our performance reduces (or MSE increases) slightly when we move to new data the model has not seen."
   ]
  },
  {
   "cell_type": "code",
   "execution_count": 32,
   "metadata": {},
   "outputs": [
    {
     "name": "stdout",
     "output_type": "stream",
     "text": [
      "training MSE: 2864.886357101882\n"
     ]
    }
   ],
   "source": [
    "y_pred_train = model.predict(X_train)\n",
    "mse_train = mean_squared_error(y_train, y_pred_train)\n",
    "print('training MSE: {0}'.format(mse_train))"
   ]
  },
  {
   "cell_type": "markdown",
   "metadata": {},
   "source": [
    "## Note: interpreting MSE\n",
    "\n",
    "MSE is not particularly intuitive to help understand how well your model predicts. In order to interpret how well our model is doing we could convert MSE to something with similar units to the target variable by taking the square root. This would be **Root Mean Squared Error** or **RMSE**.\n",
    "\n",
    "<br/>\n",
    "\n",
    "<div style=\"font-size: 120%;\">\n",
    "$$ RMSE = \\sqrt{MSE}$$\n",
    "</div>"
   ]
  },
  {
   "cell_type": "code",
   "execution_count": 33,
   "metadata": {},
   "outputs": [
    {
     "name": "stdout",
     "output_type": "stream",
     "text": [
      "RMSE: 54.82766994053251\n"
     ]
    }
   ],
   "source": [
    "rmse_test = np.sqrt(mse_test)\n",
    "print('RMSE: {0}'.format(rmse_test))"
   ]
  },
  {
   "cell_type": "markdown",
   "metadata": {},
   "source": [
    "If we do some simple descriptive stats on the target variable for the training set, we can see that our model is finding a solution on average within one standard deviation of the variance of the target. This type of analysis can give us some confidence whether our model is remotely useful or not!"
   ]
  },
  {
   "cell_type": "code",
   "execution_count": 34,
   "metadata": {},
   "outputs": [
    {
     "name": "stdout",
     "output_type": "stream",
     "text": [
      "Mean (standard deviation) values of target variables in train set: 150.93655589123867 (76.63854952919398)\n"
     ]
    }
   ],
   "source": [
    "mean  = np.mean(y_train)\n",
    "std = np.std(y_train)\n",
    "print('Mean (standard deviation) values of target variables in train set: {0} ({1})'.format(mean, std))"
   ]
  },
  {
   "cell_type": "markdown",
   "metadata": {},
   "source": [
    "## Excercise 2: Linear regression prediction of house prices\n",
    "\n",
    "The California housing market is booming and, as it is the home of silicon valley, the housing company **Homes4You** have decided they want to use new data science techniques to aid their business. They want you to build a predictive model that provides the median house price for each local area across the state (These local areas are often called *'blocks'*). They will use this to help guide their agents in how to price houses.\n",
    "\n",
    "They have collected a data set which contains many features in order to aid your building of a model, but they wish to only include as few features as possible in order to reduce the time their agents spend collecting data in future.\n",
    "\n",
    "\n",
    "Your mission is to apply a regression model to predict housing prices in California.\n",
    "* Import the data the company has collected using the sklearn function `fetch_california_housing`\n",
    "* Split the data into a training and testing set\n",
    "* Build a linear regression model using all the variables available and print the train and test MSE scores.\n",
    "* Try building other models with different combinations of variables. Print the train and test MSE scores of at least 2 of these models.\n",
    "* Provide a recommendation to Homes4You of which variables you would include in the model.\n",
    "* Print the train and test **RMSE** scores of your final model and explain in a few sentences to Homes4You how well your model is performing. "
   ]
  },
  {
   "cell_type": "code",
   "execution_count": 46,
   "metadata": {},
   "outputs": [
    {
     "data": {
      "text/html": [
       "<div>\n",
       "<style scoped>\n",
       "    .dataframe tbody tr th:only-of-type {\n",
       "        vertical-align: middle;\n",
       "    }\n",
       "\n",
       "    .dataframe tbody tr th {\n",
       "        vertical-align: top;\n",
       "    }\n",
       "\n",
       "    .dataframe thead th {\n",
       "        text-align: right;\n",
       "    }\n",
       "</style>\n",
       "<table border=\"1\" class=\"dataframe\">\n",
       "  <thead>\n",
       "    <tr style=\"text-align: right;\">\n",
       "      <th></th>\n",
       "      <th>MedInc</th>\n",
       "      <th>HouseAge</th>\n",
       "      <th>AveRooms</th>\n",
       "      <th>AveBedrms</th>\n",
       "      <th>Population</th>\n",
       "      <th>AveOccup</th>\n",
       "      <th>Latitude</th>\n",
       "      <th>Longitude</th>\n",
       "    </tr>\n",
       "  </thead>\n",
       "  <tbody>\n",
       "    <tr>\n",
       "      <th>0</th>\n",
       "      <td>8.3252</td>\n",
       "      <td>41.0</td>\n",
       "      <td>6.984127</td>\n",
       "      <td>1.023810</td>\n",
       "      <td>322.0</td>\n",
       "      <td>2.555556</td>\n",
       "      <td>37.88</td>\n",
       "      <td>-122.23</td>\n",
       "    </tr>\n",
       "    <tr>\n",
       "      <th>1</th>\n",
       "      <td>8.3014</td>\n",
       "      <td>21.0</td>\n",
       "      <td>6.238137</td>\n",
       "      <td>0.971880</td>\n",
       "      <td>2401.0</td>\n",
       "      <td>2.109842</td>\n",
       "      <td>37.86</td>\n",
       "      <td>-122.22</td>\n",
       "    </tr>\n",
       "    <tr>\n",
       "      <th>2</th>\n",
       "      <td>7.2574</td>\n",
       "      <td>52.0</td>\n",
       "      <td>8.288136</td>\n",
       "      <td>1.073446</td>\n",
       "      <td>496.0</td>\n",
       "      <td>2.802260</td>\n",
       "      <td>37.85</td>\n",
       "      <td>-122.24</td>\n",
       "    </tr>\n",
       "    <tr>\n",
       "      <th>3</th>\n",
       "      <td>5.6431</td>\n",
       "      <td>52.0</td>\n",
       "      <td>5.817352</td>\n",
       "      <td>1.073059</td>\n",
       "      <td>558.0</td>\n",
       "      <td>2.547945</td>\n",
       "      <td>37.85</td>\n",
       "      <td>-122.25</td>\n",
       "    </tr>\n",
       "    <tr>\n",
       "      <th>4</th>\n",
       "      <td>3.8462</td>\n",
       "      <td>52.0</td>\n",
       "      <td>6.281853</td>\n",
       "      <td>1.081081</td>\n",
       "      <td>565.0</td>\n",
       "      <td>2.181467</td>\n",
       "      <td>37.85</td>\n",
       "      <td>-122.25</td>\n",
       "    </tr>\n",
       "  </tbody>\n",
       "</table>\n",
       "</div>"
      ],
      "text/plain": [
       "   MedInc  HouseAge  AveRooms  AveBedrms  Population  AveOccup  Latitude  \\\n",
       "0  8.3252      41.0  6.984127   1.023810       322.0  2.555556     37.88   \n",
       "1  8.3014      21.0  6.238137   0.971880      2401.0  2.109842     37.86   \n",
       "2  7.2574      52.0  8.288136   1.073446       496.0  2.802260     37.85   \n",
       "3  5.6431      52.0  5.817352   1.073059       558.0  2.547945     37.85   \n",
       "4  3.8462      52.0  6.281853   1.081081       565.0  2.181467     37.85   \n",
       "\n",
       "   Longitude  \n",
       "0    -122.23  \n",
       "1    -122.22  \n",
       "2    -122.24  \n",
       "3    -122.25  \n",
       "4    -122.25  "
      ]
     },
     "execution_count": 46,
     "metadata": {},
     "output_type": "execute_result"
    }
   ],
   "source": [
    "#### your solution here\n",
    "\n",
    "from sklearn.datasets import fetch_california_housing\n",
    "California_housing=fetch_california_housing()\n",
    "California_housing_X=pd.DataFrame(California_housing.data,columns=California_housing.feature_names)\n",
    "California_housing_Y = California_housing.target\n",
    "California_housing_X.head()"
   ]
  },
  {
   "cell_type": "code",
   "execution_count": 45,
   "metadata": {},
   "outputs": [
    {
     "name": "stdout",
     "output_type": "stream",
     "text": [
      ".. _california_housing_dataset:\n",
      "\n",
      "California Housing dataset\n",
      "--------------------------\n",
      "\n",
      "**Data Set Characteristics:**\n",
      "\n",
      "    :Number of Instances: 20640\n",
      "\n",
      "    :Number of Attributes: 8 numeric, predictive attributes and the target\n",
      "\n",
      "    :Attribute Information:\n",
      "        - MedInc        median income in block\n",
      "        - HouseAge      median house age in block\n",
      "        - AveRooms      average number of rooms\n",
      "        - AveBedrms     average number of bedrooms\n",
      "        - Population    block population\n",
      "        - AveOccup      average house occupancy\n",
      "        - Latitude      house block latitude\n",
      "        - Longitude     house block longitude\n",
      "\n",
      "    :Missing Attribute Values: None\n",
      "\n",
      "This dataset was obtained from the StatLib repository.\n",
      "http://lib.stat.cmu.edu/datasets/\n",
      "\n",
      "The target variable is the median house value for California districts.\n",
      "\n",
      "This dataset was derived from the 1990 U.S. census, using one row per census\n",
      "block group. A block group is the smallest geographical unit for which the U.S.\n",
      "Census Bureau publishes sample data (a block group typically has a population\n",
      "of 600 to 3,000 people).\n",
      "\n",
      "It can be downloaded/loaded using the\n",
      ":func:`sklearn.datasets.fetch_california_housing` function.\n",
      "\n",
      ".. topic:: References\n",
      "\n",
      "    - Pace, R. Kelley and Ronald Barry, Sparse Spatial Autoregressions,\n",
      "      Statistics and Probability Letters, 33 (1997) 291-297\n",
      "\n"
     ]
    }
   ],
   "source": [
    "print(California_housing.DESCR)"
   ]
  },
  {
   "cell_type": "markdown",
   "metadata": {},
   "source": [
    "**Task 2: Explain this to your neighbour...**\n",
    "* The training and test errors are quite close. What does this mean? \n",
    "\n",
    "<details><summary>HINT</summary><br>\n",
    "HINT: think in terms of if we were to apply this fitted model to new data the model has not seen.\n",
    "\n",
    "</details>\n",
    "\n",
    "* If your MSE & RMSE results are different to those of your peers (even when using the same features and model), why might this be? \n",
    "\n",
    "**Task 3:**\n",
    "* Can you figure out how to load the 'boston house price' or the 'Linnerrud' data set that comes with sklearn? Try to build a model using one of these data sets."
   ]
  },
  {
   "cell_type": "markdown",
   "metadata": {},
   "source": [
    "Errors being close mean that our model is pretty good.<br>\n",
    "I have same values that my neighbor, because the splitting of data is exactly yhe same (random state set to same value).<br>"
   ]
  },
  {
   "cell_type": "code",
   "execution_count": 49,
   "metadata": {},
   "outputs": [
    {
     "name": "stdout",
     "output_type": "stream",
     "text": [
      "All variables included.\n",
      "test MSE: 0.5461989819549827\n",
      "training MSE: 0.5191938764206628\n",
      "RMSE: 0.739052759926504\n",
      "Mean (standard deviation) values of target variables in train set: 2.075781606589147 (1.1592116195315114)\n"
     ]
    }
   ],
   "source": [
    "print(\"All variables included.\")\n",
    "California_housing_X_train, California_housing_X_test, California_housing_Y_train, California_housing_Y_test = train_test_split(California_housing_X, California_housing_Y, random_state = 18)\n",
    "\n",
    "# fit model to training data\n",
    "model = LinearRegression()\n",
    "model.fit(California_housing_X_train, California_housing_Y_train)\n",
    "\n",
    "# predict y values for testing data set\n",
    "California_housing_Y_pred_test = model.predict(California_housing_X_test)\n",
    "\n",
    "# evaluate MSE\n",
    "mse_test = mean_squared_error(California_housing_Y_test, California_housing_Y_pred_test)\n",
    "print('test MSE: {0}'.format(mse_test))\n",
    "\n",
    "California_housing_Y_pred_train = model.predict(California_housing_X_train)\n",
    "mse_train = mean_squared_error(California_housing_Y_train, California_housing_Y_pred_train)\n",
    "print('training MSE: {0}'.format(mse_train))\n",
    "\n",
    "rmse_test = np.sqrt(mse_test)\n",
    "print('RMSE: {0}'.format(rmse_test))\n",
    "\n",
    "mean  = np.mean(California_housing_Y_train)\n",
    "std = np.std(California_housing_Y_train)\n",
    "print('Mean (standard deviation) values of target variables in train set: {0} ({1})'.format(mean, std))"
   ]
  },
  {
   "cell_type": "code",
   "execution_count": 175,
   "metadata": {},
   "outputs": [
    {
     "data": {
      "image/png": "[encoded data removed]",
      "text/plain": [
       "<Figure size 2160x1080 with 3 Axes>"
      ]
     },
     "metadata": {
      "needs_background": "light"
     },
     "output_type": "display_data"
    }
   ],
   "source": [
    "labels=[]\n",
    "test_MSE=[]\n",
    "training_MSE=[]\n",
    "RMSE=[]\n",
    "for i in range(0,len(removing_one_variable)):\n",
    "    labels.append(removing_one_variable[i][0])\n",
    "    test_MSE.append(removing_one_variable[i][1])\n",
    "    training_MSE.append(removing_one_variable[i][2])\n",
    "    RMSE.append(removing_one_variable[i][3])\n",
    "    \n",
    "fig=plt.figure(figsize=(30,15))\n",
    "\n",
    "ax1=fig.add_subplot(221)\n",
    "ax1.bar(labels,test_MSE)\n",
    "ax1.set_title('Test_MSE - Removing one variable at a time.')\n",
    "\n",
    "ax2=fig.add_subplot(222)\n",
    "ax2.bar(labels,training_MSE)\n",
    "ax2.set_title('training_MSE - Removing one variable at a time.')\n",
    "ax3=fig.add_subplot(223)\n",
    "ax3.bar(labels,RMSE)\n",
    "ax3.set_title('RMSE - Removing one variable at a time.')\n",
    "\n",
    "plt.show()"
   ]
  },
  {
   "cell_type": "code",
   "execution_count": 178,
   "metadata": {},
   "outputs": [
    {
     "data": {
      "image/png": "[encoded data removed]",
      "text/plain": [
       "<Figure size 2160x1080 with 3 Axes>"
      ]
     },
     "metadata": {
      "needs_background": "light"
     },
     "output_type": "display_data"
    }
   ],
   "source": [
    "labels=[]\n",
    "test_MSE=[]\n",
    "training_MSE=[]\n",
    "RMSE=[]\n",
    "for i in range(0,len(removing_two_variables)):\n",
    "    labels.append(removing_two_variables[i][0])\n",
    "    test_MSE.append(removing_two_variables[i][1])\n",
    "    training_MSE.append(removing_two_variables[i][2])\n",
    "    RMSE.append(removing_two_variables[i][3])\n",
    "    \n",
    "fig=plt.figure(figsize=(30,15))\n",
    "\n",
    "ax1=fig.add_subplot(221)\n",
    "ax1.plot(test_MSE)\n",
    "ax1.set_title('Test_MSE - Removing two variables at a time.')\n",
    "\n",
    "ax2=fig.add_subplot(222)\n",
    "ax2.plot(training_MSE)\n",
    "ax2.set_title('training_MSE - Removing two variables at a time.')\n",
    "\n",
    "ax3=fig.add_subplot(223)\n",
    "ax3.plot(RMSE)\n",
    "ax3.set_title('RMSE - Removing two variables at a time.')\n",
    "\n",
    "plt.show()"
   ]
  },
  {
   "cell_type": "code",
   "execution_count": null,
   "metadata": {},
   "outputs": [],
   "source": []
  },
  {
   "cell_type": "code",
   "execution_count": 173,
   "metadata": {},
   "outputs": [
    {
     "data": {
      "image/png": "[encoded data removed]",
      "text/plain": [
       "<Figure size 2160x1080 with 3 Axes>"
      ]
     },
     "metadata": {
      "needs_background": "light"
     },
     "output_type": "display_data"
    }
   ],
   "source": [
    "labels=[]\n",
    "test_MSE=[]\n",
    "training_MSE=[]\n",
    "RMSE=[]\n",
    "for i in range(0,len(removing_three_variables)):\n",
    "    labels.append(removing_three_variables[i][0])\n",
    "    test_MSE.append(removing_three_variables[i][1])\n",
    "    training_MSE.append(removing_three_variables[i][2])\n",
    "    RMSE.append(removing_three_variables[i][3])\n",
    "    \n",
    "fig=plt.figure(figsize=(30,15))\n",
    "\n",
    "ax1=fig.add_subplot(221)\n",
    "ax1.plot(test_MSE)\n",
    "ax1.set_title('Test_MSE - Removing three variables at a time.')\n",
    "\n",
    "ax2=fig.add_subplot(222)\n",
    "ax2.plot(training_MSE)\n",
    "ax2.set_title('training_MSE - Removing three variables at a time.')\n",
    "\n",
    "ax3=fig.add_subplot(223)\n",
    "ax3.plot(RMSE)\n",
    "ax3.set_title('RMSE - Removing three variables at a time.')\n",
    "\n",
    "plt.show()"
   ]
  },
  {
   "cell_type": "code",
   "execution_count": 270,
   "metadata": {},
   "outputs": [
    {
     "name": "stdout",
     "output_type": "stream",
     "text": [
      "Best model (minimizing rmse) is:\n",
      "[('CRIM', 'INDUS', 'NOX', 'RM', 'AGE', 'DIS', 'PTRATIO', 'B', 'LSTAT')]\n"
     ]
    },
    {
     "data": {
      "image/png": "[encoded data removed]",
      "text/plain": [
       "<Figure size 432x288 with 1 Axes>"
      ]
     },
     "metadata": {
      "needs_background": "light"
     },
     "output_type": "display_data"
    }
   ],
   "source": [
    "combinat=[]\n",
    "for i in range(1,8):\n",
    "    combinat.append([comb for comb in combinations(California_housing_X.columns, i)])\n",
    "\n",
    "    labels = []\n",
    "list_test_mse = []\n",
    "list_train_mse = []\n",
    "list_test_rmse = []\n",
    "list_combi=[]\n",
    "for combi in combinat:\n",
    "    for i in combi:\n",
    "        California_housing_X_train, California_housing_X_test, California_housing_Y_train, California_housing_Y_test = train_test_split(California_housing_X[list(i)], California_housing_Y, random_state = 18)\n",
    "        model.fit(California_housing_X_train, California_housing_Y_train)\n",
    "        California_housing_Y_pred_test = model.predict(California_housing_X_test)\n",
    "        mse_testh = mean_squared_error(California_housing_Y_test, California_housing_Y_pred_test)\n",
    "        California_housing_Y_pred_train = model.predict(California_housing_X_train)\n",
    "        mse_trainh = mean_squared_error(California_housing_Y_train, California_housing_Y_pred_train)\n",
    "        rmse_testh = np.sqrt(mse_testh)\n",
    "        labels.append(i)\n",
    "        list_test_mse.append(mse_testh)\n",
    "        list_train_mse.append(mse_trainh)\n",
    "        list_test_rmse.append(rmse_testh)\n",
    "        list_combi.append(len(i))\n",
    "\n",
    "    \n",
    "California_combi_test = pd.DataFrame(list(zip(labels, list_test_mse, list_train_mse, list_test_rmse, list_combi)), columns =['labels', 'test_mse', 'train_mse', 'test_rmse', 'combination'])\n",
    "plt.scatter(combi_test.combination,combi_test['test_rmse'])\n",
    "print(\"Best model (minimizing rmse) is:\")\n",
    "print(list(combi_test.loc[combi_test.test_rmse==combi_test['test_rmse'].min()]['labels'].values))"
   ]
  },
  {
   "cell_type": "code",
   "execution_count": 264,
   "metadata": {},
   "outputs": [
    {
     "data": {
      "text/html": [
       "<div>\n",
       "<style scoped>\n",
       "    .dataframe tbody tr th:only-of-type {\n",
       "        vertical-align: middle;\n",
       "    }\n",
       "\n",
       "    .dataframe tbody tr th {\n",
       "        vertical-align: top;\n",
       "    }\n",
       "\n",
       "    .dataframe thead th {\n",
       "        text-align: right;\n",
       "    }\n",
       "</style>\n",
       "<table border=\"1\" class=\"dataframe\">\n",
       "  <thead>\n",
       "    <tr style=\"text-align: right;\">\n",
       "      <th></th>\n",
       "      <th>labels</th>\n",
       "      <th>test_mse</th>\n",
       "      <th>train_mse</th>\n",
       "      <th>test_rmse</th>\n",
       "      <th>combination</th>\n",
       "    </tr>\n",
       "  </thead>\n",
       "  <tbody>\n",
       "    <tr>\n",
       "      <th>106</th>\n",
       "      <td>(MedInc, HouseAge, Latitude, Longitude)</td>\n",
       "      <td>0.545367</td>\n",
       "      <td>0.539012</td>\n",
       "      <td>0.738490</td>\n",
       "      <td>4</td>\n",
       "    </tr>\n",
       "    <tr>\n",
       "      <th>171</th>\n",
       "      <td>(MedInc, HouseAge, AveRooms, Latitude, Longitude)</td>\n",
       "      <td>0.543630</td>\n",
       "      <td>0.537608</td>\n",
       "      <td>0.737313</td>\n",
       "      <td>5</td>\n",
       "    </tr>\n",
       "    <tr>\n",
       "      <th>177</th>\n",
       "      <td>(MedInc, HouseAge, AveBedrms, Latitude, Longit...</td>\n",
       "      <td>0.544814</td>\n",
       "      <td>0.531308</td>\n",
       "      <td>0.738115</td>\n",
       "      <td>5</td>\n",
       "    </tr>\n",
       "    <tr>\n",
       "      <th>180</th>\n",
       "      <td>(MedInc, HouseAge, Population, Latitude, Longi...</td>\n",
       "      <td>0.545418</td>\n",
       "      <td>0.538877</td>\n",
       "      <td>0.738524</td>\n",
       "      <td>5</td>\n",
       "    </tr>\n",
       "    <tr>\n",
       "      <th>181</th>\n",
       "      <td>(MedInc, HouseAge, AveOccup, Latitude, Longitude)</td>\n",
       "      <td>0.543926</td>\n",
       "      <td>0.537601</td>\n",
       "      <td>0.737513</td>\n",
       "      <td>5</td>\n",
       "    </tr>\n",
       "    <tr>\n",
       "      <th>223</th>\n",
       "      <td>(MedInc, HouseAge, AveRooms, AveBedrms, Latitu...</td>\n",
       "      <td>0.547540</td>\n",
       "      <td>0.520817</td>\n",
       "      <td>0.739960</td>\n",
       "      <td>6</td>\n",
       "    </tr>\n",
       "    <tr>\n",
       "      <th>226</th>\n",
       "      <td>(MedInc, HouseAge, AveRooms, Population, Latit...</td>\n",
       "      <td>0.543705</td>\n",
       "      <td>0.537533</td>\n",
       "      <td>0.737363</td>\n",
       "      <td>6</td>\n",
       "    </tr>\n",
       "    <tr>\n",
       "      <th>227</th>\n",
       "      <td>(MedInc, HouseAge, AveRooms, AveOccup, Latitud...</td>\n",
       "      <td>0.542221</td>\n",
       "      <td>0.536252</td>\n",
       "      <td>0.736356</td>\n",
       "      <td>6</td>\n",
       "    </tr>\n",
       "    <tr>\n",
       "      <th>230</th>\n",
       "      <td>(MedInc, HouseAge, AveBedrms, Population, Lati...</td>\n",
       "      <td>0.544834</td>\n",
       "      <td>0.531281</td>\n",
       "      <td>0.738129</td>\n",
       "      <td>6</td>\n",
       "    </tr>\n",
       "    <tr>\n",
       "      <th>231</th>\n",
       "      <td>(MedInc, HouseAge, AveBedrms, AveOccup, Latitu...</td>\n",
       "      <td>0.543401</td>\n",
       "      <td>0.529950</td>\n",
       "      <td>0.737158</td>\n",
       "      <td>6</td>\n",
       "    </tr>\n",
       "    <tr>\n",
       "      <th>232</th>\n",
       "      <td>(MedInc, HouseAge, Population, AveOccup, Latit...</td>\n",
       "      <td>0.543973</td>\n",
       "      <td>0.537533</td>\n",
       "      <td>0.737545</td>\n",
       "      <td>6</td>\n",
       "    </tr>\n",
       "    <tr>\n",
       "      <th>248</th>\n",
       "      <td>(MedInc, HouseAge, AveRooms, AveBedrms, Popula...</td>\n",
       "      <td>0.547528</td>\n",
       "      <td>0.520741</td>\n",
       "      <td>0.739951</td>\n",
       "      <td>7</td>\n",
       "    </tr>\n",
       "    <tr>\n",
       "      <th>249</th>\n",
       "      <td>(MedInc, HouseAge, AveRooms, AveBedrms, AveOcc...</td>\n",
       "      <td>0.546204</td>\n",
       "      <td>0.519221</td>\n",
       "      <td>0.739056</td>\n",
       "      <td>7</td>\n",
       "    </tr>\n",
       "    <tr>\n",
       "      <th>250</th>\n",
       "      <td>(MedInc, HouseAge, AveRooms, Population, AveOc...</td>\n",
       "      <td>0.542275</td>\n",
       "      <td>0.536223</td>\n",
       "      <td>0.736393</td>\n",
       "      <td>7</td>\n",
       "    </tr>\n",
       "    <tr>\n",
       "      <th>251</th>\n",
       "      <td>(MedInc, HouseAge, AveBedrms, Population, AveO...</td>\n",
       "      <td>0.543411</td>\n",
       "      <td>0.529946</td>\n",
       "      <td>0.737164</td>\n",
       "      <td>7</td>\n",
       "    </tr>\n",
       "  </tbody>\n",
       "</table>\n",
       "</div>"
      ],
      "text/plain": [
       "                                                labels  test_mse  train_mse  \\\n",
       "106            (MedInc, HouseAge, Latitude, Longitude)  0.545367   0.539012   \n",
       "171  (MedInc, HouseAge, AveRooms, Latitude, Longitude)  0.543630   0.537608   \n",
       "177  (MedInc, HouseAge, AveBedrms, Latitude, Longit...  0.544814   0.531308   \n",
       "180  (MedInc, HouseAge, Population, Latitude, Longi...  0.545418   0.538877   \n",
       "181  (MedInc, HouseAge, AveOccup, Latitude, Longitude)  0.543926   0.537601   \n",
       "223  (MedInc, HouseAge, AveRooms, AveBedrms, Latitu...  0.547540   0.520817   \n",
       "226  (MedInc, HouseAge, AveRooms, Population, Latit...  0.543705   0.537533   \n",
       "227  (MedInc, HouseAge, AveRooms, AveOccup, Latitud...  0.542221   0.536252   \n",
       "230  (MedInc, HouseAge, AveBedrms, Population, Lati...  0.544834   0.531281   \n",
       "231  (MedInc, HouseAge, AveBedrms, AveOccup, Latitu...  0.543401   0.529950   \n",
       "232  (MedInc, HouseAge, Population, AveOccup, Latit...  0.543973   0.537533   \n",
       "248  (MedInc, HouseAge, AveRooms, AveBedrms, Popula...  0.547528   0.520741   \n",
       "249  (MedInc, HouseAge, AveRooms, AveBedrms, AveOcc...  0.546204   0.519221   \n",
       "250  (MedInc, HouseAge, AveRooms, Population, AveOc...  0.542275   0.536223   \n",
       "251  (MedInc, HouseAge, AveBedrms, Population, AveO...  0.543411   0.529946   \n",
       "\n",
       "     test_rmse  combination  \n",
       "106   0.738490            4  \n",
       "171   0.737313            5  \n",
       "177   0.738115            5  \n",
       "180   0.738524            5  \n",
       "181   0.737513            5  \n",
       "223   0.739960            6  \n",
       "226   0.737363            6  \n",
       "227   0.736356            6  \n",
       "230   0.738129            6  \n",
       "231   0.737158            6  \n",
       "232   0.737545            6  \n",
       "248   0.739951            7  \n",
       "249   0.739056            7  \n",
       "250   0.736393            7  \n",
       "251   0.737164            7  "
      ]
     },
     "execution_count": 264,
     "metadata": {},
     "output_type": "execute_result"
    }
   ],
   "source": [
    "California_combi_test.loc[California_combi_test.test_rmse<California_combi_test['test_rmse'].min()+0.005]"
   ]
  },
  {
   "cell_type": "code",
   "execution_count": 201,
   "metadata": {},
   "outputs": [
    {
     "data": {
      "text/html": [
       "<div>\n",
       "<style scoped>\n",
       "    .dataframe tbody tr th:only-of-type {\n",
       "        vertical-align: middle;\n",
       "    }\n",
       "\n",
       "    .dataframe tbody tr th {\n",
       "        vertical-align: top;\n",
       "    }\n",
       "\n",
       "    .dataframe thead th {\n",
       "        text-align: right;\n",
       "    }\n",
       "</style>\n",
       "<table border=\"1\" class=\"dataframe\">\n",
       "  <thead>\n",
       "    <tr style=\"text-align: right;\">\n",
       "      <th></th>\n",
       "      <th>CRIM</th>\n",
       "      <th>ZN</th>\n",
       "      <th>INDUS</th>\n",
       "      <th>CHAS</th>\n",
       "      <th>NOX</th>\n",
       "      <th>RM</th>\n",
       "      <th>AGE</th>\n",
       "      <th>DIS</th>\n",
       "      <th>RAD</th>\n",
       "      <th>TAX</th>\n",
       "      <th>PTRATIO</th>\n",
       "      <th>B</th>\n",
       "      <th>LSTAT</th>\n",
       "    </tr>\n",
       "  </thead>\n",
       "  <tbody>\n",
       "    <tr>\n",
       "      <th>0</th>\n",
       "      <td>0.00632</td>\n",
       "      <td>18.0</td>\n",
       "      <td>2.31</td>\n",
       "      <td>0.0</td>\n",
       "      <td>0.538</td>\n",
       "      <td>6.575</td>\n",
       "      <td>65.2</td>\n",
       "      <td>4.0900</td>\n",
       "      <td>1.0</td>\n",
       "      <td>296.0</td>\n",
       "      <td>15.3</td>\n",
       "      <td>396.90</td>\n",
       "      <td>4.98</td>\n",
       "    </tr>\n",
       "    <tr>\n",
       "      <th>1</th>\n",
       "      <td>0.02731</td>\n",
       "      <td>0.0</td>\n",
       "      <td>7.07</td>\n",
       "      <td>0.0</td>\n",
       "      <td>0.469</td>\n",
       "      <td>6.421</td>\n",
       "      <td>78.9</td>\n",
       "      <td>4.9671</td>\n",
       "      <td>2.0</td>\n",
       "      <td>242.0</td>\n",
       "      <td>17.8</td>\n",
       "      <td>396.90</td>\n",
       "      <td>9.14</td>\n",
       "    </tr>\n",
       "    <tr>\n",
       "      <th>2</th>\n",
       "      <td>0.02729</td>\n",
       "      <td>0.0</td>\n",
       "      <td>7.07</td>\n",
       "      <td>0.0</td>\n",
       "      <td>0.469</td>\n",
       "      <td>7.185</td>\n",
       "      <td>61.1</td>\n",
       "      <td>4.9671</td>\n",
       "      <td>2.0</td>\n",
       "      <td>242.0</td>\n",
       "      <td>17.8</td>\n",
       "      <td>392.83</td>\n",
       "      <td>4.03</td>\n",
       "    </tr>\n",
       "    <tr>\n",
       "      <th>3</th>\n",
       "      <td>0.03237</td>\n",
       "      <td>0.0</td>\n",
       "      <td>2.18</td>\n",
       "      <td>0.0</td>\n",
       "      <td>0.458</td>\n",
       "      <td>6.998</td>\n",
       "      <td>45.8</td>\n",
       "      <td>6.0622</td>\n",
       "      <td>3.0</td>\n",
       "      <td>222.0</td>\n",
       "      <td>18.7</td>\n",
       "      <td>394.63</td>\n",
       "      <td>2.94</td>\n",
       "    </tr>\n",
       "    <tr>\n",
       "      <th>4</th>\n",
       "      <td>0.06905</td>\n",
       "      <td>0.0</td>\n",
       "      <td>2.18</td>\n",
       "      <td>0.0</td>\n",
       "      <td>0.458</td>\n",
       "      <td>7.147</td>\n",
       "      <td>54.2</td>\n",
       "      <td>6.0622</td>\n",
       "      <td>3.0</td>\n",
       "      <td>222.0</td>\n",
       "      <td>18.7</td>\n",
       "      <td>396.90</td>\n",
       "      <td>5.33</td>\n",
       "    </tr>\n",
       "  </tbody>\n",
       "</table>\n",
       "</div>"
      ],
      "text/plain": [
       "      CRIM    ZN  INDUS  CHAS    NOX     RM   AGE     DIS  RAD    TAX  \\\n",
       "0  0.00632  18.0   2.31   0.0  0.538  6.575  65.2  4.0900  1.0  296.0   \n",
       "1  0.02731   0.0   7.07   0.0  0.469  6.421  78.9  4.9671  2.0  242.0   \n",
       "2  0.02729   0.0   7.07   0.0  0.469  7.185  61.1  4.9671  2.0  242.0   \n",
       "3  0.03237   0.0   2.18   0.0  0.458  6.998  45.8  6.0622  3.0  222.0   \n",
       "4  0.06905   0.0   2.18   0.0  0.458  7.147  54.2  6.0622  3.0  222.0   \n",
       "\n",
       "   PTRATIO       B  LSTAT  \n",
       "0     15.3  396.90   4.98  \n",
       "1     17.8  396.90   9.14  \n",
       "2     17.8  392.83   4.03  \n",
       "3     18.7  394.63   2.94  \n",
       "4     18.7  396.90   5.33  "
      ]
     },
     "execution_count": 201,
     "metadata": {},
     "output_type": "execute_result"
    }
   ],
   "source": [
    "from sklearn.datasets import load_boston\n",
    "Boston_housing=load_boston()\n",
    "Boston_housing_X=pd.DataFrame(Boston_housing.data,columns=Boston_housing.feature_names)\n",
    "Boston_housing_Y = Boston_housing.target\n",
    "Boston_housing_X.head()"
   ]
  },
  {
   "cell_type": "code",
   "execution_count": 202,
   "metadata": {},
   "outputs": [
    {
     "name": "stdout",
     "output_type": "stream",
     "text": [
      ".. _boston_dataset:\n",
      "\n",
      "Boston house prices dataset\n",
      "---------------------------\n",
      "\n",
      "**Data Set Characteristics:**  \n",
      "\n",
      "    :Number of Instances: 506 \n",
      "\n",
      "    :Number of Attributes: 13 numeric/categorical predictive. Median Value (attribute 14) is usually the target.\n",
      "\n",
      "    :Attribute Information (in order):\n",
      "        - CRIM     per capita crime rate by town\n",
      "        - ZN       proportion of residential land zoned for lots over 25,000 sq.ft.\n",
      "        - INDUS    proportion of non-retail business acres per town\n",
      "        - CHAS     Charles River dummy variable (= 1 if tract bounds river; 0 otherwise)\n",
      "        - NOX      nitric oxides concentration (parts per 10 million)\n",
      "        - RM       average number of rooms per dwelling\n",
      "        - AGE      proportion of owner-occupied units built prior to 1940\n",
      "        - DIS      weighted distances to five Boston employment centres\n",
      "        - RAD      index of accessibility to radial highways\n",
      "        - TAX      full-value property-tax rate per $10,000\n",
      "        - PTRATIO  pupil-teacher ratio by town\n",
      "        - B        1000(Bk - 0.63)^2 where Bk is the proportion of blacks by town\n",
      "        - LSTAT    % lower status of the population\n",
      "        - MEDV     Median value of owner-occupied homes in $1000's\n",
      "\n",
      "    :Missing Attribute Values: None\n",
      "\n",
      "    :Creator: Harrison, D. and Rubinfeld, D.L.\n",
      "\n",
      "This is a copy of UCI ML housing dataset.\n",
      "https://archive.ics.uci.edu/ml/machine-learning-databases/housing/\n",
      "\n",
      "\n",
      "This dataset was taken from the StatLib library which is maintained at Carnegie Mellon University.\n",
      "\n",
      "The Boston house-price data of Harrison, D. and Rubinfeld, D.L. 'Hedonic\n",
      "prices and the demand for clean air', J. Environ. Economics & Management,\n",
      "vol.5, 81-102, 1978.   Used in Belsley, Kuh & Welsch, 'Regression diagnostics\n",
      "...', Wiley, 1980.   N.B. Various transformations are used in the table on\n",
      "pages 244-261 of the latter.\n",
      "\n",
      "The Boston house-price data has been used in many machine learning papers that address regression\n",
      "problems.   \n",
      "     \n",
      ".. topic:: References\n",
      "\n",
      "   - Belsley, Kuh & Welsch, 'Regression diagnostics: Identifying Influential Data and Sources of Collinearity', Wiley, 1980. 244-261.\n",
      "   - Quinlan,R. (1993). Combining Instance-Based and Model-Based Learning. In Proceedings on the Tenth International Conference of Machine Learning, 236-243, University of Massachusetts, Amherst. Morgan Kaufmann.\n",
      "\n"
     ]
    }
   ],
   "source": [
    "print(Boston_housing.DESCR)"
   ]
  },
  {
   "cell_type": "code",
   "execution_count": 258,
   "metadata": {},
   "outputs": [
    {
     "name": "stdout",
     "output_type": "stream",
     "text": [
      "Best model (minimizing rmse) is:\n",
      "[('CRIM', 'INDUS', 'NOX', 'RM', 'AGE', 'DIS', 'PTRATIO', 'B', 'LSTAT')]\n"
     ]
    },
    {
     "data": {
      "image/png": "[encoded data removed]",
      "text/plain": [
       "<Figure size 432x288 with 1 Axes>"
      ]
     },
     "metadata": {
      "needs_background": "light"
     },
     "output_type": "display_data"
    }
   ],
   "source": [
    "combinat=[]\n",
    "for i in range(1,14):\n",
    "    combinat.append([comb for comb in combinations(Boston_housing_X.columns, i)])\n",
    "\n",
    "    labels = []\n",
    "list_test_mse = []\n",
    "list_train_mse = []\n",
    "list_test_rmse = []\n",
    "list_combi=[]\n",
    "for combi in combinat:\n",
    "    for i in combi:\n",
    "        Boston_housing_X_train, Boston_housing_X_test, Boston_housing_Y_train, Boston_housing_Y_test = train_test_split(Boston_housing_X[list(i)], Boston_housing_Y, random_state = 18)\n",
    "        model.fit(Boston_housing_X_train, Boston_housing_Y_train)\n",
    "        Boston_housing_Y_pred_test = model.predict(Boston_housing_X_test)\n",
    "        mse_testh = mean_squared_error(Boston_housing_Y_test, Boston_housing_Y_pred_test)\n",
    "        Boston_housing_Y_pred_train = model.predict(Boston_housing_X_train)\n",
    "        mse_trainh = mean_squared_error(Boston_housing_Y_train, Boston_housing_Y_pred_train)\n",
    "        rmse_testh = np.sqrt(mse_testh)\n",
    "        labels.append(i)\n",
    "        list_test_mse.append(mse_testh)\n",
    "        list_train_mse.append(mse_trainh)\n",
    "        list_test_rmse.append(rmse_testh)\n",
    "        list_combi.append(len(i))\n",
    "\n",
    "    \n",
    "boston_combi_test = pd.DataFrame(list(zip(labels, list_test_mse, list_train_mse, list_test_rmse, list_combi)), columns =['labels', 'test_mse', 'train_mse', 'test_rmse', 'combination'])\n",
    "plt.scatter(combi_test.combination,combi_test['test_rmse'])\n",
    "print(\"Best model (minimizing rmse) is:\")\n",
    "print(list(combi_test.loc[combi_test.test_rmse==combi_test['test_rmse'].min()]['labels'].values))"
   ]
  },
  {
   "cell_type": "code",
   "execution_count": 269,
   "metadata": {},
   "outputs": [
    {
     "data": {
      "text/html": [
       "<div>\n",
       "<style scoped>\n",
       "    .dataframe tbody tr th:only-of-type {\n",
       "        vertical-align: middle;\n",
       "    }\n",
       "\n",
       "    .dataframe tbody tr th {\n",
       "        vertical-align: top;\n",
       "    }\n",
       "\n",
       "    .dataframe thead th {\n",
       "        text-align: right;\n",
       "    }\n",
       "</style>\n",
       "<table border=\"1\" class=\"dataframe\">\n",
       "  <thead>\n",
       "    <tr style=\"text-align: right;\">\n",
       "      <th></th>\n",
       "      <th>labels</th>\n",
       "      <th>test_mse</th>\n",
       "      <th>train_mse</th>\n",
       "      <th>test_rmse</th>\n",
       "      <th>combination</th>\n",
       "    </tr>\n",
       "  </thead>\n",
       "  <tbody>\n",
       "    <tr>\n",
       "      <th>4964</th>\n",
       "      <td>(CRIM, NOX, RM, DIS, PTRATIO, B, LSTAT)</td>\n",
       "      <td>23.317108</td>\n",
       "      <td>24.253010</td>\n",
       "      <td>4.828779</td>\n",
       "      <td>7</td>\n",
       "    </tr>\n",
       "    <tr>\n",
       "      <th>6218</th>\n",
       "      <td>(CRIM, ZN, NOX, RM, DIS, PTRATIO, B, LSTAT)</td>\n",
       "      <td>23.322236</td>\n",
       "      <td>23.668464</td>\n",
       "      <td>4.829310</td>\n",
       "      <td>8</td>\n",
       "    </tr>\n",
       "    <tr>\n",
       "      <th>6428</th>\n",
       "      <td>(CRIM, INDUS, NOX, RM, DIS, PTRATIO, B, LSTAT)</td>\n",
       "      <td>23.291242</td>\n",
       "      <td>24.251700</td>\n",
       "      <td>4.826100</td>\n",
       "      <td>8</td>\n",
       "    </tr>\n",
       "    <tr>\n",
       "      <th>6576</th>\n",
       "      <td>(CRIM, NOX, RM, AGE, DIS, PTRATIO, B, LSTAT)</td>\n",
       "      <td>23.313874</td>\n",
       "      <td>24.252999</td>\n",
       "      <td>4.828444</td>\n",
       "      <td>8</td>\n",
       "    </tr>\n",
       "    <tr>\n",
       "      <th>7253</th>\n",
       "      <td>(CRIM, ZN, INDUS, NOX, RM, DIS, PTRATIO, B, LS...</td>\n",
       "      <td>23.298254</td>\n",
       "      <td>23.667496</td>\n",
       "      <td>4.826827</td>\n",
       "      <td>9</td>\n",
       "    </tr>\n",
       "    <tr>\n",
       "      <th>7521</th>\n",
       "      <td>(CRIM, INDUS, NOX, RM, AGE, DIS, PTRATIO, B, L...</td>\n",
       "      <td>23.287817</td>\n",
       "      <td>24.251688</td>\n",
       "      <td>4.825745</td>\n",
       "      <td>9</td>\n",
       "    </tr>\n",
       "    <tr>\n",
       "      <th>7975</th>\n",
       "      <td>(CRIM, ZN, NOX, RM, DIS, RAD, TAX, PTRATIO, B,...</td>\n",
       "      <td>23.327732</td>\n",
       "      <td>22.283412</td>\n",
       "      <td>4.829879</td>\n",
       "      <td>10</td>\n",
       "    </tr>\n",
       "    <tr>\n",
       "      <th>8141</th>\n",
       "      <td>(CRIM, ZN, INDUS, NOX, RM, DIS, RAD, TAX, PTRA...</td>\n",
       "      <td>23.317614</td>\n",
       "      <td>22.250167</td>\n",
       "      <td>4.828832</td>\n",
       "      <td>11</td>\n",
       "    </tr>\n",
       "  </tbody>\n",
       "</table>\n",
       "</div>"
      ],
      "text/plain": [
       "                                                 labels   test_mse  train_mse  \\\n",
       "4964            (CRIM, NOX, RM, DIS, PTRATIO, B, LSTAT)  23.317108  24.253010   \n",
       "6218        (CRIM, ZN, NOX, RM, DIS, PTRATIO, B, LSTAT)  23.322236  23.668464   \n",
       "6428     (CRIM, INDUS, NOX, RM, DIS, PTRATIO, B, LSTAT)  23.291242  24.251700   \n",
       "6576       (CRIM, NOX, RM, AGE, DIS, PTRATIO, B, LSTAT)  23.313874  24.252999   \n",
       "7253  (CRIM, ZN, INDUS, NOX, RM, DIS, PTRATIO, B, LS...  23.298254  23.667496   \n",
       "7521  (CRIM, INDUS, NOX, RM, AGE, DIS, PTRATIO, B, L...  23.287817  24.251688   \n",
       "7975  (CRIM, ZN, NOX, RM, DIS, RAD, TAX, PTRATIO, B,...  23.327732  22.283412   \n",
       "8141  (CRIM, ZN, INDUS, NOX, RM, DIS, RAD, TAX, PTRA...  23.317614  22.250167   \n",
       "\n",
       "      test_rmse  combination  \n",
       "4964   4.828779            7  \n",
       "6218   4.829310            8  \n",
       "6428   4.826100            8  \n",
       "6576   4.828444            8  \n",
       "7253   4.826827            9  \n",
       "7521   4.825745            9  \n",
       "7975   4.829879           10  \n",
       "8141   4.828832           11  "
      ]
     },
     "execution_count": 269,
     "metadata": {},
     "output_type": "execute_result"
    }
   ],
   "source": [
    "boston_combi_test.loc[boston_combi_test.test_rmse<boston_combi_test['test_rmse'].min()+0.005]"
   ]
  },
  {
   "cell_type": "code",
   "execution_count": 243,
   "metadata": {},
   "outputs": [],
   "source": [
    "import statsmodels.api as sm\n",
    "\n",
    "def perform_linear_regression(Y,X,display=True):\n",
    "    \"\"\"\n",
    "    Function performs linear regression, prints adjusted r-squared and coef table, and returns the model results object.\n",
    "    \n",
    "    Input\n",
    "    =====\n",
    "    Y, padnas series,\n",
    "    X, padnas dataframe,\n",
    "    \n",
    "    Return\n",
    "    ======\n",
    "    results, statsmodel linear regression results object\n",
    "    \n",
    "    \"\"\"\n",
    "    # fit multiple linear regression model\n",
    "    X = sm.add_constant(X) # an intercept term to the model\n",
    "    model = sm.OLS(Y, X)\n",
    "    results = model.fit()\n",
    "    # print results\n",
    "    if display:\n",
    "        print('Adjusted R-squared: {0:1.3f}'.format(results.rsquared_adj))\n",
    "        print('R-squared: {0:1.3f}'.format(results.rsquared))\n",
    "        print(results.summary().tables[1])\n",
    "    return(results)\n",
    "\n",
    "\n",
    "def backward_selection(Y,X,p_value_limit=0.05,display=False):\n",
    "    '''Automated backward selection of variables. Returns a df without the variables. Does not modify the dataframes given in arguments.'''\n",
    "    X_copy=X.copy()\n",
    "    print(\"Original variables :\")\n",
    "    results_MLR = perform_linear_regression(Y, X_copy)\n",
    "    n=0\n",
    "    while max(results_MLR.pvalues.values)>p_value_limit:\n",
    "        results_MLR = perform_linear_regression(Y, X_copy,display)\n",
    "        variable_highest_pvalue=results_MLR.pvalues \\\n",
    "        [results_MLR.pvalues == max(results_MLR.pvalues.values)].index[0]\n",
    "        if(max(results_MLR.pvalues.values))>0.05:\n",
    "            print(\"Variable with the highest p-value, to be removed :\",variable_highest_pvalue)\n",
    "            del X_copy[variable_highest_pvalue]\n",
    "            n+=1\n",
    "    print(\"New MLR with removed variables :\")\n",
    "    perform_linear_regression(Y, X_copy)\n",
    "    print(\"Number of variables that have been removed :\",n)\n",
    "    return X_copy\n",
    "    "
   ]
  },
  {
   "cell_type": "code",
   "execution_count": 244,
   "metadata": {},
   "outputs": [
    {
     "name": "stdout",
     "output_type": "stream",
     "text": [
      "Original variables :\n",
      "Adjusted R-squared: 0.606\n",
      "R-squared: 0.606\n",
      "==============================================================================\n",
      "                 coef    std err          t      P>|t|      [0.025      0.975]\n",
      "------------------------------------------------------------------------------\n",
      "const        -36.9419      0.659    -56.067      0.000     -38.233     -35.650\n",
      "MedInc         0.4367      0.004    104.054      0.000       0.428       0.445\n",
      "HouseAge       0.0094      0.000     21.143      0.000       0.009       0.010\n",
      "AveRooms      -0.1073      0.006    -18.235      0.000      -0.119      -0.096\n",
      "AveBedrms      0.6451      0.028     22.928      0.000       0.590       0.700\n",
      "Population -3.976e-06   4.75e-06     -0.837      0.402   -1.33e-05    5.33e-06\n",
      "AveOccup      -0.0038      0.000     -7.769      0.000      -0.005      -0.003\n",
      "Latitude      -0.4213      0.007    -58.541      0.000      -0.435      -0.407\n",
      "Longitude     -0.4345      0.008    -57.682      0.000      -0.449      -0.420\n",
      "==============================================================================\n",
      "Variable with the highest p-value, to be removed : Population\n",
      "New MLR with removed variables :\n",
      "Adjusted R-squared: 0.606\n",
      "R-squared: 0.606\n",
      "==============================================================================\n",
      "                 coef    std err          t      P>|t|      [0.025      0.975]\n",
      "------------------------------------------------------------------------------\n",
      "const        -36.9175      0.658    -56.085      0.000     -38.208     -35.627\n",
      "MedInc         0.4368      0.004    104.089      0.000       0.429       0.445\n",
      "HouseAge       0.0096      0.000     22.602      0.000       0.009       0.010\n",
      "AveRooms      -0.1071      0.006    -18.217      0.000      -0.119      -0.096\n",
      "AveBedrms      0.6449      0.028     22.922      0.000       0.590       0.700\n",
      "AveOccup      -0.0038      0.000     -7.861      0.000      -0.005      -0.003\n",
      "Latitude      -0.4207      0.007    -58.763      0.000      -0.435      -0.407\n",
      "Longitude     -0.4340      0.008    -57.782      0.000      -0.449      -0.419\n",
      "==============================================================================\n",
      "Number of variables that have been removed : 1\n"
     ]
    },
    {
     "data": {
      "text/html": [
       "<div>\n",
       "<style scoped>\n",
       "    .dataframe tbody tr th:only-of-type {\n",
       "        vertical-align: middle;\n",
       "    }\n",
       "\n",
       "    .dataframe tbody tr th {\n",
       "        vertical-align: top;\n",
       "    }\n",
       "\n",
       "    .dataframe thead th {\n",
       "        text-align: right;\n",
       "    }\n",
       "</style>\n",
       "<table border=\"1\" class=\"dataframe\">\n",
       "  <thead>\n",
       "    <tr style=\"text-align: right;\">\n",
       "      <th></th>\n",
       "      <th>MedInc</th>\n",
       "      <th>HouseAge</th>\n",
       "      <th>AveRooms</th>\n",
       "      <th>AveBedrms</th>\n",
       "      <th>AveOccup</th>\n",
       "      <th>Latitude</th>\n",
       "      <th>Longitude</th>\n",
       "    </tr>\n",
       "  </thead>\n",
       "  <tbody>\n",
       "    <tr>\n",
       "      <th>0</th>\n",
       "      <td>8.3252</td>\n",
       "      <td>41.0</td>\n",
       "      <td>6.984127</td>\n",
       "      <td>1.023810</td>\n",
       "      <td>2.555556</td>\n",
       "      <td>37.88</td>\n",
       "      <td>-122.23</td>\n",
       "    </tr>\n",
       "    <tr>\n",
       "      <th>1</th>\n",
       "      <td>8.3014</td>\n",
       "      <td>21.0</td>\n",
       "      <td>6.238137</td>\n",
       "      <td>0.971880</td>\n",
       "      <td>2.109842</td>\n",
       "      <td>37.86</td>\n",
       "      <td>-122.22</td>\n",
       "    </tr>\n",
       "    <tr>\n",
       "      <th>2</th>\n",
       "      <td>7.2574</td>\n",
       "      <td>52.0</td>\n",
       "      <td>8.288136</td>\n",
       "      <td>1.073446</td>\n",
       "      <td>2.802260</td>\n",
       "      <td>37.85</td>\n",
       "      <td>-122.24</td>\n",
       "    </tr>\n",
       "    <tr>\n",
       "      <th>3</th>\n",
       "      <td>5.6431</td>\n",
       "      <td>52.0</td>\n",
       "      <td>5.817352</td>\n",
       "      <td>1.073059</td>\n",
       "      <td>2.547945</td>\n",
       "      <td>37.85</td>\n",
       "      <td>-122.25</td>\n",
       "    </tr>\n",
       "    <tr>\n",
       "      <th>4</th>\n",
       "      <td>3.8462</td>\n",
       "      <td>52.0</td>\n",
       "      <td>6.281853</td>\n",
       "      <td>1.081081</td>\n",
       "      <td>2.181467</td>\n",
       "      <td>37.85</td>\n",
       "      <td>-122.25</td>\n",
       "    </tr>\n",
       "    <tr>\n",
       "      <th>...</th>\n",
       "      <td>...</td>\n",
       "      <td>...</td>\n",
       "      <td>...</td>\n",
       "      <td>...</td>\n",
       "      <td>...</td>\n",
       "      <td>...</td>\n",
       "      <td>...</td>\n",
       "    </tr>\n",
       "    <tr>\n",
       "      <th>20635</th>\n",
       "      <td>1.5603</td>\n",
       "      <td>25.0</td>\n",
       "      <td>5.045455</td>\n",
       "      <td>1.133333</td>\n",
       "      <td>2.560606</td>\n",
       "      <td>39.48</td>\n",
       "      <td>-121.09</td>\n",
       "    </tr>\n",
       "    <tr>\n",
       "      <th>20636</th>\n",
       "      <td>2.5568</td>\n",
       "      <td>18.0</td>\n",
       "      <td>6.114035</td>\n",
       "      <td>1.315789</td>\n",
       "      <td>3.122807</td>\n",
       "      <td>39.49</td>\n",
       "      <td>-121.21</td>\n",
       "    </tr>\n",
       "    <tr>\n",
       "      <th>20637</th>\n",
       "      <td>1.7000</td>\n",
       "      <td>17.0</td>\n",
       "      <td>5.205543</td>\n",
       "      <td>1.120092</td>\n",
       "      <td>2.325635</td>\n",
       "      <td>39.43</td>\n",
       "      <td>-121.22</td>\n",
       "    </tr>\n",
       "    <tr>\n",
       "      <th>20638</th>\n",
       "      <td>1.8672</td>\n",
       "      <td>18.0</td>\n",
       "      <td>5.329513</td>\n",
       "      <td>1.171920</td>\n",
       "      <td>2.123209</td>\n",
       "      <td>39.43</td>\n",
       "      <td>-121.32</td>\n",
       "    </tr>\n",
       "    <tr>\n",
       "      <th>20639</th>\n",
       "      <td>2.3886</td>\n",
       "      <td>16.0</td>\n",
       "      <td>5.254717</td>\n",
       "      <td>1.162264</td>\n",
       "      <td>2.616981</td>\n",
       "      <td>39.37</td>\n",
       "      <td>-121.24</td>\n",
       "    </tr>\n",
       "  </tbody>\n",
       "</table>\n",
       "<p>20640 rows × 7 columns</p>\n",
       "</div>"
      ],
      "text/plain": [
       "       MedInc  HouseAge  AveRooms  AveBedrms  AveOccup  Latitude  Longitude\n",
       "0      8.3252      41.0  6.984127   1.023810  2.555556     37.88    -122.23\n",
       "1      8.3014      21.0  6.238137   0.971880  2.109842     37.86    -122.22\n",
       "2      7.2574      52.0  8.288136   1.073446  2.802260     37.85    -122.24\n",
       "3      5.6431      52.0  5.817352   1.073059  2.547945     37.85    -122.25\n",
       "4      3.8462      52.0  6.281853   1.081081  2.181467     37.85    -122.25\n",
       "...       ...       ...       ...        ...       ...       ...        ...\n",
       "20635  1.5603      25.0  5.045455   1.133333  2.560606     39.48    -121.09\n",
       "20636  2.5568      18.0  6.114035   1.315789  3.122807     39.49    -121.21\n",
       "20637  1.7000      17.0  5.205543   1.120092  2.325635     39.43    -121.22\n",
       "20638  1.8672      18.0  5.329513   1.171920  2.123209     39.43    -121.32\n",
       "20639  2.3886      16.0  5.254717   1.162264  2.616981     39.37    -121.24\n",
       "\n",
       "[20640 rows x 7 columns]"
      ]
     },
     "execution_count": 244,
     "metadata": {},
     "output_type": "execute_result"
    }
   ],
   "source": [
    "backward_selection(California_housing_Y,California_housing_X)"
   ]
  },
  {
   "cell_type": "code",
   "execution_count": 248,
   "metadata": {},
   "outputs": [
    {
     "data": {
      "text/html": [
       "<div>\n",
       "<style scoped>\n",
       "    .dataframe tbody tr th:only-of-type {\n",
       "        vertical-align: middle;\n",
       "    }\n",
       "\n",
       "    .dataframe tbody tr th {\n",
       "        vertical-align: top;\n",
       "    }\n",
       "\n",
       "    .dataframe thead th {\n",
       "        text-align: right;\n",
       "    }\n",
       "</style>\n",
       "<table border=\"1\" class=\"dataframe\">\n",
       "  <thead>\n",
       "    <tr style=\"text-align: right;\">\n",
       "      <th></th>\n",
       "      <th>MedInc</th>\n",
       "      <th>HouseAge</th>\n",
       "      <th>AveRooms</th>\n",
       "      <th>AveBedrms</th>\n",
       "      <th>Population</th>\n",
       "      <th>AveOccup</th>\n",
       "      <th>Latitude</th>\n",
       "      <th>Longitude</th>\n",
       "    </tr>\n",
       "  </thead>\n",
       "  <tbody>\n",
       "    <tr>\n",
       "      <th>MedInc</th>\n",
       "      <td>1.000000</td>\n",
       "      <td>-0.119034</td>\n",
       "      <td>0.326895</td>\n",
       "      <td>-0.062040</td>\n",
       "      <td>0.004834</td>\n",
       "      <td>0.018766</td>\n",
       "      <td>-0.079809</td>\n",
       "      <td>-0.015176</td>\n",
       "    </tr>\n",
       "    <tr>\n",
       "      <th>HouseAge</th>\n",
       "      <td>-0.119034</td>\n",
       "      <td>1.000000</td>\n",
       "      <td>-0.153277</td>\n",
       "      <td>-0.077747</td>\n",
       "      <td>-0.296244</td>\n",
       "      <td>0.013191</td>\n",
       "      <td>0.011173</td>\n",
       "      <td>-0.108197</td>\n",
       "    </tr>\n",
       "    <tr>\n",
       "      <th>AveRooms</th>\n",
       "      <td>0.326895</td>\n",
       "      <td>-0.153277</td>\n",
       "      <td>1.000000</td>\n",
       "      <td>0.847621</td>\n",
       "      <td>-0.072213</td>\n",
       "      <td>-0.004852</td>\n",
       "      <td>0.106389</td>\n",
       "      <td>-0.027540</td>\n",
       "    </tr>\n",
       "    <tr>\n",
       "      <th>AveBedrms</th>\n",
       "      <td>-0.062040</td>\n",
       "      <td>-0.077747</td>\n",
       "      <td>0.847621</td>\n",
       "      <td>1.000000</td>\n",
       "      <td>-0.066197</td>\n",
       "      <td>-0.006181</td>\n",
       "      <td>0.069721</td>\n",
       "      <td>0.013344</td>\n",
       "    </tr>\n",
       "    <tr>\n",
       "      <th>Population</th>\n",
       "      <td>0.004834</td>\n",
       "      <td>-0.296244</td>\n",
       "      <td>-0.072213</td>\n",
       "      <td>-0.066197</td>\n",
       "      <td>1.000000</td>\n",
       "      <td>0.069863</td>\n",
       "      <td>-0.108785</td>\n",
       "      <td>0.099773</td>\n",
       "    </tr>\n",
       "    <tr>\n",
       "      <th>AveOccup</th>\n",
       "      <td>0.018766</td>\n",
       "      <td>0.013191</td>\n",
       "      <td>-0.004852</td>\n",
       "      <td>-0.006181</td>\n",
       "      <td>0.069863</td>\n",
       "      <td>1.000000</td>\n",
       "      <td>0.002366</td>\n",
       "      <td>0.002476</td>\n",
       "    </tr>\n",
       "    <tr>\n",
       "      <th>Latitude</th>\n",
       "      <td>-0.079809</td>\n",
       "      <td>0.011173</td>\n",
       "      <td>0.106389</td>\n",
       "      <td>0.069721</td>\n",
       "      <td>-0.108785</td>\n",
       "      <td>0.002366</td>\n",
       "      <td>1.000000</td>\n",
       "      <td>-0.924664</td>\n",
       "    </tr>\n",
       "    <tr>\n",
       "      <th>Longitude</th>\n",
       "      <td>-0.015176</td>\n",
       "      <td>-0.108197</td>\n",
       "      <td>-0.027540</td>\n",
       "      <td>0.013344</td>\n",
       "      <td>0.099773</td>\n",
       "      <td>0.002476</td>\n",
       "      <td>-0.924664</td>\n",
       "      <td>1.000000</td>\n",
       "    </tr>\n",
       "  </tbody>\n",
       "</table>\n",
       "</div>"
      ],
      "text/plain": [
       "              MedInc  HouseAge  AveRooms  AveBedrms  Population  AveOccup  \\\n",
       "MedInc      1.000000 -0.119034  0.326895  -0.062040    0.004834  0.018766   \n",
       "HouseAge   -0.119034  1.000000 -0.153277  -0.077747   -0.296244  0.013191   \n",
       "AveRooms    0.326895 -0.153277  1.000000   0.847621   -0.072213 -0.004852   \n",
       "AveBedrms  -0.062040 -0.077747  0.847621   1.000000   -0.066197 -0.006181   \n",
       "Population  0.004834 -0.296244 -0.072213  -0.066197    1.000000  0.069863   \n",
       "AveOccup    0.018766  0.013191 -0.004852  -0.006181    0.069863  1.000000   \n",
       "Latitude   -0.079809  0.011173  0.106389   0.069721   -0.108785  0.002366   \n",
       "Longitude  -0.015176 -0.108197 -0.027540   0.013344    0.099773  0.002476   \n",
       "\n",
       "            Latitude  Longitude  \n",
       "MedInc     -0.079809  -0.015176  \n",
       "HouseAge    0.011173  -0.108197  \n",
       "AveRooms    0.106389  -0.027540  \n",
       "AveBedrms   0.069721   0.013344  \n",
       "Population -0.108785   0.099773  \n",
       "AveOccup    0.002366   0.002476  \n",
       "Latitude    1.000000  -0.924664  \n",
       "Longitude  -0.924664   1.000000  "
      ]
     },
     "execution_count": 248,
     "metadata": {},
     "output_type": "execute_result"
    }
   ],
   "source": [
    "California_housing_X.corr()"
   ]
  }
 ],
 "metadata": {
  "kernelspec": {
   "display_name": "Python 3",
   "language": "python",
   "name": "python3"
  },
  "language_info": {
   "codemirror_mode": {
    "name": "ipython",
    "version": 3
   },
   "file_extension": ".py",
   "mimetype": "text/x-python",
   "name": "python",
   "nbconvert_exporter": "python",
   "pygments_lexer": "ipython3",
   "version": "3.7.6"
  },
  "toc": {
   "base_numbering": 1,
   "nav_menu": {},
   "number_sections": true,
   "sideBar": true,
   "skip_h1_title": false,
   "title_cell": "Table of Contents",
   "title_sidebar": "Contents",
   "toc_cell": false,
   "toc_position": {},
   "toc_section_display": true,
   "toc_window_display": false
  }
 },
 "nbformat": 4,
 "nbformat_minor": 2
}
