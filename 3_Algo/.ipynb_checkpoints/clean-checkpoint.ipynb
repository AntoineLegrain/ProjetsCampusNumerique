{
 "cells": [
  {
   "cell_type": "code",
   "execution_count": 1,
   "metadata": {},
   "outputs": [],
   "source": [
    "import random\n",
    "import time\n",
    "from matplotlib import pyplot as plt\n",
    "import numpy as np\n",
    "from scipy.optimize import curve_fit\n",
    "from sorting import *\n",
    "%load_ext line_profiler\n",
    "\n",
    "def u_array(debug=False, N=21):\n",
    "    \"\"\"\n",
    "    Retourne un tableau non trie avec des valeur de 1 <= i < N .\n",
    "    Par defaut un tableau  1 <= i < 21\n",
    "    \n",
    "    Pour tester vos algorithmes, vous pouvez passer l'argument debug=True\n",
    "    dans ce cas, l'algorithme vous donne toujour le meme tableau :\n",
    "    \n",
    "    [3, 9, 7, 1, 6, 2, 8, 4, 5]\n",
    "    \n",
    "    \"\"\"\n",
    "    if debug:\n",
    "        return [3, 9, 7, 1, 6, 2, 8, 4, 5, 10]\n",
    "    \n",
    "    array = list(range(1,N))\n",
    "    random.shuffle(array)\n",
    "\n",
    "    return array"
   ]
  },
  {
   "cell_type": "markdown",
   "metadata": {},
   "source": [
    "Timer unit: 1e-06 s\n",
    "\n",
    "Total time: 0.000138 s\n",
    "File: /home/campus-5/Documents/Algo/sorting.py\n",
    "Function: merge at line 48\n",
    "\n",
    "Line #      Hits         Time  Per Hit   % Time  Line Contents\n",
    "==============================================================\n",
    "    48                                           \n",
    "    49         1          3.0      3.0      2.2  def merge(deck, start, middle, end):\n",
    "    50         1          1.0      1.0      0.7      i=start\n",
    "    51         1          2.0      2.0      1.4      j=middle\n",
    "    52         1          1.0      1.0      0.7      temp=np.zeros_like(deck, dtype=int)\n",
    "    53        21         18.0      0.9     13.0      for k in range(start,end):\n",
    "    54        20         19.0      0.9     13.8          if i<middle and j<end:\n",
    "    55        11         10.0      0.9      7.2              if deck[i]<=deck[j]:\n",
    "    56        10         10.0      1.0      7.2                  temp[k]=deck[i]\n",
    "    57        10         10.0      1.0      7.2                  i+=1\n",
    "    58                                                       else:\n",
    "    59         1          1.0      1.0      0.7                  temp[k]=deck[j]\n",
    "    60         1          2.0      2.0      1.4                  j+=1\n",
    "    61                                                   else:\n",
    "    62         9          7.0      0.8      5.1              if i<middle:\n",
    "    63                                                           temp[k]=deck[i]\n",
    "    64                                                           i+=1\n",
    "    65                                                       else:\n",
    "    66         9          9.0      1.0      6.5                  temp[k]=deck[j]\n",
    "    67         9          8.0      0.9      5.8                  j+=1\n",
    "    68        21         19.0      0.9     13.8      deck[start:end] = temp[start:end]"
   ]
  },
  {
   "cell_type": "code",
   "execution_count": 2,
   "metadata": {},
   "outputs": [],
   "source": [
    "#%lprun -f merge merge(u_array(),0,10,20)"
   ]
  },
  {
   "cell_type": "code",
   "execution_count": 3,
   "metadata": {},
   "outputs": [
    {
     "name": "stdout",
     "output_type": "stream",
     "text": [
      "[9, 16, 4, 5, 15, 6, 10, 14, 17, 18, 19, 20, 8, 11, 3, 7, 12, 1, 13, 2]\n",
      "[1, 2, 3, 4, 5, 6, 7, 8, 9, 10, 11, 12, 13, 14, 15, 16, 17, 18, 19, 20]\n"
     ]
    }
   ],
   "source": [
    "deck=u_array()\n",
    "print(deck)\n",
    "merge_sort(deck)\n",
    "print(deck)"
   ]
  },
  {
   "cell_type": "code",
   "execution_count": 4,
   "metadata": {},
   "outputs": [
    {
     "data": {
      "text/plain": [
       "[1, 2, 3, 4, 5, 6, 7, 8, 9, 10, 11, 12, 13, 14, 15, 16, 17, 18, 19, 20]"
      ]
     },
     "execution_count": 4,
     "metadata": {},
     "output_type": "execute_result"
    }
   ],
   "source": [
    "deck"
   ]
  },
  {
   "cell_type": "code",
   "execution_count": 5,
   "metadata": {},
   "outputs": [],
   "source": [
    "values = np.linspace(10, 1000, 100)\n",
    "quick_sort_time=[0]*len(values)\n",
    "merge_sort_time=[0]*len(values)\n",
    "mergeSort_time=[0]*len(values)\n",
    "mergeSort_A_time=[0]*len(values)\n",
    "for k in range(0,10):\n",
    "    d=0\n",
    "    for i in values:\n",
    "        deck=u_array(N=int(i))\n",
    "\n",
    "        deck2=deck.copy()\n",
    "        start=time.time()\n",
    "        quick_sort(deck2)\n",
    "        end=time.time()\n",
    "        quick_sort_time[d]+=end-start\n",
    "\n",
    "        deck2=deck.copy()\n",
    "        start=time.time()\n",
    "        merge_sort(deck2)\n",
    "        end=time.time()\n",
    "        merge_sort_time[d]+=end-start\n",
    "        \n",
    "        deck3=deck.copy()\n",
    "        start=time.time()\n",
    "        mergeSort(deck2)\n",
    "        end=time.time()\n",
    "        mergeSort_time[d]+=end-start\n",
    "        \n",
    "        deck4=deck.copy()\n",
    "        start=time.time()\n",
    "        merge_sort_py(deck4)\n",
    "        end=time.time()\n",
    "        mergeSort_time[d]+=end-start\n",
    "\n",
    "        d+=1\n",
    "    \n",
    "quick_sort_time=np.array(quick_sort_time)/10\n",
    "merge_sort_time=np.array(merge_sort_time)/10\n",
    "mergeSort_time=np.array(merge_sort_time)/10\n",
    "mergeSort_A_time=np.array(merge_sort_time)/10"
   ]
  },
  {
   "cell_type": "code",
   "execution_count": 6,
   "metadata": {},
   "outputs": [
    {
     "data": {
      "text/plain": [
       "array([  10.,  120.,  230.,  340.,  450.,  560.,  670.,  780.,  890.,\n",
       "       1000.])"
      ]
     },
     "execution_count": 6,
     "metadata": {},
     "output_type": "execute_result"
    }
   ],
   "source": [
    "np.linspace(10, 1000, 10)"
   ]
  },
  {
   "cell_type": "code",
   "execution_count": 8,
   "metadata": {},
   "outputs": [
    {
     "name": "stdout",
     "output_type": "stream",
     "text": [
      "[ 3.23916523e-07 -3.88949401e-09]\n",
      "[ 1.10043608e-06 -3.38215613e-06]\n"
     ]
    },
    {
     "data": {
      "image/png": "[encoded data removed]",
      "text/plain": [
       "<Figure size 432x288 with 1 Axes>"
      ]
     },
     "metadata": {
      "needs_background": "light"
     },
     "output_type": "display_data"
    }
   ],
   "source": [
    "fig = plt.figure()\n",
    "ax = plt.axes()\n",
    "plt.title('Running time')\n",
    "plt.xlabel('Number of cards')\n",
    "plt.ylabel('Time (s)')\n",
    "\n",
    "#plt.plot(values,quick_sort_time/values,label='Quick sort')\n",
    "#plt.plot(values,merge_sort_time/values,label='Merge_sort')\n",
    "plt.plot(values,mergeSort_time/values,label='Merge_sort_opti')\n",
    "plt.plot(values,mergeSort_A_time/values,label='Merge_sort_Arturo')\n",
    "\n",
    "\n",
    "def func(x, a, b):\n",
    "    return a * np.log2(x) + b\n",
    "\n",
    "popt, pcov = curve_fit(func,values,quick_sort_time/values)\n",
    "print(popt)\n",
    "#plt.plot(values, func(values, *popt), 'r-',label='fit_quick: a=%.3e, b=%.3e' % tuple(popt))\n",
    "\n",
    "popt, pcov = curve_fit(func,values,merge_sort_time/values)\n",
    "print(popt)\n",
    "#plt.plot(values, func(values, *popt), 'y-',label='fit_merge: a=%.3e, b=%.3e' % tuple(popt))\n",
    "\n",
    "# x=values\n",
    "# y=quick_sort_time/values\n",
    "# coefficients = np.polyfit(np.log(x),y,1) # Use log(x) as the input to polyfit.\n",
    "# fit = np.poly1d(coefficients) \n",
    "# plt.plot(x,fit(np.log(x)),\"--\", label=\"fit\")b\n",
    "\n",
    "\n",
    "plt.legend()\n",
    "plt.show()"
   ]
  }
 ],
 "metadata": {
  "kernelspec": {
   "display_name": "Python 3",
   "language": "python",
   "name": "python3"
  },
  "language_info": {
   "codemirror_mode": {
    "name": "ipython",
    "version": 3
   },
   "file_extension": ".py",
   "mimetype": "text/x-python",
   "name": "python",
   "nbconvert_exporter": "python",
   "pygments_lexer": "ipython3",
   "version": "3.7.4"
  }
 },
 "nbformat": 4,
 "nbformat_minor": 2
}
