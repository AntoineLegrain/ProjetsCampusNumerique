{
 "cells": [
  {
   "cell_type": "code",
   "execution_count": 1,
   "metadata": {},
   "outputs": [],
   "source": [
    "# Our algo\n",
    "def liste(n):\n",
    "    liste = []\n",
    "    i = 0\n",
    "    while i <= n :\n",
    "        liste.append(random.randrange(1, 14)) \n",
    "        i = i + 1\n",
    "    return liste \n",
    "\n",
    "def compare(a, b) :\n",
    "    return a>b\n",
    "\n",
    "def echange(index,cartes):\n",
    "    cartestemporaires = cartes[index]\n",
    "    cartes[index] = cartes[index+1]\n",
    "    cartes[index+1] = cartestemporaires\n",
    "    \n",
    "def compare_echange(index, cartes):\n",
    "    non_trie = compare(cartes[index], cartes[index+1])\n",
    "    if non_trie == True :\n",
    "        echange(index, cartes)\n",
    "    return non_trie\n",
    "\n",
    "def Tri(cartes):\n",
    "    etait_trie = False\n",
    "    while etait_trie == False :\n",
    "        etait_trie = True\n",
    "        for index in range (0, len(cartes)-1) :\n",
    "            temporaire = compare_echange(index, cartes)\n",
    "            etait_trie = etait_trie and not temporaire\n"
   ]
  },
  {
   "cell_type": "code",
   "execution_count": 32,
   "metadata": {},
   "outputs": [
    {
     "name": "stdout",
     "output_type": "stream",
     "text": [
      "2.66 µs ± 0.554 ns per loop (mean ± std. dev. of 7 runs, 100000 loops each)\n"
     ]
    }
   ],
   "source": [
    "%%timeit\n",
    "\n",
    "Tri(cartes)"
   ]
  },
  {
   "cell_type": "code",
   "execution_count": 50,
   "metadata": {},
   "outputs": [],
   "source": [
    "cartes = liste(5000)"
   ]
  },
  {
   "cell_type": "code",
   "execution_count": 51,
   "metadata": {},
   "outputs": [
    {
     "name": "stdout",
     "output_type": "stream",
     "text": [
      "2.09 ms ± 4.5 µs per loop (mean ± std. dev. of 7 runs, 1 loop each)\n"
     ]
    }
   ],
   "source": [
    "%%timeit\n",
    "\n",
    "Tri(cartes)"
   ]
  },
  {
   "cell_type": "code",
   "execution_count": 52,
   "metadata": {},
   "outputs": [],
   "source": [
    "%load_ext line_profiler"
   ]
  },
  {
   "cell_type": "code",
   "execution_count": 54,
   "metadata": {},
   "outputs": [],
   "source": [
    "%lprun -f compare_echange Tri(cartes)"
   ]
  }
 ],
 "metadata": {
  "kernelspec": {
   "display_name": "Python 3",
   "language": "python",
   "name": "python3"
  },
  "language_info": {
   "codemirror_mode": {
    "name": "ipython",
    "version": 3
   },
   "file_extension": ".py",
   "mimetype": "text/x-python",
   "name": "python",
   "nbconvert_exporter": "python",
   "pygments_lexer": "ipython3",
   "version": "3.7.4"
  },
  "varInspector": {
   "cols": {
    "lenName": 16,
    "lenType": 16,
    "lenVar": 40
   },
   "kernels_config": {
    "python": {
     "delete_cmd_postfix": "",
     "delete_cmd_prefix": "del ",
     "library": "var_list.py",
     "varRefreshCmd": "print(var_dic_list())"
    },
    "r": {
     "delete_cmd_postfix": ") ",
     "delete_cmd_prefix": "rm(",
     "library": "var_list.r",
     "varRefreshCmd": "cat(var_dic_list()) "
    }
   },
   "types_to_exclude": [
    "module",
    "function",
    "builtin_function_or_method",
    "instance",
    "_Feature"
   ],
   "window_display": false
  }
 },
 "nbformat": 4,
 "nbformat_minor": 2
}
