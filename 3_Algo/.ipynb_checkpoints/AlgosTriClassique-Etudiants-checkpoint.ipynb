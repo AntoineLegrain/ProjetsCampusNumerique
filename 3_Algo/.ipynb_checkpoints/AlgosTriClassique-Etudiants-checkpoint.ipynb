{
 "cells": [
  {
   "cell_type": "markdown",
   "metadata": {},
   "source": [
    "# 0 Mise en place des fonctions de travail "
   ]
  },
  {
   "cell_type": "code",
   "execution_count": 23,
   "metadata": {},
   "outputs": [
    {
     "name": "stdout",
     "output_type": "stream",
     "text": [
      "The line_profiler extension is already loaded. To reload it, use:\n",
      "  %reload_ext line_profiler\n"
     ]
    }
   ],
   "source": [
    "import random\n",
    "%load_ext line_profiler\n",
    "import time\n",
    "import timeit\n",
    "from matplotlib import pyplot as plt\n",
    "\n",
    "def u_array(debug=False, N=21):\n",
    "    \"\"\"\n",
    "    Retourne un tableau non trie avec des valeur de 1 <= i < N .\n",
    "    Par defaut un tableau  1 <= i < 21\n",
    "    \n",
    "    Pour tester vos algorithmes, vous pouvez passer l'argument debug=True\n",
    "    dans ce cas, l'algorithme vous donne toujour le meme tableau :\n",
    "    \n",
    "    [3, 9, 7, 1, 6, 2, 8, 4, 5]\n",
    "    \n",
    "    \"\"\"\n",
    "    if debug:\n",
    "        return [3, 9, 7, 1, 6, 2, 8, 4, 5]\n",
    "    \n",
    "    array = list(range(1,N))\n",
    "    random.shuffle(array)\n",
    "\n",
    "    return array"
   ]
  },
  {
   "cell_type": "code",
   "execution_count": 2,
   "metadata": {},
   "outputs": [
    {
     "name": "stdout",
     "output_type": "stream",
     "text": [
      "[17, 6, 7, 5, 8, 16, 3, 15, 1, 12, 18, 9, 4, 11, 20, 2, 10, 14, 13, 19]\n",
      "[3, 9, 7, 1, 6, 2, 8, 4, 5]\n",
      "[26, 3, 17, 27, 18, 19, 24, 10, 9, 30, 25, 6, 16, 23, 4, 29, 21, 8, 7, 20, 14, 13, 2, 1, 12, 5, 15, 22, 28, 11]\n"
     ]
    }
   ],
   "source": [
    "# Exemple d'utilisation de la fonction precedente\n",
    "\n",
    "print(u_array()) # Retourne un tableau avec des nombres naturels allant de 1 a 20\n",
    "print(u_array(True)) # Retourne le tableau [3, 9, 7, 1, 6, 2, 8, 4, 5]\n",
    "print(u_array(N=31)) # Des nombres naturels allant de 1 a 30"
   ]
  },
  {
   "cell_type": "code",
   "execution_count": 3,
   "metadata": {},
   "outputs": [],
   "source": [
    "def swap(A, i, j):\n",
    "    \"\"\"Helper function to swap elements i and j of list A.\"\"\"\n",
    "    raise NotImplementedError"
   ]
  },
  {
   "cell_type": "code",
   "execution_count": 35,
   "metadata": {},
   "outputs": [],
   "source": [
    "# Our algo\n",
    "def random_cartes(n):\n",
    "    liste = []\n",
    "    i = 0\n",
    "    while i <= n :\n",
    "        liste.append(random.randrange(1, 14)) \n",
    "        i = i + 1\n",
    "    return liste \n",
    "\n",
    "def compare(a, b) :\n",
    "    return a>b\n",
    "\n",
    "def echange(index,cartes):\n",
    "    cartestemporaires = cartes[index]\n",
    "    cartes[index] = cartes[index+1]\n",
    "    cartes[index+1] = cartestemporaires\n",
    "    \n",
    "def compare_echange(index, cartes):\n",
    "    non_trie = compare(cartes[index], cartes[index+1])\n",
    "    if non_trie == True :\n",
    "        echange(index, cartes)\n",
    "    return non_trie\n",
    "\n",
    "def Tri(cartes):\n",
    "    etait_trie = False\n",
    "    while etait_trie == False :\n",
    "        etait_trie = True\n",
    "        for index in range (0, len(cartes)-1) :\n",
    "            temporaire = compare_echange(index, cartes)\n",
    "            etait_trie = etait_trie and not temporaire\n"
   ]
  },
  {
   "cell_type": "code",
   "execution_count": null,
   "metadata": {},
   "outputs": [],
   "source": [
    "# Our algo\n",
    "def compare_echange(i, deck):\n",
    "    if deck[i]>cartes[i+1]:\n",
    "        deck[i], deck[i+1] = deck[i+1], deck[i])\n",
    "        return True\n",
    "\n",
    "def Tri(cartes):\n",
    "    etait_trie = False\n",
    "    while etait_trie == False :\n",
    "        etait_trie = True\n",
    "        for index in range (0, len(cartes)-1) :\n",
    "            temporaire = compare_echange(index, cartes)\n",
    "            etait_trie = etait_trie and not temporaire\n"
   ]
  },
  {
   "cell_type": "markdown",
   "metadata": {},
   "source": [
    "# 1 Les tris classiques "
   ]
  },
  {
   "cell_type": "markdown",
   "metadata": {},
   "source": [
    "## 1.1 Tri par bulles"
   ]
  },
  {
   "cell_type": "markdown",
   "metadata": {},
   "source": [
    "**Un pseudocode possible** *(source : Wikipedia)*\n",
    "\n",
    "```\n",
    "procedure tri_à_bulles(Tableau T)\n",
    "   pour i allant de (taille de T)-1 à 1\n",
    "       pour j allant de 0 à i-1\n",
    "           si T[j+1] < T[j] alors\n",
    "               échanger(T[j+1], T[j])\n",
    "       fin pour\n",
    "   fin pour\n",
    "        \n",
    "```"
   ]
  },
  {
   "cell_type": "code",
   "execution_count": 4,
   "metadata": {},
   "outputs": [],
   "source": [
    "def bubble(deck):\n",
    "    i=0\n",
    "    for i in range(len(deck),1,-1):\n",
    "        for j in range(0,i-1):\n",
    "            if deck[j+1]<deck[j]:\n",
    "                 deck[j], deck[j+1] = deck[j+1], deck[j]\n",
    "    \"\"\"\n",
    "    les grands valeurs remontent aux derniers position du tableur\n",
    "    comme des bulles d'air dans l'eau\n",
    "    \"\"\""
   ]
  },
  {
   "cell_type": "code",
   "execution_count": 5,
   "metadata": {},
   "outputs": [],
   "source": [
    "deck=u_array()"
   ]
  },
  {
   "cell_type": "code",
   "execution_count": 6,
   "metadata": {},
   "outputs": [
    {
     "name": "stdout",
     "output_type": "stream",
     "text": [
      "31.1 µs ± 5.13 ns per loop (mean ± std. dev. of 7 runs, 10000 loops each)\n"
     ]
    }
   ],
   "source": [
    "%%timeit\n",
    "\n",
    "bubble(deck)"
   ]
  },
  {
   "cell_type": "code",
   "execution_count": 7,
   "metadata": {},
   "outputs": [],
   "source": [
    "deck=u_array(N=5000)"
   ]
  },
  {
   "cell_type": "code",
   "execution_count": 8,
   "metadata": {},
   "outputs": [
    {
     "name": "stdout",
     "output_type": "stream",
     "text": [
      "1.95 s ± 769 µs per loop (mean ± std. dev. of 7 runs, 1 loop each)\n"
     ]
    }
   ],
   "source": [
    "%%timeit\n",
    "\n",
    "bubble(deck)"
   ]
  },
  {
   "cell_type": "code",
   "execution_count": 9,
   "metadata": {},
   "outputs": [],
   "source": [
    "%lprun -f bubble bubble(u_array())"
   ]
  },
  {
   "cell_type": "markdown",
   "metadata": {},
   "source": [
    "## 1.2 Insertion"
   ]
  },
  {
   "cell_type": "markdown",
   "metadata": {},
   "source": [
    "**Un pseudocode possible** *(source : Wikipedia)*\n",
    "\n",
    "```\n",
    "procédure tri_insertion(tableau T, entier n)\n",
    "\n",
    "  pour i de 1 à n - 1\n",
    "        # mémoriser T[i] dans x\n",
    "        x ← T[i]                            \n",
    "\n",
    "        j ← i                               \n",
    "        tant que j > 0 et T[j - 1] > x\n",
    "                 T[j] ← T[j - 1]\n",
    "                 j ← j - 1\n",
    "\n",
    "        # placer x dans le \"trou\" laissé par le décalage\n",
    "        T[j] ← x \n",
    "```"
   ]
  },
  {
   "cell_type": "code",
   "execution_count": 10,
   "metadata": {},
   "outputs": [],
   "source": [
    "def insertion(deck):\n",
    "    for i in range(0,len(deck)):\n",
    "        x=deck[i]\n",
    "        j=i\n",
    "        while j>0 and deck[j-1]>x:\n",
    "            deck[j]=deck[j-1]\n",
    "            j-=1\n",
    "        deck[j]=x\n",
    "    \n",
    "    \"\"\"\n",
    "    on cherche la place ou va etre positionne l'i_eme element \n",
    "    \"\"\"\n"
   ]
  },
  {
   "cell_type": "code",
   "execution_count": 11,
   "metadata": {},
   "outputs": [],
   "source": [
    "deck=u_array()"
   ]
  },
  {
   "cell_type": "code",
   "execution_count": 12,
   "metadata": {},
   "outputs": [
    {
     "name": "stdout",
     "output_type": "stream",
     "text": [
      "4.92 µs ± 1.77 ns per loop (mean ± std. dev. of 7 runs, 100000 loops each)\n"
     ]
    }
   ],
   "source": [
    "%%timeit\n",
    "\n",
    "insertion(deck)"
   ]
  },
  {
   "cell_type": "code",
   "execution_count": 13,
   "metadata": {},
   "outputs": [],
   "source": [
    "deck=u_array(N=5000)"
   ]
  },
  {
   "cell_type": "code",
   "execution_count": 14,
   "metadata": {},
   "outputs": [
    {
     "name": "stdout",
     "output_type": "stream",
     "text": [
      "1.26 ms ± 4.6 µs per loop (mean ± std. dev. of 7 runs, 1 loop each)\n"
     ]
    }
   ],
   "source": [
    "%%timeit\n",
    "\n",
    "insertion(deck)"
   ]
  },
  {
   "cell_type": "code",
   "execution_count": 15,
   "metadata": {},
   "outputs": [],
   "source": [
    "%lprun -f insertion insertion(deck)"
   ]
  },
  {
   "cell_type": "markdown",
   "metadata": {},
   "source": [
    "## 1.3 Selection"
   ]
  },
  {
   "cell_type": "markdown",
   "metadata": {},
   "source": [
    "**Un pseudocode possible** *(source : Wikipedia)*\n",
    "\n",
    "```\n",
    "procédure tri_selection(tableau t, entier n)\n",
    "  pour i de 0 à n - 2\n",
    "      min ← i       \n",
    "      pour j de i + 1 à n - 1\n",
    "          si t[j] < t[min], alors min ← j\n",
    "      fin pour\n",
    "      si min ≠ i, alors échanger t[i] et t[min]\n",
    "  fin pour\n",
    "fin procédure\n",
    "```"
   ]
  },
  {
   "cell_type": "code",
   "execution_count": 16,
   "metadata": {},
   "outputs": [],
   "source": [
    "def selection(deck):\n",
    "    i=0\n",
    "    for i in range(0,len(deck)-1):\n",
    "        minimum=i\n",
    "        for j in range(i+1,len(deck)):\n",
    "            if deck[j]<deck[minimum]:\n",
    "                minimum=j\n",
    "        if minimum!=i:\n",
    "            deck[i], deck[minimum] = deck[minimum], deck[i]\n",
    "        \n",
    "    \"\"\"\n",
    "    on cherche l'element qui doit se placer a l'i_eme place\n",
    "    \"\"\""
   ]
  },
  {
   "cell_type": "code",
   "execution_count": 17,
   "metadata": {},
   "outputs": [],
   "source": [
    "deck=u_array()"
   ]
  },
  {
   "cell_type": "code",
   "execution_count": 18,
   "metadata": {},
   "outputs": [
    {
     "name": "stdout",
     "output_type": "stream",
     "text": [
      "29.2 µs ± 225 ns per loop (mean ± std. dev. of 7 runs, 10000 loops each)\n"
     ]
    }
   ],
   "source": [
    "%%timeit\n",
    "\n",
    "selection(deck)"
   ]
  },
  {
   "cell_type": "code",
   "execution_count": 19,
   "metadata": {},
   "outputs": [],
   "source": [
    "deck=u_array(N=5000)"
   ]
  },
  {
   "cell_type": "code",
   "execution_count": 20,
   "metadata": {},
   "outputs": [
    {
     "name": "stdout",
     "output_type": "stream",
     "text": [
      "1.48 s ± 2.9 ms per loop (mean ± std. dev. of 7 runs, 1 loop each)\n"
     ]
    }
   ],
   "source": [
    "%%timeit\n",
    "\n",
    "selection(deck)"
   ]
  },
  {
   "cell_type": "code",
   "execution_count": 21,
   "metadata": {},
   "outputs": [],
   "source": [
    "%lprun -f insertion insertion(deck)"
   ]
  },
  {
   "cell_type": "markdown",
   "metadata": {},
   "source": [
    "### plotting"
   ]
  },
  {
   "cell_type": "code",
   "execution_count": 36,
   "metadata": {},
   "outputs": [],
   "source": [
    "values=[1,10,100,200,500,1000,2000,5000,6000,10000]\n",
    "bulles_time=[]\n",
    "insertion_time=[]\n",
    "selection_time=[]\n",
    "tri_homemade_time=[]\n",
    "for i in values:\n",
    "    deck=u_array(N=i)\n",
    "    \n",
    "    deck2=deck.copy()\n",
    "    start=time.time()\n",
    "    bubble(deck2)\n",
    "    end=time.time()\n",
    "    bulles_time.append(end-start)\n",
    "    \n",
    "    deck2=deck.copy()\n",
    "    start=time.time()\n",
    "    insertion(deck2)\n",
    "    end=time.time()\n",
    "    insertion_time.append(end-start)\n",
    "    \n",
    "    deck2=deck.copy()\n",
    "    start=time.time()\n",
    "    selection(deck2)\n",
    "    end=time.time()\n",
    "    selection_time.append(end-start)\n",
    "    \n",
    "    deck2=deck.copy()\n",
    "    start=time.time()\n",
    "    Tri(deck2)\n",
    "    end=time.time()\n",
    "    tri_homemade_time.append(end-start)"
   ]
  },
  {
   "cell_type": "code",
   "execution_count": 37,
   "metadata": {},
   "outputs": [
    {
     "data": {
      "image/png": "[encoded data removed]",
      "text/plain": [
       "<Figure size 432x288 with 1 Axes>"
      ]
     },
     "metadata": {
      "needs_background": "light"
     },
     "output_type": "display_data"
    }
   ],
   "source": [
    "fig = plt.figure()\n",
    "ax = plt.axes()\n",
    "plt.title('Running time')\n",
    "plt.xlabel('Number of cards')\n",
    "plt.ylabel('Time')\n",
    "plt.plot(values,bulles_time,label='Bulle')\n",
    "plt.plot(values,insertion_time,label='Insertion')\n",
    "plt.plot(values,selection_time,label='Selection')\n",
    "plt.plot(values,tri_homemade_time,label='Homemade')\n",
    "plt.legend()\n",
    "plt.show()"
   ]
  },
  {
   "cell_type": "code",
   "execution_count": 32,
   "metadata": {},
   "outputs": [
    {
     "data": {
      "text/plain": [
       "[3.337860107421875e-06,\n",
       " 3.814697265625e-06,\n",
       " 5.7220458984375e-06,\n",
       " 6.4373016357421875e-06,\n",
       " 2.5033950805664062e-05,\n",
       " 2.9802322387695312e-05,\n",
       " 5.745887756347656e-05,\n",
       " 0.00012063980102539062,\n",
       " 0.0002472400665283203,\n",
       " 0.0005023479461669922,\n",
       " 0.0012729167938232422,\n",
       " 0.0025339126586914062]"
      ]
     },
     "execution_count": 32,
     "metadata": {},
     "output_type": "execute_result"
    }
   ],
   "source": [
    "insertion_time"
   ]
  }
 ],
 "metadata": {
  "kernelspec": {
   "display_name": "Python 3",
   "language": "python",
   "name": "python3"
  },
  "language_info": {
   "codemirror_mode": {
    "name": "ipython",
    "version": 3
   },
   "file_extension": ".py",
   "mimetype": "text/x-python",
   "name": "python",
   "nbconvert_exporter": "python",
   "pygments_lexer": "ipython3",
   "version": "3.7.4"
  }
 },
 "nbformat": 4,
 "nbformat_minor": 2
}
