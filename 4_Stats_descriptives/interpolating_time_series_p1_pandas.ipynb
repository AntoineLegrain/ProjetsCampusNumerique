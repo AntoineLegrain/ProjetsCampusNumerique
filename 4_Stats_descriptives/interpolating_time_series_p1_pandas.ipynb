{
 "cells": [
  {
   "cell_type": "markdown",
   "metadata": {},
   "source": [
    "# Interpolating Time Series Data in Apache Spark and Python Pandas - Part 1: Pandas\n",
    "\n",
    "Note: Pandas version 0.20.1 (May 2017) changed the grouping API. This post reflects the functionality of the updated version.\n",
    "\n",
    "As we have all experienced (and I am sure suffered), real-world data is patchy most of the time and therefore a common first step in any data science task is data cleaning. Having recently moved from Pandas to Pyspark, I was used to the conveniences Pandas offers, which given to its distributed nature Pyspark is sometimes lacking. One of these features I have particularly been  missing recently is a straight-forward way of interpolating (or in-filling) time series data. Whilst the problem of in-filling missing values has been covered a few times (e.g. [here]), I was not able to find a source, which detailed the end-to-end process of generating the underlying time-grid and then subsequently filling in the missing values. This and the next post try to close this gap by detailing the process in both Pandas and Pyspark. This weeks post starts by demonstrating the process using Pandas data frames. Next week's post will show how to achieve the same functionality in PySpark. The full notebook for this post can be found [here in my github](https://github.com/walkenho/tales-of-1001-data/blob/master/timeseries-interpolation-in-spark/interpolating_time_series_p1_pandas.ipynb).\n",
    "\n",
    "## Preparing the Data and Initial Visualization"
   ]
  },
  {
   "cell_type": "code",
   "execution_count": 1,
   "metadata": {},
   "outputs": [],
   "source": [
    "import pandas as pd\n",
    "import numpy as np\n",
    "import random\n",
    "import matplotlib.pyplot as plt\n",
    "import seaborn as sns\n",
    "%matplotlib inline"
   ]
  },
  {
   "cell_type": "markdown",
   "metadata": {},
   "source": [
    "First we generate a pandas data frame df0 with some test data. We create a data set containing two houses and use a $sin$ and a $cos$ function to generate some read data for a set of dates. To generate the missing values, we randomly drop half of the entries. "
   ]
  },
  {
   "cell_type": "code",
   "execution_count": 2,
   "metadata": {},
   "outputs": [],
   "source": [
    "data = {'datetime': pd.date_range(start='1/15/2018', end='02/14/2018', freq='D')\\\n",
    "                .append(pd.date_range(start='1/15/2018', end='02/14/2018', freq='D')),\n",
    "        'house' : ['house1' for i in range(31)] + ['house2' for i in range(31)],\n",
    "        'readvalue':  [0.5 + 0.5*np.sin(2*np.pi/30*i) for i in range(31)]\\\n",
    "                    + [0.5 + 0.5*np.cos(2*np.pi/30*i) for i in range(31)]}\n",
    "df0 = pd.DataFrame(data, columns = ['datetime', 'house', 'readvalue'])\n",
    "\n",
    "# Randomly drop half the reads\n",
    "random.seed(42)\n",
    "df0 = df0.drop(random.sample(range(df0.shape[0]), k=int(df0.shape[0]/2)))"
   ]
  },
  {
   "cell_type": "code",
   "execution_count": 5,
   "metadata": {},
   "outputs": [
    {
     "data": {
      "text/html": [
       "<div>\n",
       "<style scoped>\n",
       "    .dataframe tbody tr th:only-of-type {\n",
       "        vertical-align: middle;\n",
       "    }\n",
       "\n",
       "    .dataframe tbody tr th {\n",
       "        vertical-align: top;\n",
       "    }\n",
       "\n",
       "    .dataframe thead th {\n",
       "        text-align: right;\n",
       "    }\n",
       "</style>\n",
       "<table border=\"1\" class=\"dataframe\">\n",
       "  <thead>\n",
       "    <tr style=\"text-align: right;\">\n",
       "      <th></th>\n",
       "      <th>datetime</th>\n",
       "      <th>house</th>\n",
       "      <th>readvalue</th>\n",
       "    </tr>\n",
       "  </thead>\n",
       "  <tbody>\n",
       "    <tr>\n",
       "      <th>0</th>\n",
       "      <td>2018-01-15</td>\n",
       "      <td>house1</td>\n",
       "      <td>0.500000</td>\n",
       "    </tr>\n",
       "    <tr>\n",
       "      <th>3</th>\n",
       "      <td>2018-01-18</td>\n",
       "      <td>house1</td>\n",
       "      <td>0.793893</td>\n",
       "    </tr>\n",
       "    <tr>\n",
       "      <th>4</th>\n",
       "      <td>2018-01-19</td>\n",
       "      <td>house1</td>\n",
       "      <td>0.871572</td>\n",
       "    </tr>\n",
       "    <tr>\n",
       "      <th>9</th>\n",
       "      <td>2018-01-24</td>\n",
       "      <td>house1</td>\n",
       "      <td>0.975528</td>\n",
       "    </tr>\n",
       "    <tr>\n",
       "      <th>10</th>\n",
       "      <td>2018-01-25</td>\n",
       "      <td>house1</td>\n",
       "      <td>0.933013</td>\n",
       "    </tr>\n",
       "    <tr>\n",
       "      <th>11</th>\n",
       "      <td>2018-01-26</td>\n",
       "      <td>house1</td>\n",
       "      <td>0.871572</td>\n",
       "    </tr>\n",
       "    <tr>\n",
       "      <th>16</th>\n",
       "      <td>2018-01-31</td>\n",
       "      <td>house1</td>\n",
       "      <td>0.396044</td>\n",
       "    </tr>\n",
       "    <tr>\n",
       "      <th>18</th>\n",
       "      <td>2018-02-02</td>\n",
       "      <td>house1</td>\n",
       "      <td>0.206107</td>\n",
       "    </tr>\n",
       "    <tr>\n",
       "      <th>19</th>\n",
       "      <td>2018-02-03</td>\n",
       "      <td>house1</td>\n",
       "      <td>0.128428</td>\n",
       "    </tr>\n",
       "    <tr>\n",
       "      <th>20</th>\n",
       "      <td>2018-02-04</td>\n",
       "      <td>house1</td>\n",
       "      <td>0.066987</td>\n",
       "    </tr>\n",
       "    <tr>\n",
       "      <th>21</th>\n",
       "      <td>2018-02-05</td>\n",
       "      <td>house1</td>\n",
       "      <td>0.024472</td>\n",
       "    </tr>\n",
       "    <tr>\n",
       "      <th>22</th>\n",
       "      <td>2018-02-06</td>\n",
       "      <td>house1</td>\n",
       "      <td>0.002739</td>\n",
       "    </tr>\n",
       "    <tr>\n",
       "      <th>23</th>\n",
       "      <td>2018-02-07</td>\n",
       "      <td>house1</td>\n",
       "      <td>0.002739</td>\n",
       "    </tr>\n",
       "    <tr>\n",
       "      <th>24</th>\n",
       "      <td>2018-02-08</td>\n",
       "      <td>house1</td>\n",
       "      <td>0.024472</td>\n",
       "    </tr>\n",
       "    <tr>\n",
       "      <th>25</th>\n",
       "      <td>2018-02-09</td>\n",
       "      <td>house1</td>\n",
       "      <td>0.066987</td>\n",
       "    </tr>\n",
       "    <tr>\n",
       "      <th>29</th>\n",
       "      <td>2018-02-13</td>\n",
       "      <td>house1</td>\n",
       "      <td>0.396044</td>\n",
       "    </tr>\n",
       "    <tr>\n",
       "      <th>30</th>\n",
       "      <td>2018-02-14</td>\n",
       "      <td>house1</td>\n",
       "      <td>0.500000</td>\n",
       "    </tr>\n",
       "    <tr>\n",
       "      <th>31</th>\n",
       "      <td>2018-01-15</td>\n",
       "      <td>house2</td>\n",
       "      <td>1.000000</td>\n",
       "    </tr>\n",
       "    <tr>\n",
       "      <th>33</th>\n",
       "      <td>2018-01-17</td>\n",
       "      <td>house2</td>\n",
       "      <td>0.956773</td>\n",
       "    </tr>\n",
       "    <tr>\n",
       "      <th>36</th>\n",
       "      <td>2018-01-20</td>\n",
       "      <td>house2</td>\n",
       "      <td>0.750000</td>\n",
       "    </tr>\n",
       "    <tr>\n",
       "      <th>39</th>\n",
       "      <td>2018-01-23</td>\n",
       "      <td>house2</td>\n",
       "      <td>0.447736</td>\n",
       "    </tr>\n",
       "    <tr>\n",
       "      <th>42</th>\n",
       "      <td>2018-01-26</td>\n",
       "      <td>house2</td>\n",
       "      <td>0.165435</td>\n",
       "    </tr>\n",
       "    <tr>\n",
       "      <th>45</th>\n",
       "      <td>2018-01-29</td>\n",
       "      <td>house2</td>\n",
       "      <td>0.010926</td>\n",
       "    </tr>\n",
       "    <tr>\n",
       "      <th>46</th>\n",
       "      <td>2018-01-30</td>\n",
       "      <td>house2</td>\n",
       "      <td>0.000000</td>\n",
       "    </tr>\n",
       "    <tr>\n",
       "      <th>50</th>\n",
       "      <td>2018-02-03</td>\n",
       "      <td>house2</td>\n",
       "      <td>0.165435</td>\n",
       "    </tr>\n",
       "    <tr>\n",
       "      <th>51</th>\n",
       "      <td>2018-02-04</td>\n",
       "      <td>house2</td>\n",
       "      <td>0.250000</td>\n",
       "    </tr>\n",
       "    <tr>\n",
       "      <th>52</th>\n",
       "      <td>2018-02-05</td>\n",
       "      <td>house2</td>\n",
       "      <td>0.345492</td>\n",
       "    </tr>\n",
       "    <tr>\n",
       "      <th>54</th>\n",
       "      <td>2018-02-07</td>\n",
       "      <td>house2</td>\n",
       "      <td>0.552264</td>\n",
       "    </tr>\n",
       "    <tr>\n",
       "      <th>56</th>\n",
       "      <td>2018-02-09</td>\n",
       "      <td>house2</td>\n",
       "      <td>0.750000</td>\n",
       "    </tr>\n",
       "    <tr>\n",
       "      <th>60</th>\n",
       "      <td>2018-02-13</td>\n",
       "      <td>house2</td>\n",
       "      <td>0.989074</td>\n",
       "    </tr>\n",
       "    <tr>\n",
       "      <th>61</th>\n",
       "      <td>2018-02-14</td>\n",
       "      <td>house2</td>\n",
       "      <td>1.000000</td>\n",
       "    </tr>\n",
       "  </tbody>\n",
       "</table>\n",
       "</div>"
      ],
      "text/plain": [
       "     datetime   house  readvalue\n",
       "0  2018-01-15  house1   0.500000\n",
       "3  2018-01-18  house1   0.793893\n",
       "4  2018-01-19  house1   0.871572\n",
       "9  2018-01-24  house1   0.975528\n",
       "10 2018-01-25  house1   0.933013\n",
       "11 2018-01-26  house1   0.871572\n",
       "16 2018-01-31  house1   0.396044\n",
       "18 2018-02-02  house1   0.206107\n",
       "19 2018-02-03  house1   0.128428\n",
       "20 2018-02-04  house1   0.066987\n",
       "21 2018-02-05  house1   0.024472\n",
       "22 2018-02-06  house1   0.002739\n",
       "23 2018-02-07  house1   0.002739\n",
       "24 2018-02-08  house1   0.024472\n",
       "25 2018-02-09  house1   0.066987\n",
       "29 2018-02-13  house1   0.396044\n",
       "30 2018-02-14  house1   0.500000\n",
       "31 2018-01-15  house2   1.000000\n",
       "33 2018-01-17  house2   0.956773\n",
       "36 2018-01-20  house2   0.750000\n",
       "39 2018-01-23  house2   0.447736\n",
       "42 2018-01-26  house2   0.165435\n",
       "45 2018-01-29  house2   0.010926\n",
       "46 2018-01-30  house2   0.000000\n",
       "50 2018-02-03  house2   0.165435\n",
       "51 2018-02-04  house2   0.250000\n",
       "52 2018-02-05  house2   0.345492\n",
       "54 2018-02-07  house2   0.552264\n",
       "56 2018-02-09  house2   0.750000\n",
       "60 2018-02-13  house2   0.989074\n",
       "61 2018-02-14  house2   1.000000"
      ]
     },
     "execution_count": 5,
     "metadata": {},
     "output_type": "execute_result"
    }
   ],
   "source": [
    "df0"
   ]
  },
  {
   "cell_type": "markdown",
   "metadata": {},
   "source": [
    "This is how the data looks like. A $sin$ and a $cos$ with plenty of missing data points."
   ]
  },
  {
   "cell_type": "code",
   "execution_count": 6,
   "metadata": {
    "scrolled": true
   },
   "outputs": [
    {
     "name": "stderr",
     "output_type": "stream",
     "text": [
      "/home/campus-5/anaconda3/lib/python3.7/site-packages/pandas/plotting/_matplotlib/converter.py:103: FutureWarning: Using an implicitly registered datetime converter for a matplotlib plotting method. The converter was registered by pandas on import. Future versions of pandas will require you to explicitly register matplotlib converters.\n",
      "\n",
      "To register the converters:\n",
      "\t>>> from pandas.plotting import register_matplotlib_converters\n",
      "\t>>> register_matplotlib_converters()\n",
      "  warnings.warn(msg, FutureWarning)\n"
     ]
    },
    {
     "data": {
      "image/png": "[encoded data removed]",
      "text/plain": [
       "<Figure size 648x288 with 1 Axes>"
      ]
     },
     "metadata": {
      "needs_background": "light"
     },
     "output_type": "display_data"
    }
   ],
   "source": [
    "# Generating a plot of the data with missing values\n",
    "# Setting figure properties\n",
    "params = {'legend.fontsize' : 'large',\n",
    "         'figure.figsize': (9,4),\n",
    "         'axes.labelsize': 'large',\n",
    "         'xtick.labelsize': 'medium',\n",
    "         'ytick.labelsize': 'medium'}\n",
    "plt.rcParams.update(params)\n",
    "\n",
    "# Generate colors using nices seaborn color palette\n",
    "colors = {\"house1\": sns.color_palette(\"Set1\", n_colors=8, desat=.5)[2],\\\n",
    "          \"house2\": sns.color_palette(\"Set1\", n_colors=8, desat=.5)[3]}\n",
    "\n",
    "fig, ax = plt.subplots()\n",
    "\n",
    "for myhouse in [\"house1\", \"house2\"]:\n",
    "    ax.scatter(pd.DatetimeIndex(df0[df0.house==myhouse]['datetime']),\n",
    "               df0[df0.house==myhouse]['readvalue'],\n",
    "               color=colors[myhouse],\n",
    "               s=80)\n",
    "\n",
    "ax.set_xlabel(\"ReadDate\")\n",
    "ax.set_ylabel(\"ReadValue\")\n",
    "\n",
    "# Format x-axis to properly displays dates\n",
    "fig.autofmt_xdate()\n",
    "ax.set_xlim(min(pd.DatetimeIndex(df0['datetime'])), max(pd.DatetimeIndex(df0['datetime'])))\n",
    "ax.set_ylim([-0.1, 1.1])\n",
    "\n",
    "plt.tight_layout()\n",
    "plt.savefig('interpolating-timeseries-p1-pandas-fig1.png')\n",
    "plt.show()"
   ]
  },
  {
   "cell_type": "markdown",
   "metadata": {},
   "source": [
    "We will now look at three different methods of interpolating the missing read values: forward-filling, backward-filling and interpolating. Remember that it is crucial to choose the adequate interpolation method for the task at hand. Special care needs to be taken when looking at forecasting tasks (for example if you want to use your interpolated data for forecasting weather than you need to remember that you cannot interpolate the weather of today using the weather of tomorrow since it is still unknown).\n",
    "\n",
    "In order to interpolate the data, we will make use of the `groupby()` function followed by `resample()`. However, first we need to convert the read dates to datetime format and set them as index of our dataframe:"
   ]
  },
  {
   "cell_type": "code",
   "execution_count": 7,
   "metadata": {},
   "outputs": [],
   "source": [
    "df = df0.copy()\n",
    "df['datetime'] = pd.to_datetime(df['datetime'])\n",
    "df.index = df['datetime']\n",
    "del df['datetime']"
   ]
  },
  {
   "cell_type": "markdown",
   "metadata": {},
   "source": [
    "This is how the structure of the dataframe looks like now:"
   ]
  },
  {
   "cell_type": "code",
   "execution_count": 8,
   "metadata": {
    "scrolled": false
   },
   "outputs": [
    {
     "data": {
      "text/html": [
       "<div>\n",
       "<style scoped>\n",
       "    .dataframe tbody tr th:only-of-type {\n",
       "        vertical-align: middle;\n",
       "    }\n",
       "\n",
       "    .dataframe tbody tr th {\n",
       "        vertical-align: top;\n",
       "    }\n",
       "\n",
       "    .dataframe thead th {\n",
       "        text-align: right;\n",
       "    }\n",
       "</style>\n",
       "<table border=\"1\" class=\"dataframe\">\n",
       "  <thead>\n",
       "    <tr style=\"text-align: right;\">\n",
       "      <th></th>\n",
       "      <th>house</th>\n",
       "      <th>readvalue</th>\n",
       "    </tr>\n",
       "    <tr>\n",
       "      <th>datetime</th>\n",
       "      <th></th>\n",
       "      <th></th>\n",
       "    </tr>\n",
       "  </thead>\n",
       "  <tbody>\n",
       "    <tr>\n",
       "      <th>2018-01-15</th>\n",
       "      <td>house1</td>\n",
       "      <td>0.5</td>\n",
       "    </tr>\n",
       "  </tbody>\n",
       "</table>\n",
       "</div>"
      ],
      "text/plain": [
       "             house  readvalue\n",
       "datetime                     \n",
       "2018-01-15  house1        0.5"
      ]
     },
     "execution_count": 8,
     "metadata": {},
     "output_type": "execute_result"
    }
   ],
   "source": [
    "df.head(1)"
   ]
  },
  {
   "cell_type": "markdown",
   "metadata": {},
   "source": [
    "## Interpolation \n",
    "\n",
    "Since we want to interpolate for each house separately, we need to group our data by 'house' before we can use the `resample()` function with the option 'D' to resample the data to daily frequency. \n",
    "\n",
    "The next step is then to use mean-filling, forward-filling or backward-filling to determine how the newly generated grid is supposed to be filled.\n",
    "\n",
    "### mean()\n",
    "Since we are strictly upsampling, using the `mean()` method, all missing read values are filled with NaNs:"
   ]
  },
  {
   "cell_type": "code",
   "execution_count": 8,
   "metadata": {},
   "outputs": [
    {
     "data": {
      "text/html": [
       "<div>\n",
       "<style scoped>\n",
       "    .dataframe tbody tr th:only-of-type {\n",
       "        vertical-align: middle;\n",
       "    }\n",
       "\n",
       "    .dataframe tbody tr th {\n",
       "        vertical-align: top;\n",
       "    }\n",
       "\n",
       "    .dataframe thead th {\n",
       "        text-align: right;\n",
       "    }\n",
       "</style>\n",
       "<table border=\"1\" class=\"dataframe\">\n",
       "  <thead>\n",
       "    <tr style=\"text-align: right;\">\n",
       "      <th></th>\n",
       "      <th></th>\n",
       "      <th>readvalue</th>\n",
       "    </tr>\n",
       "    <tr>\n",
       "      <th>house</th>\n",
       "      <th>datetime</th>\n",
       "      <th></th>\n",
       "    </tr>\n",
       "  </thead>\n",
       "  <tbody>\n",
       "    <tr>\n",
       "      <th rowspan=\"4\" valign=\"top\">house1</th>\n",
       "      <th>2018-01-15</th>\n",
       "      <td>0.500000</td>\n",
       "    </tr>\n",
       "    <tr>\n",
       "      <th>2018-01-16</th>\n",
       "      <td>NaN</td>\n",
       "    </tr>\n",
       "    <tr>\n",
       "      <th>2018-01-17</th>\n",
       "      <td>NaN</td>\n",
       "    </tr>\n",
       "    <tr>\n",
       "      <th>2018-01-18</th>\n",
       "      <td>0.793893</td>\n",
       "    </tr>\n",
       "  </tbody>\n",
       "</table>\n",
       "</div>"
      ],
      "text/plain": [
       "                   readvalue\n",
       "house  datetime             \n",
       "house1 2018-01-15   0.500000\n",
       "       2018-01-16        NaN\n",
       "       2018-01-17        NaN\n",
       "       2018-01-18   0.793893"
      ]
     },
     "execution_count": 8,
     "metadata": {},
     "output_type": "execute_result"
    }
   ],
   "source": [
    "df.groupby('house').resample('D').mean().head(4)"
   ]
  },
  {
   "cell_type": "markdown",
   "metadata": {},
   "source": [
    "### pad() - forward filling\n",
    "Using .pad() instead of .mean() forward-fills the NaNs."
   ]
  },
  {
   "cell_type": "code",
   "execution_count": 11,
   "metadata": {},
   "outputs": [
    {
     "data": {
      "text/html": [
       "<div>\n",
       "<style scoped>\n",
       "    .dataframe tbody tr th:only-of-type {\n",
       "        vertical-align: middle;\n",
       "    }\n",
       "\n",
       "    .dataframe tbody tr th {\n",
       "        vertical-align: top;\n",
       "    }\n",
       "\n",
       "    .dataframe thead th {\n",
       "        text-align: right;\n",
       "    }\n",
       "</style>\n",
       "<table border=\"1\" class=\"dataframe\">\n",
       "  <thead>\n",
       "    <tr style=\"text-align: right;\">\n",
       "      <th></th>\n",
       "      <th></th>\n",
       "      <th>readvalue</th>\n",
       "    </tr>\n",
       "    <tr>\n",
       "      <th>house</th>\n",
       "      <th>datetime</th>\n",
       "      <th></th>\n",
       "    </tr>\n",
       "  </thead>\n",
       "  <tbody>\n",
       "    <tr>\n",
       "      <th rowspan=\"4\" valign=\"top\">house1</th>\n",
       "      <th>2018-01-15</th>\n",
       "      <td>0.500000</td>\n",
       "    </tr>\n",
       "    <tr>\n",
       "      <th>2018-01-16</th>\n",
       "      <td>0.500000</td>\n",
       "    </tr>\n",
       "    <tr>\n",
       "      <th>2018-01-17</th>\n",
       "      <td>0.500000</td>\n",
       "    </tr>\n",
       "    <tr>\n",
       "      <th>2018-01-18</th>\n",
       "      <td>0.793893</td>\n",
       "    </tr>\n",
       "  </tbody>\n",
       "</table>\n",
       "</div>"
      ],
      "text/plain": [
       "                   readvalue\n",
       "house  datetime             \n",
       "house1 2018-01-15   0.500000\n",
       "       2018-01-16   0.500000\n",
       "       2018-01-17   0.500000\n",
       "       2018-01-18   0.793893"
      ]
     },
     "execution_count": 11,
     "metadata": {},
     "output_type": "execute_result"
    }
   ],
   "source": [
    "df_pad = df.groupby('house')\\\n",
    "            .resample('D')\\\n",
    "            .pad().drop('house', axis=1)\n",
    "df_pad.head(4)"
   ]
  },
  {
   "cell_type": "markdown",
   "metadata": {},
   "source": [
    "### bfill - backward filling\n",
    "Using .bfill() instead of .mean() backward-fills the NaNs:"
   ]
  },
  {
   "cell_type": "code",
   "execution_count": 10,
   "metadata": {},
   "outputs": [
    {
     "data": {
      "text/html": [
       "<div>\n",
       "<style scoped>\n",
       "    .dataframe tbody tr th:only-of-type {\n",
       "        vertical-align: middle;\n",
       "    }\n",
       "\n",
       "    .dataframe tbody tr th {\n",
       "        vertical-align: top;\n",
       "    }\n",
       "\n",
       "    .dataframe thead th {\n",
       "        text-align: right;\n",
       "    }\n",
       "</style>\n",
       "<table border=\"1\" class=\"dataframe\">\n",
       "  <thead>\n",
       "    <tr style=\"text-align: right;\">\n",
       "      <th></th>\n",
       "      <th></th>\n",
       "      <th>readvalue</th>\n",
       "    </tr>\n",
       "    <tr>\n",
       "      <th>house</th>\n",
       "      <th>datetime</th>\n",
       "      <th></th>\n",
       "    </tr>\n",
       "  </thead>\n",
       "  <tbody>\n",
       "    <tr>\n",
       "      <th rowspan=\"4\" valign=\"top\">house1</th>\n",
       "      <th>2018-01-15</th>\n",
       "      <td>0.500000</td>\n",
       "    </tr>\n",
       "    <tr>\n",
       "      <th>2018-01-16</th>\n",
       "      <td>0.793893</td>\n",
       "    </tr>\n",
       "    <tr>\n",
       "      <th>2018-01-17</th>\n",
       "      <td>0.793893</td>\n",
       "    </tr>\n",
       "    <tr>\n",
       "      <th>2018-01-18</th>\n",
       "      <td>0.793893</td>\n",
       "    </tr>\n",
       "  </tbody>\n",
       "</table>\n",
       "</div>"
      ],
      "text/plain": [
       "                   readvalue\n",
       "house  datetime             \n",
       "house1 2018-01-15   0.500000\n",
       "       2018-01-16   0.793893\n",
       "       2018-01-17   0.793893\n",
       "       2018-01-18   0.793893"
      ]
     },
     "execution_count": 10,
     "metadata": {},
     "output_type": "execute_result"
    }
   ],
   "source": [
    "df_bfill = df.groupby('house')\\\n",
    "            .resample('D')\\\n",
    "            .bfill()\\\n",
    "            .drop('house', axis=1)\n",
    "df_bfill.head(4)"
   ]
  },
  {
   "cell_type": "markdown",
   "metadata": {},
   "source": [
    "### interpolate() - interpolating\n",
    "If we want to mean interpolate the missing values, we need to do this in two steps. First, we generate the data grid by using `mean()` to generate NaNs. Afterwards we fill the NaNs by interpolated values by calling the `interpolate()` method on the readvalue column:"
   ]
  },
  {
   "cell_type": "code",
   "execution_count": 11,
   "metadata": {
    "scrolled": true
   },
   "outputs": [
    {
     "data": {
      "text/html": [
       "<div>\n",
       "<style scoped>\n",
       "    .dataframe tbody tr th:only-of-type {\n",
       "        vertical-align: middle;\n",
       "    }\n",
       "\n",
       "    .dataframe tbody tr th {\n",
       "        vertical-align: top;\n",
       "    }\n",
       "\n",
       "    .dataframe thead th {\n",
       "        text-align: right;\n",
       "    }\n",
       "</style>\n",
       "<table border=\"1\" class=\"dataframe\">\n",
       "  <thead>\n",
       "    <tr style=\"text-align: right;\">\n",
       "      <th></th>\n",
       "      <th></th>\n",
       "      <th>readvalue</th>\n",
       "    </tr>\n",
       "    <tr>\n",
       "      <th>house</th>\n",
       "      <th>datetime</th>\n",
       "      <th></th>\n",
       "    </tr>\n",
       "  </thead>\n",
       "  <tbody>\n",
       "    <tr>\n",
       "      <th rowspan=\"4\" valign=\"top\">house1</th>\n",
       "      <th>2018-01-15</th>\n",
       "      <td>0.500000</td>\n",
       "    </tr>\n",
       "    <tr>\n",
       "      <th>2018-01-16</th>\n",
       "      <td>0.597964</td>\n",
       "    </tr>\n",
       "    <tr>\n",
       "      <th>2018-01-17</th>\n",
       "      <td>0.695928</td>\n",
       "    </tr>\n",
       "    <tr>\n",
       "      <th>2018-01-18</th>\n",
       "      <td>0.793893</td>\n",
       "    </tr>\n",
       "  </tbody>\n",
       "</table>\n",
       "</div>"
      ],
      "text/plain": [
       "                   readvalue\n",
       "house  datetime             \n",
       "house1 2018-01-15   0.500000\n",
       "       2018-01-16   0.597964\n",
       "       2018-01-17   0.695928\n",
       "       2018-01-18   0.793893"
      ]
     },
     "execution_count": 11,
     "metadata": {},
     "output_type": "execute_result"
    }
   ],
   "source": [
    "df_interpol = df.groupby('house')\\\n",
    "                .resample('D')\\\n",
    "                .mean()\n",
    "df_interpol['readvalue'] = df_interpol['readvalue'].interpolate()\n",
    "df_interpol.head(4)"
   ]
  },
  {
   "cell_type": "markdown",
   "metadata": {},
   "source": [
    "## Visualizing the Results\n",
    "Finally we can visualize the three different filling methods to get a better idea of their results. The opaque dots show the interpolated values.\n",
    "\n",
    "We can clearly see how in the top figure, the gaps have been filled with the last known value, in the middle figure, the gaps have been filled with the next value to come and in the bottom figure the difference has been interpolated."
   ]
  },
  {
   "cell_type": "code",
   "execution_count": 24,
   "metadata": {
    "scrolled": true
   },
   "outputs": [
    {
     "data": {
      "image/png": "[encoded data removed]",
      "text/plain": [
       "<matplotlib.figure.Figure at 0xa973186c>"
      ]
     },
     "metadata": {},
     "output_type": "display_data"
    }
   ],
   "source": [
    "# Setting figure parameters\n",
    "params = {'legend.fontsize' : 'large',\n",
    "         'figure.figsize': (9,8),\n",
    "         'axes.labelsize': 'large',\n",
    "         'xtick.labelsize': 'medium',\n",
    "         'ytick.labelsize': 'medium'}\n",
    "plt.rcParams.update(params)\n",
    "\n",
    "# Generate a list of dataframes to loop over\n",
    "dfs = []\n",
    "dfs.append(df_pad.reset_index())\n",
    "dfs.append(df_bfill.reset_index())\n",
    "dfs.append(df_interpol.reset_index())\n",
    "\n",
    "ylabel = ['pad', 'bfill', 'interpolate']\n",
    "\n",
    "n_df = len(dfs)\n",
    "fig, ax = plt.subplots(n_df)\n",
    "\n",
    "for myhouse in [\"house1\", \"house2\"]:\n",
    "\n",
    "    for i in range(n_df):\n",
    "        ax[i].scatter(pd.DatetimeIndex(dfs[i][dfs[i].house==myhouse]['datetime']), pd.to_numeric(dfs[i][dfs[i].house==myhouse]['readvalue']), color=colors[myhouse], s=60, alpha=0.5)\n",
    "        ax[i].scatter(pd.DatetimeIndex(df0[df0.house==myhouse]['datetime']), pd.to_numeric(df0[df0.house==myhouse]['readvalue']), color=colors[myhouse], s=60)\n",
    "        \n",
    "        ax[i].set_xlim(min(pd.DatetimeIndex(df0['datetime'])), max(pd.DatetimeIndex(df0['datetime'])))\n",
    "        ax[i].set_ylim([-0.1, 1.1])\n",
    "\n",
    "fig.autofmt_xdate()\n",
    "\n",
    "for i in range(n_df):\n",
    "    ax[i].set_ylabel(ylabel[i])\n",
    "\n",
    "# Adding another subplot in order to have common y-label\n",
    "fig.add_subplot(111, frameon=False)\n",
    "# hide tick and tick label of the common axes\n",
    "plt.tick_params(labelcolor='none', top='off', bottom='off', left='off', right='off')\n",
    "plt.grid(False)\n",
    "plt.xlabel('ReadDate', labelpad=40)\n",
    "plt.ylabel('ReadValue', labelpad=40)\n",
    "\n",
    "plt.tight_layout()\n",
    "plt.savefig('interpolating-timeseries-p1-pandas-fig2.png')\n",
    "plt.show()\n",
    "plt.close()"
   ]
  },
  {
   "cell_type": "markdown",
   "metadata": {},
   "source": [
    "## Summary\n",
    "\n",
    "In this blog post we have seen how we can use Python Pandas to interpolate time series data using either backfill, forward fill or interpolation methods. Having used this example to set the scene, in the next post, we will see how to achieve the same thing using PySpark. "
   ]
  }
 ],
 "metadata": {
  "kernelspec": {
   "display_name": "Python 3",
   "language": "python",
   "name": "python3"
  },
  "language_info": {
   "codemirror_mode": {
    "name": "ipython",
    "version": 3
   },
   "file_extension": ".py",
   "mimetype": "text/x-python",
   "name": "python",
   "nbconvert_exporter": "python",
   "pygments_lexer": "ipython3",
   "version": "3.7.6"
  },
  "toc": {
   "base_numbering": 1,
   "nav_menu": {},
   "number_sections": true,
   "sideBar": true,
   "skip_h1_title": false,
   "title_cell": "Table of Contents",
   "title_sidebar": "Contents",
   "toc_cell": false,
   "toc_position": {},
   "toc_section_display": true,
   "toc_window_display": false
  }
 },
 "nbformat": 4,
 "nbformat_minor": 2
}
