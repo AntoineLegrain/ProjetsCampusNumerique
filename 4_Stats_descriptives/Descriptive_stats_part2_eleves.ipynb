{
 "cells": [
  {
   "cell_type": "code",
   "execution_count": 1,
   "metadata": {},
   "outputs": [],
   "source": [
    "import pandas as pd\n",
    "#%matplotlib notebook\n",
    "from matplotlib import pyplot as plt\n",
    "import numpy as np\n",
    "import glob\n",
    "from sklearn import preprocessing\n",
    "import seaborn as sns\n",
    "import matplotlib.dates as mdates"
   ]
  },
  {
   "cell_type": "markdown",
   "metadata": {
    "extensions": {
     "jupyter_dashboards": {
      "version": 1,
      "views": {
       "grid_default": {
        "col": 0,
        "height": 4,
        "hidden": false,
        "row": 0,
        "width": 4
       },
       "report_default": {
        "hidden": false
       }
      }
     }
    }
   },
   "source": [
    "**DATA8 - Statistics for Machine Learning - part 2**"
   ]
  },
  {
   "cell_type": "markdown",
   "metadata": {},
   "source": [
    "Projet = Consommation et production électrique en France"
   ]
  },
  {
   "cell_type": "markdown",
   "metadata": {},
   "source": [
    "**Objectifs**\n",
    "<font color=#339966> \n",
    "\n",
    "1. Manipulation de données avec pandas\n",
    "    - Création des dataframes à partir des fichiers RTE\n",
    "    - Exploration des données contenues dans ces dataframes   \n",
    "    \n",
    "    \n",
    "2. Etude des relations entre variables\n",
    "\n",
    "</font> \n",
    "\n",
    "**Conseils généraux:**\n",
    "<font color=#0033cc>\n",
    "- Afficher les premières lignes de la variables que vous êtes en train d'étudier peut vous aider à comprendre bien des problèmes (méthode 'head' de Pandas)\n",
    "- Lorsque c'est nécessaire (selon ce que vous cherchez) penser à normaliser/standardiser les données\n",
    "- C'est une analyse exploratoire: tatonnez, plotez, ... \n",
    "- Ne pas hésiter à consulter l'aide de Pandas ou à chercher la réponse à vos questions sur internet..\n",
    "</font>\n"
   ]
  },
  {
   "cell_type": "markdown",
   "metadata": {
    "extensions": {
     "jupyter_dashboards": {
      "version": 1,
      "views": {
       "grid_default": {
        "col": 4,
        "height": 4,
        "hidden": false,
        "row": 0,
        "width": 4
       },
       "report_default": {
        "hidden": false
       }
      }
     }
    }
   },
   "source": [
    "# Data exploration"
   ]
  },
  {
   "cell_type": "markdown",
   "metadata": {},
   "source": [
    "An EDA checklist\n",
    "\n",
    "1. What question(s) are you trying to solve / prove wrong ?\n",
    "2. What kind of data do you have and how do you treat different types ?\n",
    "3. What’s missing from the data and how do you deal with it ?\n",
    "4. Where are the outliers and why should you care about them ?\n",
    "5. How can you add, change or remove features to get more out of your data ?\n",
    "        \n",
    "https://towardsdatascience.com/a-gentle-introduction-to-exploratory-data-analysis-f11d843b8184"
   ]
  },
  {
   "cell_type": "code",
   "execution_count": 2,
   "metadata": {
    "extensions": {
     "jupyter_dashboards": {
      "version": 1,
      "views": {
       "grid_default": {
        "hidden": true
       },
       "report_default": {
        "hidden": true
       }
      }
     }
    }
   },
   "outputs": [],
   "source": [
    "from matplotlib import rcParams\n",
    "rcParams['figure.figsize'] = 15, 8\n",
    "sns.set_palette(sns.color_palette(\"hls\", 12))"
   ]
  },
  {
   "cell_type": "markdown",
   "metadata": {},
   "source": [
    "**Objectifs**\n",
    "<font color='green'>\n",
    "    \n",
    "1. Charger et nettoyer des données: read_csv, parse date, concat\n",
    "2. Manipuler les données pour mieux les comprendre: groupby, pivot, stack/unstack\n",
    "\n",
    "</font>"
   ]
  },
  {
   "cell_type": "markdown",
   "metadata": {},
   "source": [
    "## Création des dataframe"
   ]
  },
  {
   "cell_type": "markdown",
   "metadata": {},
   "source": [
    "### Données nationales "
   ]
  },
  {
   "cell_type": "code",
   "execution_count": 4,
   "metadata": {},
   "outputs": [],
   "source": [
    "path='../DATA/data_RTE/conso' # use your path\n",
    "fichier_nationaux = glob.glob(path + \"/eCO2mix_RTE_Annuel-Definitif*.zip\")\n",
    "\n",
    "li = []\n",
    "\n",
    "for filename in fichier_nationaux:\n",
    "    df = pd.read_csv(filename, sep='\\t' , encoding='latin_1', index_col = False,na_values='ND')\n",
    "    li.append(df)\n",
    "\n",
    "df_national = pd.concat(li, axis=0, ignore_index=True,sort=False)\n",
    "\n",
    "df_national['Datetime']=df_national['Date']+' '+df_national['Heures']\n",
    "df_national['Datetime']=pd.to_datetime(df_national['Datetime'])\n",
    "df_national.index=df_national['Datetime']\n",
    "df_national=df_national.drop(['Date', 'Heures','Périmètre','Nature','Datetime'], axis=1)"
   ]
  },
  {
   "cell_type": "code",
   "execution_count": 5,
   "metadata": {},
   "outputs": [
    {
     "data": {
      "text/html": [
       "<div>\n",
       "<style scoped>\n",
       "    .dataframe tbody tr th:only-of-type {\n",
       "        vertical-align: middle;\n",
       "    }\n",
       "\n",
       "    .dataframe tbody tr th {\n",
       "        vertical-align: top;\n",
       "    }\n",
       "\n",
       "    .dataframe thead th {\n",
       "        text-align: right;\n",
       "    }\n",
       "</style>\n",
       "<table border=\"1\" class=\"dataframe\">\n",
       "  <thead>\n",
       "    <tr style=\"text-align: right;\">\n",
       "      <th></th>\n",
       "      <th>Consommation</th>\n",
       "      <th>Prévision J-1</th>\n",
       "      <th>Prévision J</th>\n",
       "      <th>Fioul</th>\n",
       "      <th>Charbon</th>\n",
       "      <th>Gaz</th>\n",
       "      <th>Nucléaire</th>\n",
       "      <th>Eolien</th>\n",
       "      <th>Solaire</th>\n",
       "      <th>Hydraulique</th>\n",
       "      <th>...</th>\n",
       "      <th>Gaz - TAC</th>\n",
       "      <th>Gaz - Cogén.</th>\n",
       "      <th>Gaz - CCG</th>\n",
       "      <th>Gaz - Autres</th>\n",
       "      <th>Hydraulique - Fil de l?eau + éclusée</th>\n",
       "      <th>Hydraulique - Lacs</th>\n",
       "      <th>Hydraulique - STEP turbinage</th>\n",
       "      <th>Bioénergies - Déchets</th>\n",
       "      <th>Bioénergies - Biomasse</th>\n",
       "      <th>Bioénergies - Biogaz</th>\n",
       "    </tr>\n",
       "    <tr>\n",
       "      <th>Datetime</th>\n",
       "      <th></th>\n",
       "      <th></th>\n",
       "      <th></th>\n",
       "      <th></th>\n",
       "      <th></th>\n",
       "      <th></th>\n",
       "      <th></th>\n",
       "      <th></th>\n",
       "      <th></th>\n",
       "      <th></th>\n",
       "      <th></th>\n",
       "      <th></th>\n",
       "      <th></th>\n",
       "      <th></th>\n",
       "      <th></th>\n",
       "      <th></th>\n",
       "      <th></th>\n",
       "      <th></th>\n",
       "      <th></th>\n",
       "      <th></th>\n",
       "      <th></th>\n",
       "    </tr>\n",
       "  </thead>\n",
       "  <tbody>\n",
       "    <tr>\n",
       "      <th>2015-01-01 00:00:00</th>\n",
       "      <td>74494.0</td>\n",
       "      <td>72900.0</td>\n",
       "      <td>73700.0</td>\n",
       "      <td>269.0</td>\n",
       "      <td>2487.0</td>\n",
       "      <td>3476.0</td>\n",
       "      <td>57982.0</td>\n",
       "      <td>1268.0</td>\n",
       "      <td>0.0</td>\n",
       "      <td>9321.0</td>\n",
       "      <td>...</td>\n",
       "      <td>3.0</td>\n",
       "      <td>2056.0</td>\n",
       "      <td>1350.0</td>\n",
       "      <td>66.0</td>\n",
       "      <td>4810.0</td>\n",
       "      <td>3093.0</td>\n",
       "      <td>1418.0</td>\n",
       "      <td>560.0</td>\n",
       "      <td>181.0</td>\n",
       "      <td>197.0</td>\n",
       "    </tr>\n",
       "    <tr>\n",
       "      <th>2015-01-01 00:15:00</th>\n",
       "      <td>NaN</td>\n",
       "      <td>72250.0</td>\n",
       "      <td>73050.0</td>\n",
       "      <td>NaN</td>\n",
       "      <td>NaN</td>\n",
       "      <td>NaN</td>\n",
       "      <td>NaN</td>\n",
       "      <td>NaN</td>\n",
       "      <td>NaN</td>\n",
       "      <td>NaN</td>\n",
       "      <td>...</td>\n",
       "      <td>NaN</td>\n",
       "      <td>NaN</td>\n",
       "      <td>NaN</td>\n",
       "      <td>NaN</td>\n",
       "      <td>NaN</td>\n",
       "      <td>NaN</td>\n",
       "      <td>NaN</td>\n",
       "      <td>NaN</td>\n",
       "      <td>NaN</td>\n",
       "      <td>NaN</td>\n",
       "    </tr>\n",
       "    <tr>\n",
       "      <th>2015-01-01 00:30:00</th>\n",
       "      <td>73481.0</td>\n",
       "      <td>71600.0</td>\n",
       "      <td>72400.0</td>\n",
       "      <td>319.0</td>\n",
       "      <td>2087.0</td>\n",
       "      <td>2691.0</td>\n",
       "      <td>57856.0</td>\n",
       "      <td>1343.0</td>\n",
       "      <td>-1.0</td>\n",
       "      <td>9664.0</td>\n",
       "      <td>...</td>\n",
       "      <td>9.0</td>\n",
       "      <td>1926.0</td>\n",
       "      <td>670.0</td>\n",
       "      <td>86.0</td>\n",
       "      <td>4616.0</td>\n",
       "      <td>3561.0</td>\n",
       "      <td>1487.0</td>\n",
       "      <td>507.0</td>\n",
       "      <td>180.0</td>\n",
       "      <td>210.0</td>\n",
       "    </tr>\n",
       "    <tr>\n",
       "      <th>2015-01-01 00:45:00</th>\n",
       "      <td>NaN</td>\n",
       "      <td>70750.0</td>\n",
       "      <td>71500.0</td>\n",
       "      <td>NaN</td>\n",
       "      <td>NaN</td>\n",
       "      <td>NaN</td>\n",
       "      <td>NaN</td>\n",
       "      <td>NaN</td>\n",
       "      <td>NaN</td>\n",
       "      <td>NaN</td>\n",
       "      <td>...</td>\n",
       "      <td>NaN</td>\n",
       "      <td>NaN</td>\n",
       "      <td>NaN</td>\n",
       "      <td>NaN</td>\n",
       "      <td>NaN</td>\n",
       "      <td>NaN</td>\n",
       "      <td>NaN</td>\n",
       "      <td>NaN</td>\n",
       "      <td>NaN</td>\n",
       "      <td>NaN</td>\n",
       "    </tr>\n",
       "    <tr>\n",
       "      <th>2015-01-01 01:00:00</th>\n",
       "      <td>71506.0</td>\n",
       "      <td>69900.0</td>\n",
       "      <td>70600.0</td>\n",
       "      <td>320.0</td>\n",
       "      <td>1716.0</td>\n",
       "      <td>2436.0</td>\n",
       "      <td>57787.0</td>\n",
       "      <td>1356.0</td>\n",
       "      <td>-1.0</td>\n",
       "      <td>8479.0</td>\n",
       "      <td>...</td>\n",
       "      <td>9.0</td>\n",
       "      <td>1919.0</td>\n",
       "      <td>422.0</td>\n",
       "      <td>86.0</td>\n",
       "      <td>4492.0</td>\n",
       "      <td>2805.0</td>\n",
       "      <td>1182.0</td>\n",
       "      <td>508.0</td>\n",
       "      <td>174.0</td>\n",
       "      <td>212.0</td>\n",
       "    </tr>\n",
       "  </tbody>\n",
       "</table>\n",
       "<p>5 rows × 32 columns</p>\n",
       "</div>"
      ],
      "text/plain": [
       "                     Consommation  Prévision J-1  Prévision J  Fioul  Charbon  \\\n",
       "Datetime                                                                        \n",
       "2015-01-01 00:00:00       74494.0        72900.0      73700.0  269.0   2487.0   \n",
       "2015-01-01 00:15:00           NaN        72250.0      73050.0    NaN      NaN   \n",
       "2015-01-01 00:30:00       73481.0        71600.0      72400.0  319.0   2087.0   \n",
       "2015-01-01 00:45:00           NaN        70750.0      71500.0    NaN      NaN   \n",
       "2015-01-01 01:00:00       71506.0        69900.0      70600.0  320.0   1716.0   \n",
       "\n",
       "                        Gaz  Nucléaire  Eolien  Solaire  Hydraulique  ...  \\\n",
       "Datetime                                                              ...   \n",
       "2015-01-01 00:00:00  3476.0    57982.0  1268.0      0.0       9321.0  ...   \n",
       "2015-01-01 00:15:00     NaN        NaN     NaN      NaN          NaN  ...   \n",
       "2015-01-01 00:30:00  2691.0    57856.0  1343.0     -1.0       9664.0  ...   \n",
       "2015-01-01 00:45:00     NaN        NaN     NaN      NaN          NaN  ...   \n",
       "2015-01-01 01:00:00  2436.0    57787.0  1356.0     -1.0       8479.0  ...   \n",
       "\n",
       "                     Gaz - TAC  Gaz - Cogén.  Gaz - CCG  Gaz - Autres  \\\n",
       "Datetime                                                                \n",
       "2015-01-01 00:00:00        3.0        2056.0     1350.0          66.0   \n",
       "2015-01-01 00:15:00        NaN           NaN        NaN           NaN   \n",
       "2015-01-01 00:30:00        9.0        1926.0      670.0          86.0   \n",
       "2015-01-01 00:45:00        NaN           NaN        NaN           NaN   \n",
       "2015-01-01 01:00:00        9.0        1919.0      422.0          86.0   \n",
       "\n",
       "                     Hydraulique - Fil de l?eau + éclusée  Hydraulique - Lacs  \\\n",
       "Datetime                                                                        \n",
       "2015-01-01 00:00:00                                4810.0              3093.0   \n",
       "2015-01-01 00:15:00                                   NaN                 NaN   \n",
       "2015-01-01 00:30:00                                4616.0              3561.0   \n",
       "2015-01-01 00:45:00                                   NaN                 NaN   \n",
       "2015-01-01 01:00:00                                4492.0              2805.0   \n",
       "\n",
       "                     Hydraulique - STEP turbinage  Bioénergies - Déchets  \\\n",
       "Datetime                                                                   \n",
       "2015-01-01 00:00:00                        1418.0                  560.0   \n",
       "2015-01-01 00:15:00                           NaN                    NaN   \n",
       "2015-01-01 00:30:00                        1487.0                  507.0   \n",
       "2015-01-01 00:45:00                           NaN                    NaN   \n",
       "2015-01-01 01:00:00                        1182.0                  508.0   \n",
       "\n",
       "                     Bioénergies - Biomasse  Bioénergies - Biogaz  \n",
       "Datetime                                                           \n",
       "2015-01-01 00:00:00                   181.0                 197.0  \n",
       "2015-01-01 00:15:00                     NaN                   NaN  \n",
       "2015-01-01 00:30:00                   180.0                 210.0  \n",
       "2015-01-01 00:45:00                     NaN                   NaN  \n",
       "2015-01-01 01:00:00                   174.0                 212.0  \n",
       "\n",
       "[5 rows x 32 columns]"
      ]
     },
     "execution_count": 5,
     "metadata": {},
     "output_type": "execute_result"
    }
   ],
   "source": [
    "df_national.iloc[:5]"
   ]
  },
  {
   "cell_type": "markdown",
   "metadata": {},
   "source": [
    "#### Normalisation "
   ]
  },
  {
   "cell_type": "code",
   "execution_count": 6,
   "metadata": {},
   "outputs": [],
   "source": [
    "x = df_national.values #returns a numpy array\n",
    "min_max_scaler = preprocessing.MinMaxScaler()\n",
    "df_national_n = min_max_scaler.fit_transform(x)\n",
    "df_national_n = pd.DataFrame(df_national_n)\n",
    "df_national_n.index=df_national.index"
   ]
  },
  {
   "cell_type": "code",
   "execution_count": 7,
   "metadata": {},
   "outputs": [],
   "source": [
    "#Using pandas\n",
    "df_national_n2=(df_national - df_national.min()) / (df_national.max() - df_national.min())"
   ]
  },
  {
   "cell_type": "markdown",
   "metadata": {},
   "source": [
    "#### Standardization"
   ]
  },
  {
   "cell_type": "code",
   "execution_count": 8,
   "metadata": {},
   "outputs": [],
   "source": [
    "# Get column names first\n",
    "names = df_national.columns# Create the Scaler object\n",
    "scaler = preprocessing.StandardScaler()# Fit your data on the scaler object\n",
    "df_national_s = scaler.fit_transform(df_national[names])\n",
    "df_national_s = pd.DataFrame(df_national_s, columns=names)\n",
    "df_national_s.index=df_national.index"
   ]
  },
  {
   "cell_type": "code",
   "execution_count": 9,
   "metadata": {},
   "outputs": [],
   "source": [
    "#Using pandas\n",
    "df_national_s2=(df_national - df_national.mean()) / (df_national.std())"
   ]
  },
  {
   "cell_type": "markdown",
   "metadata": {},
   "source": [
    "### Fichiers régionaux"
   ]
  },
  {
   "cell_type": "code",
   "execution_count": 10,
   "metadata": {},
   "outputs": [],
   "source": [
    "path='../DATA/data_RTE/conso' # use your path\n",
    "fichier_regionaux = glob.glob(path + \"/eCO2mix_RTE_*.zip\")\n",
    "\n",
    "for file in fichier_nationaux:\n",
    "    if file in fichier_regionaux:\n",
    "        fichier_regionaux.remove(file)\n",
    "\n",
    "li = []\n",
    "\n",
    "for filename in fichier_regionaux:\n",
    "    df = pd.read_csv(filename, sep='\\t' , encoding='latin_1', index_col = False, na_values=['ND','nan','-'])\n",
    "    li.append(df)\n",
    "\n",
    "df_regional = pd.concat(li, axis=0, ignore_index=True,sort=False)\n",
    "\n",
    "df_regional['Datetime']=df_regional['Date']+' '+df_regional['Heures']\n",
    "df_regional['Datetime']=pd.to_datetime(df_regional['Datetime'])\n",
    "df_regional.index=df_regional['Datetime']\n",
    "df_regional=df_regional.drop(['Date', 'Heures','Nature','Datetime'], axis=1)\n",
    "df_regional.drop(df_regional.tail(1).index,inplace=True)"
   ]
  },
  {
   "cell_type": "code",
   "execution_count": 11,
   "metadata": {},
   "outputs": [
    {
     "data": {
      "text/plain": [
       "12"
      ]
     },
     "execution_count": 11,
     "metadata": {},
     "output_type": "execute_result"
    }
   ],
   "source": [
    "df_regional['Périmètre'].nunique()"
   ]
  },
  {
   "cell_type": "code",
   "execution_count": 12,
   "metadata": {},
   "outputs": [
    {
     "data": {
      "text/html": [
       "<div>\n",
       "<style scoped>\n",
       "    .dataframe tbody tr th:only-of-type {\n",
       "        vertical-align: middle;\n",
       "    }\n",
       "\n",
       "    .dataframe tbody tr th {\n",
       "        vertical-align: top;\n",
       "    }\n",
       "\n",
       "    .dataframe thead th {\n",
       "        text-align: right;\n",
       "    }\n",
       "</style>\n",
       "<table border=\"1\" class=\"dataframe\">\n",
       "  <thead>\n",
       "    <tr style=\"text-align: right;\">\n",
       "      <th></th>\n",
       "      <th>Périmètre</th>\n",
       "      <th>Consommation</th>\n",
       "      <th>Thermique</th>\n",
       "      <th>Nucléaire</th>\n",
       "      <th>Eolien</th>\n",
       "      <th>Solaire</th>\n",
       "      <th>Hydraulique</th>\n",
       "      <th>Pompage</th>\n",
       "      <th>Bioénergies</th>\n",
       "      <th>Ech. physiques</th>\n",
       "    </tr>\n",
       "  </thead>\n",
       "  <tbody>\n",
       "    <tr>\n",
       "      <th>count</th>\n",
       "      <td>2524032</td>\n",
       "      <td>1.262004e+06</td>\n",
       "      <td>1.262004e+06</td>\n",
       "      <td>736169.000000</td>\n",
       "      <td>1.261908e+06</td>\n",
       "      <td>1.262004e+06</td>\n",
       "      <td>1.262004e+06</td>\n",
       "      <td>701129.000000</td>\n",
       "      <td>1.262004e+06</td>\n",
       "      <td>1.262004e+06</td>\n",
       "    </tr>\n",
       "    <tr>\n",
       "      <th>unique</th>\n",
       "      <td>12</td>\n",
       "      <td>NaN</td>\n",
       "      <td>NaN</td>\n",
       "      <td>NaN</td>\n",
       "      <td>NaN</td>\n",
       "      <td>NaN</td>\n",
       "      <td>NaN</td>\n",
       "      <td>NaN</td>\n",
       "      <td>NaN</td>\n",
       "      <td>NaN</td>\n",
       "    </tr>\n",
       "    <tr>\n",
       "      <th>top</th>\n",
       "      <td>Occitanie</td>\n",
       "      <td>NaN</td>\n",
       "      <td>NaN</td>\n",
       "      <td>NaN</td>\n",
       "      <td>NaN</td>\n",
       "      <td>NaN</td>\n",
       "      <td>NaN</td>\n",
       "      <td>NaN</td>\n",
       "      <td>NaN</td>\n",
       "      <td>NaN</td>\n",
       "    </tr>\n",
       "    <tr>\n",
       "      <th>freq</th>\n",
       "      <td>210336</td>\n",
       "      <td>NaN</td>\n",
       "      <td>NaN</td>\n",
       "      <td>NaN</td>\n",
       "      <td>NaN</td>\n",
       "      <td>NaN</td>\n",
       "      <td>NaN</td>\n",
       "      <td>NaN</td>\n",
       "      <td>NaN</td>\n",
       "      <td>NaN</td>\n",
       "    </tr>\n",
       "    <tr>\n",
       "      <th>mean</th>\n",
       "      <td>NaN</td>\n",
       "      <td>4.536356e+03</td>\n",
       "      <td>3.757400e+02</td>\n",
       "      <td>6495.611720</td>\n",
       "      <td>2.014907e+02</td>\n",
       "      <td>7.202598e+01</td>\n",
       "      <td>6.089110e+02</td>\n",
       "      <td>-123.706673</td>\n",
       "      <td>7.802958e+01</td>\n",
       "      <td>-5.207025e+02</td>\n",
       "    </tr>\n",
       "    <tr>\n",
       "      <th>std</th>\n",
       "      <td>NaN</td>\n",
       "      <td>2.210000e+03</td>\n",
       "      <td>5.533273e+02</td>\n",
       "      <td>3075.337283</td>\n",
       "      <td>3.239616e+02</td>\n",
       "      <td>1.728699e+02</td>\n",
       "      <td>1.036877e+03</td>\n",
       "      <td>322.040673</td>\n",
       "      <td>4.485493e+01</td>\n",
       "      <td>4.466365e+03</td>\n",
       "    </tr>\n",
       "    <tr>\n",
       "      <th>min</th>\n",
       "      <td>NaN</td>\n",
       "      <td>1.009000e+03</td>\n",
       "      <td>-8.300000e+01</td>\n",
       "      <td>-89.000000</td>\n",
       "      <td>-6.000000e+00</td>\n",
       "      <td>-2.000000e+00</td>\n",
       "      <td>-6.000000e+00</td>\n",
       "      <td>-2253.000000</td>\n",
       "      <td>4.000000e+00</td>\n",
       "      <td>-1.219100e+04</td>\n",
       "    </tr>\n",
       "    <tr>\n",
       "      <th>25%</th>\n",
       "      <td>NaN</td>\n",
       "      <td>2.802000e+03</td>\n",
       "      <td>2.500000e+01</td>\n",
       "      <td>3889.000000</td>\n",
       "      <td>2.100000e+01</td>\n",
       "      <td>0.000000e+00</td>\n",
       "      <td>4.000000e+00</td>\n",
       "      <td>-16.000000</td>\n",
       "      <td>4.200000e+01</td>\n",
       "      <td>-4.570000e+03</td>\n",
       "    </tr>\n",
       "    <tr>\n",
       "      <th>50%</th>\n",
       "      <td>NaN</td>\n",
       "      <td>4.133000e+03</td>\n",
       "      <td>1.380000e+02</td>\n",
       "      <td>6448.000000</td>\n",
       "      <td>8.600000e+01</td>\n",
       "      <td>0.000000e+00</td>\n",
       "      <td>5.800000e+01</td>\n",
       "      <td>0.000000</td>\n",
       "      <td>6.800000e+01</td>\n",
       "      <td>5.895000e+02</td>\n",
       "    </tr>\n",
       "    <tr>\n",
       "      <th>75%</th>\n",
       "      <td>NaN</td>\n",
       "      <td>5.798000e+03</td>\n",
       "      <td>4.950000e+02</td>\n",
       "      <td>9010.000000</td>\n",
       "      <td>2.410000e+02</td>\n",
       "      <td>5.400000e+01</td>\n",
       "      <td>9.060000e+02</td>\n",
       "      <td>0.000000</td>\n",
       "      <td>1.090000e+02</td>\n",
       "      <td>2.269000e+03</td>\n",
       "    </tr>\n",
       "    <tr>\n",
       "      <th>max</th>\n",
       "      <td>NaN</td>\n",
       "      <td>1.533800e+04</td>\n",
       "      <td>4.293000e+03</td>\n",
       "      <td>13632.000000</td>\n",
       "      <td>3.448000e+03</td>\n",
       "      <td>1.919000e+03</td>\n",
       "      <td>8.272000e+03</td>\n",
       "      <td>0.000000</td>\n",
       "      <td>4.040000e+02</td>\n",
       "      <td>1.395900e+04</td>\n",
       "    </tr>\n",
       "  </tbody>\n",
       "</table>\n",
       "</div>"
      ],
      "text/plain": [
       "        Périmètre  Consommation     Thermique      Nucléaire        Eolien  \\\n",
       "count     2524032  1.262004e+06  1.262004e+06  736169.000000  1.261908e+06   \n",
       "unique         12           NaN           NaN            NaN           NaN   \n",
       "top     Occitanie           NaN           NaN            NaN           NaN   \n",
       "freq       210336           NaN           NaN            NaN           NaN   \n",
       "mean          NaN  4.536356e+03  3.757400e+02    6495.611720  2.014907e+02   \n",
       "std           NaN  2.210000e+03  5.533273e+02    3075.337283  3.239616e+02   \n",
       "min           NaN  1.009000e+03 -8.300000e+01     -89.000000 -6.000000e+00   \n",
       "25%           NaN  2.802000e+03  2.500000e+01    3889.000000  2.100000e+01   \n",
       "50%           NaN  4.133000e+03  1.380000e+02    6448.000000  8.600000e+01   \n",
       "75%           NaN  5.798000e+03  4.950000e+02    9010.000000  2.410000e+02   \n",
       "max           NaN  1.533800e+04  4.293000e+03   13632.000000  3.448000e+03   \n",
       "\n",
       "             Solaire   Hydraulique        Pompage   Bioénergies  \\\n",
       "count   1.262004e+06  1.262004e+06  701129.000000  1.262004e+06   \n",
       "unique           NaN           NaN            NaN           NaN   \n",
       "top              NaN           NaN            NaN           NaN   \n",
       "freq             NaN           NaN            NaN           NaN   \n",
       "mean    7.202598e+01  6.089110e+02    -123.706673  7.802958e+01   \n",
       "std     1.728699e+02  1.036877e+03     322.040673  4.485493e+01   \n",
       "min    -2.000000e+00 -6.000000e+00   -2253.000000  4.000000e+00   \n",
       "25%     0.000000e+00  4.000000e+00     -16.000000  4.200000e+01   \n",
       "50%     0.000000e+00  5.800000e+01       0.000000  6.800000e+01   \n",
       "75%     5.400000e+01  9.060000e+02       0.000000  1.090000e+02   \n",
       "max     1.919000e+03  8.272000e+03       0.000000  4.040000e+02   \n",
       "\n",
       "        Ech. physiques  \n",
       "count     1.262004e+06  \n",
       "unique             NaN  \n",
       "top                NaN  \n",
       "freq               NaN  \n",
       "mean     -5.207025e+02  \n",
       "std       4.466365e+03  \n",
       "min      -1.219100e+04  \n",
       "25%      -4.570000e+03  \n",
       "50%       5.895000e+02  \n",
       "75%       2.269000e+03  \n",
       "max       1.395900e+04  "
      ]
     },
     "execution_count": 12,
     "metadata": {},
     "output_type": "execute_result"
    }
   ],
   "source": [
    "df_regional.describe(include='all')"
   ]
  },
  {
   "cell_type": "code",
   "execution_count": 13,
   "metadata": {},
   "outputs": [
    {
     "data": {
      "text/plain": [
       "Périmètre          object\n",
       "Consommation      float64\n",
       "Thermique         float64\n",
       "Nucléaire         float64\n",
       "Eolien            float64\n",
       "Solaire           float64\n",
       "Hydraulique       float64\n",
       "Pompage           float64\n",
       "Bioénergies       float64\n",
       "Ech. physiques    float64\n",
       "dtype: object"
      ]
     },
     "execution_count": 13,
     "metadata": {},
     "output_type": "execute_result"
    }
   ],
   "source": [
    "df_regional.dtypes"
   ]
  },
  {
   "cell_type": "code",
   "execution_count": 14,
   "metadata": {},
   "outputs": [],
   "source": [
    "# from datetime import datetime\n",
    "# # datetime_str = '2018-01-01 00:15'\n",
    "\n",
    "# # datetime_str = datetime.strptime(datetime_str, '%Y-%m-%d %H:%M')\n",
    "\n",
    "# # print(type(datetime_str))\n",
    "# # print(datetime_str)  # printed in default format\n",
    "\n",
    "# def todate(A):\n",
    "#     if not(pd.isnull(A)):\n",
    "#         return datetime.strptime(A, '%Y-%m-%d %H:%M')\n",
    "\n",
    "# df_regional['Datetime']=df_regional['Date']+' '+df_regional['Heures']\n",
    "# df_regional['Datetime']=df_regional['Datetime'].apply(todate)\n",
    "# df_regional.index=df_regional['Datetime']"
   ]
  },
  {
   "cell_type": "code",
   "execution_count": 15,
   "metadata": {
    "scrolled": true
   },
   "outputs": [
    {
     "data": {
      "text/html": [
       "<div>\n",
       "<style scoped>\n",
       "    .dataframe tbody tr th:only-of-type {\n",
       "        vertical-align: middle;\n",
       "    }\n",
       "\n",
       "    .dataframe tbody tr th {\n",
       "        vertical-align: top;\n",
       "    }\n",
       "\n",
       "    .dataframe thead th {\n",
       "        text-align: right;\n",
       "    }\n",
       "</style>\n",
       "<table border=\"1\" class=\"dataframe\">\n",
       "  <thead>\n",
       "    <tr style=\"text-align: right;\">\n",
       "      <th></th>\n",
       "      <th>Périmètre</th>\n",
       "      <th>Consommation</th>\n",
       "      <th>Thermique</th>\n",
       "      <th>Nucléaire</th>\n",
       "      <th>Eolien</th>\n",
       "      <th>Solaire</th>\n",
       "      <th>Hydraulique</th>\n",
       "      <th>Pompage</th>\n",
       "      <th>Bioénergies</th>\n",
       "      <th>Ech. physiques</th>\n",
       "    </tr>\n",
       "    <tr>\n",
       "      <th>Datetime</th>\n",
       "      <th></th>\n",
       "      <th></th>\n",
       "      <th></th>\n",
       "      <th></th>\n",
       "      <th></th>\n",
       "      <th></th>\n",
       "      <th></th>\n",
       "      <th></th>\n",
       "      <th></th>\n",
       "      <th></th>\n",
       "    </tr>\n",
       "  </thead>\n",
       "  <tbody>\n",
       "    <tr>\n",
       "      <th>2018-01-01 00:00:00</th>\n",
       "      <td>Centre-Val de Loire</td>\n",
       "      <td>2413.0</td>\n",
       "      <td>88.0</td>\n",
       "      <td>9309.0</td>\n",
       "      <td>867.0</td>\n",
       "      <td>0.0</td>\n",
       "      <td>33.0</td>\n",
       "      <td>NaN</td>\n",
       "      <td>54.0</td>\n",
       "      <td>-7938.0</td>\n",
       "    </tr>\n",
       "    <tr>\n",
       "      <th>2018-01-01 00:15:00</th>\n",
       "      <td>Centre-Val de Loire</td>\n",
       "      <td>NaN</td>\n",
       "      <td>NaN</td>\n",
       "      <td>NaN</td>\n",
       "      <td>NaN</td>\n",
       "      <td>NaN</td>\n",
       "      <td>NaN</td>\n",
       "      <td>NaN</td>\n",
       "      <td>NaN</td>\n",
       "      <td>NaN</td>\n",
       "    </tr>\n",
       "    <tr>\n",
       "      <th>2018-01-01 00:30:00</th>\n",
       "      <td>Centre-Val de Loire</td>\n",
       "      <td>2411.0</td>\n",
       "      <td>91.0</td>\n",
       "      <td>7981.0</td>\n",
       "      <td>873.0</td>\n",
       "      <td>0.0</td>\n",
       "      <td>34.0</td>\n",
       "      <td>NaN</td>\n",
       "      <td>57.0</td>\n",
       "      <td>-6623.0</td>\n",
       "    </tr>\n",
       "    <tr>\n",
       "      <th>2018-01-01 00:45:00</th>\n",
       "      <td>Centre-Val de Loire</td>\n",
       "      <td>NaN</td>\n",
       "      <td>NaN</td>\n",
       "      <td>NaN</td>\n",
       "      <td>NaN</td>\n",
       "      <td>NaN</td>\n",
       "      <td>NaN</td>\n",
       "      <td>NaN</td>\n",
       "      <td>NaN</td>\n",
       "      <td>NaN</td>\n",
       "    </tr>\n",
       "    <tr>\n",
       "      <th>2018-01-01 01:00:00</th>\n",
       "      <td>Centre-Val de Loire</td>\n",
       "      <td>2297.0</td>\n",
       "      <td>91.0</td>\n",
       "      <td>7415.0</td>\n",
       "      <td>871.0</td>\n",
       "      <td>0.0</td>\n",
       "      <td>35.0</td>\n",
       "      <td>NaN</td>\n",
       "      <td>57.0</td>\n",
       "      <td>-6172.0</td>\n",
       "    </tr>\n",
       "  </tbody>\n",
       "</table>\n",
       "</div>"
      ],
      "text/plain": [
       "                               Périmètre  Consommation  Thermique  Nucléaire  \\\n",
       "Datetime                                                                       \n",
       "2018-01-01 00:00:00  Centre-Val de Loire        2413.0       88.0     9309.0   \n",
       "2018-01-01 00:15:00  Centre-Val de Loire           NaN        NaN        NaN   \n",
       "2018-01-01 00:30:00  Centre-Val de Loire        2411.0       91.0     7981.0   \n",
       "2018-01-01 00:45:00  Centre-Val de Loire           NaN        NaN        NaN   \n",
       "2018-01-01 01:00:00  Centre-Val de Loire        2297.0       91.0     7415.0   \n",
       "\n",
       "                     Eolien  Solaire  Hydraulique  Pompage  Bioénergies  \\\n",
       "Datetime                                                                  \n",
       "2018-01-01 00:00:00   867.0      0.0         33.0      NaN         54.0   \n",
       "2018-01-01 00:15:00     NaN      NaN          NaN      NaN          NaN   \n",
       "2018-01-01 00:30:00   873.0      0.0         34.0      NaN         57.0   \n",
       "2018-01-01 00:45:00     NaN      NaN          NaN      NaN          NaN   \n",
       "2018-01-01 01:00:00   871.0      0.0         35.0      NaN         57.0   \n",
       "\n",
       "                     Ech. physiques  \n",
       "Datetime                             \n",
       "2018-01-01 00:00:00         -7938.0  \n",
       "2018-01-01 00:15:00             NaN  \n",
       "2018-01-01 00:30:00         -6623.0  \n",
       "2018-01-01 00:45:00             NaN  \n",
       "2018-01-01 01:00:00         -6172.0  "
      ]
     },
     "execution_count": 15,
     "metadata": {},
     "output_type": "execute_result"
    }
   ],
   "source": [
    "df_regional.head()"
   ]
  },
  {
   "cell_type": "markdown",
   "metadata": {},
   "source": [
    "#### Normalization"
   ]
  },
  {
   "cell_type": "code",
   "execution_count": 16,
   "metadata": {},
   "outputs": [
    {
     "data": {
      "text/html": [
       "<div>\n",
       "<style scoped>\n",
       "    .dataframe tbody tr th:only-of-type {\n",
       "        vertical-align: middle;\n",
       "    }\n",
       "\n",
       "    .dataframe tbody tr th {\n",
       "        vertical-align: top;\n",
       "    }\n",
       "\n",
       "    .dataframe thead th {\n",
       "        text-align: right;\n",
       "    }\n",
       "</style>\n",
       "<table border=\"1\" class=\"dataframe\">\n",
       "  <thead>\n",
       "    <tr style=\"text-align: right;\">\n",
       "      <th></th>\n",
       "      <th>Consommation</th>\n",
       "      <th>Thermique</th>\n",
       "      <th>Nucléaire</th>\n",
       "      <th>Eolien</th>\n",
       "      <th>Solaire</th>\n",
       "      <th>Hydraulique</th>\n",
       "      <th>Pompage</th>\n",
       "      <th>Bioénergies</th>\n",
       "      <th>Ech. physiques</th>\n",
       "      <th>Périmètre</th>\n",
       "    </tr>\n",
       "    <tr>\n",
       "      <th>Datetime</th>\n",
       "      <th></th>\n",
       "      <th></th>\n",
       "      <th></th>\n",
       "      <th></th>\n",
       "      <th></th>\n",
       "      <th></th>\n",
       "      <th></th>\n",
       "      <th></th>\n",
       "      <th></th>\n",
       "      <th></th>\n",
       "    </tr>\n",
       "  </thead>\n",
       "  <tbody>\n",
       "    <tr>\n",
       "      <th>2018-01-01 00:00:00</th>\n",
       "      <td>0.097983</td>\n",
       "      <td>0.039077</td>\n",
       "      <td>0.684936</td>\n",
       "      <td>0.252750</td>\n",
       "      <td>0.001041</td>\n",
       "      <td>0.004711</td>\n",
       "      <td>NaN</td>\n",
       "      <td>0.1250</td>\n",
       "      <td>0.162639</td>\n",
       "      <td>Centre-Val de Loire</td>\n",
       "    </tr>\n",
       "    <tr>\n",
       "      <th>2018-01-01 00:15:00</th>\n",
       "      <td>NaN</td>\n",
       "      <td>NaN</td>\n",
       "      <td>NaN</td>\n",
       "      <td>NaN</td>\n",
       "      <td>NaN</td>\n",
       "      <td>NaN</td>\n",
       "      <td>NaN</td>\n",
       "      <td>NaN</td>\n",
       "      <td>NaN</td>\n",
       "      <td>Centre-Val de Loire</td>\n",
       "    </tr>\n",
       "    <tr>\n",
       "      <th>2018-01-01 00:30:00</th>\n",
       "      <td>0.097844</td>\n",
       "      <td>0.039762</td>\n",
       "      <td>0.588150</td>\n",
       "      <td>0.254488</td>\n",
       "      <td>0.001041</td>\n",
       "      <td>0.004832</td>\n",
       "      <td>NaN</td>\n",
       "      <td>0.1325</td>\n",
       "      <td>0.212925</td>\n",
       "      <td>Centre-Val de Loire</td>\n",
       "    </tr>\n",
       "  </tbody>\n",
       "</table>\n",
       "</div>"
      ],
      "text/plain": [
       "                     Consommation  Thermique  Nucléaire    Eolien   Solaire  \\\n",
       "Datetime                                                                      \n",
       "2018-01-01 00:00:00      0.097983   0.039077   0.684936  0.252750  0.001041   \n",
       "2018-01-01 00:15:00           NaN        NaN        NaN       NaN       NaN   \n",
       "2018-01-01 00:30:00      0.097844   0.039762   0.588150  0.254488  0.001041   \n",
       "\n",
       "                     Hydraulique  Pompage  Bioénergies  Ech. physiques  \\\n",
       "Datetime                                                                 \n",
       "2018-01-01 00:00:00     0.004711      NaN       0.1250        0.162639   \n",
       "2018-01-01 00:15:00          NaN      NaN          NaN             NaN   \n",
       "2018-01-01 00:30:00     0.004832      NaN       0.1325        0.212925   \n",
       "\n",
       "                               Périmètre  \n",
       "Datetime                                  \n",
       "2018-01-01 00:00:00  Centre-Val de Loire  \n",
       "2018-01-01 00:15:00  Centre-Val de Loire  \n",
       "2018-01-01 00:30:00  Centre-Val de Loire  "
      ]
     },
     "execution_count": 16,
     "metadata": {},
     "output_type": "execute_result"
    }
   ],
   "source": [
    "#Using pandas\n",
    "df_regional_n=(df_regional.loc[:,'Consommation':'Ech. physiques'] - df_regional.loc[:,'Consommation':'Ech. physiques'].min()) / (df_regional.loc[:,'Consommation':'Ech. physiques'].max() - df_regional.loc[:,'Consommation':'Ech. physiques'].min())\n",
    "df_regional_n['Périmètre']=df_regional['Périmètre']\n",
    "df_regional_n.head(3)"
   ]
  },
  {
   "cell_type": "markdown",
   "metadata": {},
   "source": [
    "#### Standardization"
   ]
  },
  {
   "cell_type": "code",
   "execution_count": 17,
   "metadata": {},
   "outputs": [
    {
     "data": {
      "text/html": [
       "<div>\n",
       "<style scoped>\n",
       "    .dataframe tbody tr th:only-of-type {\n",
       "        vertical-align: middle;\n",
       "    }\n",
       "\n",
       "    .dataframe tbody tr th {\n",
       "        vertical-align: top;\n",
       "    }\n",
       "\n",
       "    .dataframe thead th {\n",
       "        text-align: right;\n",
       "    }\n",
       "</style>\n",
       "<table border=\"1\" class=\"dataframe\">\n",
       "  <thead>\n",
       "    <tr style=\"text-align: right;\">\n",
       "      <th></th>\n",
       "      <th>Consommation</th>\n",
       "      <th>Thermique</th>\n",
       "      <th>Nucléaire</th>\n",
       "      <th>Eolien</th>\n",
       "      <th>Solaire</th>\n",
       "      <th>Hydraulique</th>\n",
       "      <th>Pompage</th>\n",
       "      <th>Bioénergies</th>\n",
       "      <th>Ech. physiques</th>\n",
       "      <th>Périmètre</th>\n",
       "    </tr>\n",
       "    <tr>\n",
       "      <th>Datetime</th>\n",
       "      <th></th>\n",
       "      <th></th>\n",
       "      <th></th>\n",
       "      <th></th>\n",
       "      <th></th>\n",
       "      <th></th>\n",
       "      <th></th>\n",
       "      <th></th>\n",
       "      <th></th>\n",
       "      <th></th>\n",
       "    </tr>\n",
       "  </thead>\n",
       "  <tbody>\n",
       "    <tr>\n",
       "      <th>2018-01-01 00:00:00</th>\n",
       "      <td>-0.960795</td>\n",
       "      <td>-0.520018</td>\n",
       "      <td>0.914823</td>\n",
       "      <td>2.054285</td>\n",
       "      <td>-0.416649</td>\n",
       "      <td>-0.555428</td>\n",
       "      <td>NaN</td>\n",
       "      <td>-0.535718</td>\n",
       "      <td>-1.660702</td>\n",
       "      <td>Centre-Val de Loire</td>\n",
       "    </tr>\n",
       "    <tr>\n",
       "      <th>2018-01-01 00:15:00</th>\n",
       "      <td>NaN</td>\n",
       "      <td>NaN</td>\n",
       "      <td>NaN</td>\n",
       "      <td>NaN</td>\n",
       "      <td>NaN</td>\n",
       "      <td>NaN</td>\n",
       "      <td>NaN</td>\n",
       "      <td>NaN</td>\n",
       "      <td>NaN</td>\n",
       "      <td>Centre-Val de Loire</td>\n",
       "    </tr>\n",
       "    <tr>\n",
       "      <th>2018-01-01 00:30:00</th>\n",
       "      <td>-0.961700</td>\n",
       "      <td>-0.514596</td>\n",
       "      <td>0.483000</td>\n",
       "      <td>2.072806</td>\n",
       "      <td>-0.416649</td>\n",
       "      <td>-0.554464</td>\n",
       "      <td>NaN</td>\n",
       "      <td>-0.468836</td>\n",
       "      <td>-1.366279</td>\n",
       "      <td>Centre-Val de Loire</td>\n",
       "    </tr>\n",
       "  </tbody>\n",
       "</table>\n",
       "</div>"
      ],
      "text/plain": [
       "                     Consommation  Thermique  Nucléaire    Eolien   Solaire  \\\n",
       "Datetime                                                                      \n",
       "2018-01-01 00:00:00     -0.960795  -0.520018   0.914823  2.054285 -0.416649   \n",
       "2018-01-01 00:15:00           NaN        NaN        NaN       NaN       NaN   \n",
       "2018-01-01 00:30:00     -0.961700  -0.514596   0.483000  2.072806 -0.416649   \n",
       "\n",
       "                     Hydraulique  Pompage  Bioénergies  Ech. physiques  \\\n",
       "Datetime                                                                 \n",
       "2018-01-01 00:00:00    -0.555428      NaN    -0.535718       -1.660702   \n",
       "2018-01-01 00:15:00          NaN      NaN          NaN             NaN   \n",
       "2018-01-01 00:30:00    -0.554464      NaN    -0.468836       -1.366279   \n",
       "\n",
       "                               Périmètre  \n",
       "Datetime                                  \n",
       "2018-01-01 00:00:00  Centre-Val de Loire  \n",
       "2018-01-01 00:15:00  Centre-Val de Loire  \n",
       "2018-01-01 00:30:00  Centre-Val de Loire  "
      ]
     },
     "execution_count": 17,
     "metadata": {},
     "output_type": "execute_result"
    }
   ],
   "source": [
    "from sklearn import preprocessing\n",
    "# Get column names first\n",
    "names = df_regional.loc[:,'Consommation':'Ech. physiques'].columns# Create the Scaler object\n",
    "scaler = preprocessing.StandardScaler()# Fit your data on the scaler object\n",
    "df_regional_s = scaler.fit_transform(df_regional[names])\n",
    "df_regional_s = pd.DataFrame(df_regional_s, columns=names)\n",
    "df_regional_s.index=df_regional.index\n",
    "df_regional_s['Périmètre']=df_regional['Périmètre']\n",
    "df_regional_s.head(3)"
   ]
  },
  {
   "cell_type": "code",
   "execution_count": 18,
   "metadata": {},
   "outputs": [
    {
     "data": {
      "text/html": [
       "<div>\n",
       "<style scoped>\n",
       "    .dataframe tbody tr th:only-of-type {\n",
       "        vertical-align: middle;\n",
       "    }\n",
       "\n",
       "    .dataframe tbody tr th {\n",
       "        vertical-align: top;\n",
       "    }\n",
       "\n",
       "    .dataframe thead th {\n",
       "        text-align: right;\n",
       "    }\n",
       "</style>\n",
       "<table border=\"1\" class=\"dataframe\">\n",
       "  <thead>\n",
       "    <tr style=\"text-align: right;\">\n",
       "      <th></th>\n",
       "      <th>Consommation</th>\n",
       "      <th>Thermique</th>\n",
       "      <th>Nucléaire</th>\n",
       "      <th>Eolien</th>\n",
       "      <th>Solaire</th>\n",
       "      <th>Hydraulique</th>\n",
       "      <th>Pompage</th>\n",
       "      <th>Bioénergies</th>\n",
       "      <th>Ech. physiques</th>\n",
       "      <th>Périmètre</th>\n",
       "    </tr>\n",
       "    <tr>\n",
       "      <th>Datetime</th>\n",
       "      <th></th>\n",
       "      <th></th>\n",
       "      <th></th>\n",
       "      <th></th>\n",
       "      <th></th>\n",
       "      <th></th>\n",
       "      <th></th>\n",
       "      <th></th>\n",
       "      <th></th>\n",
       "      <th></th>\n",
       "    </tr>\n",
       "  </thead>\n",
       "  <tbody>\n",
       "    <tr>\n",
       "      <th>2018-01-01 00:00:00</th>\n",
       "      <td>-0.960795</td>\n",
       "      <td>-0.520018</td>\n",
       "      <td>0.914823</td>\n",
       "      <td>2.054285</td>\n",
       "      <td>-0.416649</td>\n",
       "      <td>-0.555428</td>\n",
       "      <td>NaN</td>\n",
       "      <td>-0.535718</td>\n",
       "      <td>-1.660701</td>\n",
       "      <td>Centre-Val de Loire</td>\n",
       "    </tr>\n",
       "    <tr>\n",
       "      <th>2018-01-01 00:15:00</th>\n",
       "      <td>NaN</td>\n",
       "      <td>NaN</td>\n",
       "      <td>NaN</td>\n",
       "      <td>NaN</td>\n",
       "      <td>NaN</td>\n",
       "      <td>NaN</td>\n",
       "      <td>NaN</td>\n",
       "      <td>NaN</td>\n",
       "      <td>NaN</td>\n",
       "      <td>Centre-Val de Loire</td>\n",
       "    </tr>\n",
       "    <tr>\n",
       "      <th>2018-01-01 00:30:00</th>\n",
       "      <td>-0.961700</td>\n",
       "      <td>-0.514596</td>\n",
       "      <td>0.483000</td>\n",
       "      <td>2.072805</td>\n",
       "      <td>-0.416649</td>\n",
       "      <td>-0.554464</td>\n",
       "      <td>NaN</td>\n",
       "      <td>-0.468835</td>\n",
       "      <td>-1.366278</td>\n",
       "      <td>Centre-Val de Loire</td>\n",
       "    </tr>\n",
       "  </tbody>\n",
       "</table>\n",
       "</div>"
      ],
      "text/plain": [
       "                     Consommation  Thermique  Nucléaire    Eolien   Solaire  \\\n",
       "Datetime                                                                      \n",
       "2018-01-01 00:00:00     -0.960795  -0.520018   0.914823  2.054285 -0.416649   \n",
       "2018-01-01 00:15:00           NaN        NaN        NaN       NaN       NaN   \n",
       "2018-01-01 00:30:00     -0.961700  -0.514596   0.483000  2.072805 -0.416649   \n",
       "\n",
       "                     Hydraulique  Pompage  Bioénergies  Ech. physiques  \\\n",
       "Datetime                                                                 \n",
       "2018-01-01 00:00:00    -0.555428      NaN    -0.535718       -1.660701   \n",
       "2018-01-01 00:15:00          NaN      NaN          NaN             NaN   \n",
       "2018-01-01 00:30:00    -0.554464      NaN    -0.468835       -1.366278   \n",
       "\n",
       "                               Périmètre  \n",
       "Datetime                                  \n",
       "2018-01-01 00:00:00  Centre-Val de Loire  \n",
       "2018-01-01 00:15:00  Centre-Val de Loire  \n",
       "2018-01-01 00:30:00  Centre-Val de Loire  "
      ]
     },
     "execution_count": 18,
     "metadata": {},
     "output_type": "execute_result"
    }
   ],
   "source": [
    "#Using pandas\n",
    "df_regional_s2=(df_regional.loc[:,'Consommation':'Ech. physiques'] - df_regional.loc[:,'Consommation':'Ech. physiques'].mean()) / (df_regional.loc[:,'Consommation':'Ech. physiques'].std())\n",
    "df_regional_s2['Périmètre']=df_regional['Périmètre']\n",
    "df_regional_s2.head(3)"
   ]
  },
  {
   "cell_type": "code",
   "execution_count": 19,
   "metadata": {},
   "outputs": [
    {
     "data": {
      "text/html": [
       "<div>\n",
       "<style scoped>\n",
       "    .dataframe tbody tr th:only-of-type {\n",
       "        vertical-align: middle;\n",
       "    }\n",
       "\n",
       "    .dataframe tbody tr th {\n",
       "        vertical-align: top;\n",
       "    }\n",
       "\n",
       "    .dataframe thead th {\n",
       "        text-align: right;\n",
       "    }\n",
       "</style>\n",
       "<table border=\"1\" class=\"dataframe\">\n",
       "  <thead>\n",
       "    <tr style=\"text-align: right;\">\n",
       "      <th></th>\n",
       "      <th>Consommation</th>\n",
       "      <th>Thermique</th>\n",
       "      <th>Nucléaire</th>\n",
       "      <th>Eolien</th>\n",
       "      <th>Solaire</th>\n",
       "      <th>Hydraulique</th>\n",
       "      <th>Pompage</th>\n",
       "      <th>Bioénergies</th>\n",
       "      <th>Ech. physiques</th>\n",
       "      <th>Périmètre</th>\n",
       "    </tr>\n",
       "    <tr>\n",
       "      <th>Datetime</th>\n",
       "      <th></th>\n",
       "      <th></th>\n",
       "      <th></th>\n",
       "      <th></th>\n",
       "      <th></th>\n",
       "      <th></th>\n",
       "      <th></th>\n",
       "      <th></th>\n",
       "      <th></th>\n",
       "      <th></th>\n",
       "    </tr>\n",
       "  </thead>\n",
       "  <tbody>\n",
       "    <tr>\n",
       "      <th>2018-01-01 00:00:00</th>\n",
       "      <td>-0.960795</td>\n",
       "      <td>-0.520018</td>\n",
       "      <td>0.914823</td>\n",
       "      <td>2.054285</td>\n",
       "      <td>-0.416649</td>\n",
       "      <td>-0.555428</td>\n",
       "      <td>NaN</td>\n",
       "      <td>-0.535718</td>\n",
       "      <td>-1.660701</td>\n",
       "      <td>Centre-Val de Loire</td>\n",
       "    </tr>\n",
       "    <tr>\n",
       "      <th>2018-01-01 00:15:00</th>\n",
       "      <td>NaN</td>\n",
       "      <td>NaN</td>\n",
       "      <td>NaN</td>\n",
       "      <td>NaN</td>\n",
       "      <td>NaN</td>\n",
       "      <td>NaN</td>\n",
       "      <td>NaN</td>\n",
       "      <td>NaN</td>\n",
       "      <td>NaN</td>\n",
       "      <td>Centre-Val de Loire</td>\n",
       "    </tr>\n",
       "    <tr>\n",
       "      <th>2018-01-01 00:30:00</th>\n",
       "      <td>-0.961700</td>\n",
       "      <td>-0.514596</td>\n",
       "      <td>0.483000</td>\n",
       "      <td>2.072805</td>\n",
       "      <td>-0.416649</td>\n",
       "      <td>-0.554464</td>\n",
       "      <td>NaN</td>\n",
       "      <td>-0.468835</td>\n",
       "      <td>-1.366278</td>\n",
       "      <td>Centre-Val de Loire</td>\n",
       "    </tr>\n",
       "  </tbody>\n",
       "</table>\n",
       "</div>"
      ],
      "text/plain": [
       "                     Consommation  Thermique  Nucléaire    Eolien   Solaire  \\\n",
       "Datetime                                                                      \n",
       "2018-01-01 00:00:00     -0.960795  -0.520018   0.914823  2.054285 -0.416649   \n",
       "2018-01-01 00:15:00           NaN        NaN        NaN       NaN       NaN   \n",
       "2018-01-01 00:30:00     -0.961700  -0.514596   0.483000  2.072805 -0.416649   \n",
       "\n",
       "                     Hydraulique  Pompage  Bioénergies  Ech. physiques  \\\n",
       "Datetime                                                                 \n",
       "2018-01-01 00:00:00    -0.555428      NaN    -0.535718       -1.660701   \n",
       "2018-01-01 00:15:00          NaN      NaN          NaN             NaN   \n",
       "2018-01-01 00:30:00    -0.554464      NaN    -0.468835       -1.366278   \n",
       "\n",
       "                               Périmètre  \n",
       "Datetime                                  \n",
       "2018-01-01 00:00:00  Centre-Val de Loire  \n",
       "2018-01-01 00:15:00  Centre-Val de Loire  \n",
       "2018-01-01 00:30:00  Centre-Val de Loire  "
      ]
     },
     "execution_count": 19,
     "metadata": {},
     "output_type": "execute_result"
    }
   ],
   "source": [
    "def standardize(df):\n",
    "    df_standardized = df.copy(deep=True)\n",
    "    for column in df_standardized:\n",
    "        _ = df_standardized[column]\n",
    "        stan = ((_-_.mean())/_.std())\n",
    "        df_standardized[column] = stan\n",
    "    return df_standardized\n",
    "\n",
    "df_regional_s3 = standardize(df_regional.loc[:,'Consommation':'Ech. physiques'])\n",
    "df_regional_s3['Périmètre']=df_regional['Périmètre']\n",
    "df_regional_s3.head(3)"
   ]
  },
  {
   "cell_type": "markdown",
   "metadata": {
    "extensions": {
     "jupyter_dashboards": {
      "version": 1,
      "views": {
       "grid_default": {
        "col": 0,
        "height": 4,
        "hidden": false,
        "row": 12,
        "width": 4
       },
       "report_default": {
        "hidden": false
       }
      }
     }
    }
   },
   "source": [
    "## Explore dataset"
   ]
  },
  {
   "cell_type": "markdown",
   "metadata": {},
   "source": [
    "**TODO**\n",
    "<font color=#cc0066>\n",
    "    \n",
    "L'objectif ici est de comprendre les données présentent dans les deux dataframes que vous avez créés. Réfléchissez au(x) descripteurs(s) statistique les plus appropiés pour chaque question.  \n",
    "<br/>\n",
    "\n",
    "1. Dataset national\n",
    "    - Tracer la consommation nationale en fonction du temps\n",
    "    - Tracer la production des différentes sources. Quelle est la source de production largement majoritaire ?\n",
    "    - Afficher, sur un même graphique: la production nucléaire, la consommation, et la somme des échanges aux frontières. En déduire la signification du signe des échanges (positif ou négatif) ?\n",
    "    - Quelles sources ont un fonctionnement \n",
    "        - de \"base\" (production régulière) ?\n",
    "        - de \"pointe\" (production ponctuelle, uniquement lorsque la base ne suffit plus) ?\n",
    "\n",
    " <br/>\n",
    "2. Dataset régional\n",
    "    - Tracer, sur un même graph, la consommation des différentes régions en fonction du temps\n",
    "    - Peut-on observer des différences comportementales significative entre les régions ? (par ex entre une région du nord et une région du sud)\n",
    "    - Quelles régions sont les plus consommatrices ? Y a-t-il un moment dans l'année où la région IdF n'est pas la plus consommatrice ?\n",
    "    - Afficher la production nucléaire par région en ftc du temps.\n",
    "    - Dans quelles régions sont situées les centrales nucléaires ?\n",
    "    - Quelles régions produisent le plus de solaire / éolien ?\n",
    "    - Observer les informations concernant la région AuRA. Retrouver la signification du signe des échanges ? Pourquoi la région est-elle autant exportatrice ?\n",
    "</font>\n",
    "\n",
    "**Aide**\n",
    "<font color=#0033cc>\n",
    "- la méthode .plot() fonctionne parfaitement avec un datetime en index\n",
    "- si vous utilisez un multiindex, la méthode swaplevel peut vous aider\n",
    "- attention aux nan pour les plots..\n",
    "</font>"
   ]
  },
  {
   "cell_type": "markdown",
   "metadata": {},
   "source": [
    "### Données brutes de consommations"
   ]
  },
  {
   "cell_type": "code",
   "execution_count": 20,
   "metadata": {},
   "outputs": [
    {
     "name": "stderr",
     "output_type": "stream",
     "text": [
      "/home/campus-5/anaconda3/lib/python3.7/site-packages/IPython/core/pylabtools.py:128: UserWarning: Creating legend with loc=\"best\" can be slow with large amounts of data.\n",
      "  fig.canvas.print_figure(bytes_io, **kw)\n"
     ]
    },
    {
     "data": {
      "image/png": "[encoded data removed]",
      "text/plain": [
       "<Figure size 1080x576 with 1 Axes>"
      ]
     },
     "metadata": {
      "needs_background": "light"
     },
     "output_type": "display_data"
    }
   ],
   "source": [
    "source_energies={'Fioul','Charbon','Gaz','Nucléaire','Eolien','Solaire','Hydraulique','Pompage','Bioénergies'}\n",
    "\n",
    "fig = plt.figure()\n",
    "df_national_temp=df_national.dropna().copy()\n",
    "df_national_temp['Consommation'].plot()\n",
    "for energie in source_energies:\n",
    "    df_national_temp[energie].plot()\n",
    "plt.xlabel('Time')\n",
    "plt.ylabel('Flux (J)')\n",
    "plt.legend()\n",
    "plt.show()"
   ]
  },
  {
   "cell_type": "markdown",
   "metadata": {},
   "source": [
    "Nuclear energy accounts for a large part of the energy mix (shocker!). Pompage is negative: used as energy sotorage in case of surplus."
   ]
  },
  {
   "cell_type": "code",
   "execution_count": 21,
   "metadata": {},
   "outputs": [
    {
     "name": "stderr",
     "output_type": "stream",
     "text": [
      "/home/campus-5/anaconda3/lib/python3.7/site-packages/IPython/core/pylabtools.py:128: UserWarning: Creating legend with loc=\"best\" can be slow with large amounts of data.\n",
      "  fig.canvas.print_figure(bytes_io, **kw)\n"
     ]
    },
    {
     "data": {
      "image/png": "[encoded data removed]",
      "text/plain": [
       "<Figure size 1080x576 with 1 Axes>"
      ]
     },
     "metadata": {
      "needs_background": "light"
     },
     "output_type": "display_data"
    }
   ],
   "source": [
    "source_energies={'Fioul','Charbon','Gaz','Nucléaire','Eolien','Solaire','Hydraulique','Pompage','Bioénergies'}\n",
    "\n",
    "fig = plt.figure()\n",
    "df_national_temp=df_national.dropna().copy()\n",
    "# df_national_temp['Consommation'].plot()\n",
    "for energie in source_energies:\n",
    "    (df_national_temp[energie]/(df_national_temp['Consommation']-df_national_temp['Ech. physiques'])*100).plot(label=energie)\n",
    "plt.xlabel('Time')\n",
    "plt.ylabel('Proportion %')\n",
    "plt.legend()\n",
    "plt.show()"
   ]
  },
  {
   "cell_type": "code",
   "execution_count": 56,
   "metadata": {},
   "outputs": [
    {
     "name": "stderr",
     "output_type": "stream",
     "text": [
      "/home/campus-5/anaconda3/lib/python3.7/site-packages/ipykernel_launcher.py:9: MatplotlibDeprecationWarning: Non-1D inputs to pie() are currently squeeze()d, but this behavior is deprecated since 3.1 and will be removed in 3.3; pass a 1D array instead.\n",
      "  if __name__ == '__main__':\n"
     ]
    },
    {
     "data": {
      "image/png": "[encoded data removed]",
      "text/plain": [
       "<Figure size 1080x1080 with 1 Axes>"
      ]
     },
     "metadata": {},
     "output_type": "display_data"
    }
   ],
   "source": [
    "source_energies={'Fioul','Gaz','Nucléaire','Eolien','Solaire','Hydraulique','Bioénergies'}\n",
    "\n",
    "fig = plt.figure(figsize=(15,15))\n",
    "df_national_temp=df_national.dropna().copy()\n",
    "explode = (0.1, 0.1, 0.1, 0.1,0.2,0.1,0.1)\n",
    "\n",
    "# df_national_temp['Consommation'].plot()\n",
    "\n",
    "plt.pie(df_national_temp.loc['2014-02-02',source_energies].resample('D').sum(),labels=source_energies,explode=explode,autopct='%1.1f%%')\n",
    "plt.title('Consommation on 2014/02/02')\n",
    "plt.show()"
   ]
  },
  {
   "cell_type": "code",
   "execution_count": 140,
   "metadata": {},
   "outputs": [
    {
     "data": {
      "image/png": "[encoded data removed]",
      "text/plain": [
       "<Figure size 720x720 with 1 Axes>"
      ]
     },
     "metadata": {
      "needs_background": "light"
     },
     "output_type": "display_data"
    }
   ],
   "source": [
    "columns=df_national_temp.loc['2014-02',source_energies].resample('M').mean().T.index\n",
    "df_test=pd.DataFrame({'Source':columns})\n",
    "df_test['Values']=df_national_temp.loc['2014-02',source_energies].resample('M').mean().T.values\n",
    "\n",
    "fig = plt.figure(figsize=(10,10))\n",
    "df_national_temp=df_national.dropna().copy()\n",
    "\n",
    "\n",
    "# df_national_temp['Consommation'].plot()\n",
    "\n",
    "plt.bar(df_test.Source,df_test.Values)\n",
    "plt.title('Average Production on 2014/02')\n",
    "plt.show()"
   ]
  },
  {
   "cell_type": "code",
   "execution_count": 122,
   "metadata": {},
   "outputs": [
    {
     "data": {
      "text/plain": [
       "array([[  17443.],\n",
       "       [ 102303.],\n",
       "       [  14791.],\n",
       "       [2672090.],\n",
       "       [  45423.],\n",
       "       [ 107392.],\n",
       "       [ 418737.]])"
      ]
     },
     "execution_count": 122,
     "metadata": {},
     "output_type": "execute_result"
    }
   ],
   "source": [
    "height=df_national_temp.loc['2014-02-02',source_energies].resample('D').sum().T.values\n",
    "height"
   ]
  },
  {
   "cell_type": "code",
   "execution_count": 132,
   "metadata": {},
   "outputs": [
    {
     "data": {
      "text/plain": [
       "Source     object\n",
       "Values    float64\n",
       "dtype: object"
      ]
     },
     "execution_count": 132,
     "metadata": {},
     "output_type": "execute_result"
    }
   ],
   "source": [
    "columns=df_national_temp.loc['2014-02-02',source_energies].resample('D').sum().T.index\n",
    "df_test=pd.DataFrame({'Source':columns})\n",
    "df_test['Values']=df_national_temp.loc['2014-02-02',source_energies].resample('D').sum().T.values\n",
    "df_test.dtypes"
   ]
  },
  {
   "cell_type": "code",
   "execution_count": 98,
   "metadata": {},
   "outputs": [
    {
     "data": {
      "text/plain": [
       "array([[  17443.,  102303.,   14791., 2672090.,   45423.,  107392.,\n",
       "         418737.]])"
      ]
     },
     "execution_count": 98,
     "metadata": {},
     "output_type": "execute_result"
    }
   ],
   "source": [
    "df_national_temp.loc['2014-02-02',source_energies].resample('D').sum().values"
   ]
  },
  {
   "cell_type": "code",
   "execution_count": 87,
   "metadata": {},
   "outputs": [
    {
     "data": {
      "text/plain": [
       "Index(['Solaire', 'Gaz', 'Fioul', 'Nucléaire', 'Bioénergies', 'Eolien',\n",
       "       'Hydraulique'],\n",
       "      dtype='object')"
      ]
     },
     "execution_count": 87,
     "metadata": {},
     "output_type": "execute_result"
    }
   ],
   "source": [
    "df_national_temp.loc['2014-02-02',source_energies].resample('D').sum().columns"
   ]
  },
  {
   "cell_type": "code",
   "execution_count": 106,
   "metadata": {},
   "outputs": [
    {
     "data": {
      "text/plain": [
       "(7, 1)"
      ]
     },
     "execution_count": 106,
     "metadata": {},
     "output_type": "execute_result"
    }
   ],
   "source": [
    "df_national_temp.loc['2014-02-02',source_energies].resample('D').sum().T.values.shape"
   ]
  },
  {
   "cell_type": "markdown",
   "metadata": {},
   "source": [
    "Proportion of each enery in the toral energy mix. Note that exchanges with foreign countries are not taken in account (ploted data is consumption in France-Exchange)."
   ]
  },
  {
   "cell_type": "markdown",
   "metadata": {},
   "source": [
    "### Comparaison Fioul avec sous catégories"
   ]
  },
  {
   "cell_type": "code",
   "execution_count": null,
   "metadata": {},
   "outputs": [],
   "source": [
    "# fig = plt.figure()\n",
    "# df_national_temp=df_national.dropna().copy()\n",
    "# #df_national_temp['Consommation'].plot()\n",
    "# for colonne in df_national_temp.columns:\n",
    "#     if 'Fioul' in colonne:\n",
    "#         df_national_temp[colonne].plot()\n",
    "# plt.xlabel('Time')\n",
    "# plt.ylabel('Flux (J)')\n",
    "# plt.legend()\n",
    "# plt.show()"
   ]
  },
  {
   "cell_type": "code",
   "execution_count": null,
   "metadata": {},
   "outputs": [],
   "source": [
    "df_national[['Ech. physiques','Ech. comm. Angleterre','Ech. comm. Espagne','Ech. comm. Allemagne-Belgique']]"
   ]
  },
  {
   "cell_type": "markdown",
   "metadata": {},
   "source": [
    "Ech. physiques = -(Ech Angleterre + Ech Espagne + Ech Allem-Belg)"
   ]
  },
  {
   "cell_type": "markdown",
   "metadata": {},
   "source": [
    "### Echange aux frontières"
   ]
  },
  {
   "cell_type": "markdown",
   "metadata": {},
   "source": [
    "Afficher, sur un même graphique: la production nucléaire, la consommation, et la somme des échanges aux frontières. En déduire la signification du signe des échanges (positif ou négatif) ?\n"
   ]
  },
  {
   "cell_type": "code",
   "execution_count": null,
   "metadata": {},
   "outputs": [],
   "source": [
    "fig = plt.figure()\n",
    "df_national_temp=df_national.dropna().copy()\n",
    "df_national_temp['Consommation'].plot()\n",
    "df_national_temp['Nucléaire'].plot()\n",
    "df_national_temp['Ech. physiques'].plot()\n",
    "# for colonne in df_national_temp.columns:\n",
    "#     if 'Ech. comm' in colonne:\n",
    "#         df_national_temp[colonne].plot()\n",
    "plt.xlabel('Time')\n",
    "plt.ylabel('Flux (J)')\n",
    "plt.legend()\n",
    "plt.show()"
   ]
  },
  {
   "cell_type": "markdown",
   "metadata": {},
   "source": [
    "Ech. physiques est négatif si on envoie de l'énergie à l'extérieur du pays, et vice-versa.b"
   ]
  },
  {
   "cell_type": "code",
   "execution_count": null,
   "metadata": {},
   "outputs": [],
   "source": [
    "fig = plt.figure()\n",
    "df_national_temp=df_national.dropna().copy()\n",
    "# df_national_temp['Consommation'].plot()\n",
    "# df_national_temp['Nucléaire'].plot()\n",
    "df_national_temp['Ech. physiques'].plot()\n",
    "df_national_temp['somme_echange']=0.0\n",
    "for colonne in df_national_temp.columns:\n",
    "    if 'Ech. comm' in colonne:\n",
    "        df_national_temp['somme_echange']+=df_national_temp[colonne]\n",
    "df_national_temp['somme_echange'].plot()\n",
    "plt.xlabel('Time')\n",
    "plt.ylabel('Flux (J)')\n",
    "plt.legend()\n",
    "plt.show()"
   ]
  },
  {
   "cell_type": "markdown",
   "metadata": {},
   "source": [
    "Ech. physiques est la somme des échanges à chaque frontières. Ainsi un signe négatif indique que la France envoit de l'énergie vers ce pays."
   ]
  },
  {
   "cell_type": "markdown",
   "metadata": {},
   "source": [
    "Quelles sources ont un fonctionnement de \"base\" (production régulière) ?\n",
    "    de \"pointe\" (production ponctuelle, uniquement lorsque la base ne suffit plus) ?"
   ]
  },
  {
   "cell_type": "code",
   "execution_count": null,
   "metadata": {},
   "outputs": [],
   "source": [
    "liste_to_display=list(df_national_temp.loc[:,'Fioul':'Bioénergies'].columns)\n",
    "liste_to_display.append('Consommation')"
   ]
  },
  {
   "cell_type": "code",
   "execution_count": null,
   "metadata": {},
   "outputs": [],
   "source": [
    "df_national_temp.loc['2015-02',liste_to_display].plot()"
   ]
  },
  {
   "cell_type": "markdown",
   "metadata": {},
   "source": [
    "Exemple du mois de février 2015 sur le territoire national : Nucléaire a un fonctionnement de base, renouvelables dépendent de l'heure de la journée. L'hydraulique semble avoir un fonctionnement de lissage pour compenser la demande rapidement. Le gaz a un peu le même rôle mais en journée seulement."
   ]
  },
  {
   "cell_type": "markdown",
   "metadata": {},
   "source": [
    "\n",
    "### Comparaison des situations régionales\n",
    "\n",
    "**TODO**\n",
    "\n",
    "<font color=#cc0066>\n",
    "    \n",
    "1. Autonomie électrique des régions: \n",
    "    - Afficher la 'consommation - sum(productions)' pour chaque région\n",
    "    - Quelles régions sont autonomes ? en exces ? en déficit ?\n",
    "    - Comparer ce résultat à la colonne 'Ech. physiques'\n",
    "    - Bonus: reconstruire les flux inter-régionaux ...\n",
    "\n",
    "    \n",
    "2. Etude de la production solaire:\n",
    "    - Quelle région produit le plus (en moyenne et au max) ? \n",
    "    - Quelle évolution ces dernières années ?\n",
    "    - Quelle région a le meilleur taux 'énergie produite / puissance installée' ? (la puissance installée peut être assimilée au maximum produit, attention cette capacité peut augmenter dans le temps...)\n",
    "\n",
    "    \n",
    "3. Mêmes questions pour l'éolien\n",
    "    \n",
    "\n",
    "\n",
    "</font>\n",
    "\n",
    "**Aide**\n",
    "\n",
    "<font color=#0033cc>\n",
    "\n",
    "- Les méthodes groupby, unstack, ou pivot sont très utiles pour manipuler des dataframes\n",
    "\n",
    "</font>"
   ]
  },
  {
   "cell_type": "code",
   "execution_count": null,
   "metadata": {},
   "outputs": [],
   "source": [
    "df_regional.head()"
   ]
  },
  {
   "cell_type": "code",
   "execution_count": null,
   "metadata": {},
   "outputs": [],
   "source": [
    "source_energies_regional={'Thermique','Nucléaire','Eolien','Solaire','Hydraulique','Pompage','Bioénergies'}\n",
    "# df_regional['Production']=df_regional['Thermique']+df_regional['Eolien']\n",
    "df_regional['Production']=0.0\n",
    "for ener in source_energies_regional:\n",
    "    df_regional['Production']+=df_regional[ener].fillna(0)\n",
    "df_regional['Besoin_E']=df_regional['Consommation']-df_regional['Production']"
   ]
  },
  {
   "cell_type": "code",
   "execution_count": null,
   "metadata": {},
   "outputs": [],
   "source": [
    "df_regional.tail()"
   ]
  },
  {
   "cell_type": "code",
   "execution_count": null,
   "metadata": {},
   "outputs": [],
   "source": [
    "fig = plt.figure()\n",
    "df_regional_temp=df_regional.copy()\n",
    "df_regional_temp=df_regional_temp.dropna(subset=['Consommation'])\n",
    "df_regional_temp.groupby('Périmètre').Besoin_E.plot()\n",
    "\n",
    "plt.xlabel('Time')\n",
    "plt.ylabel('Consommation - Production')\n",
    "plt.legend()\n",
    "plt.show()\n",
    "\n"
   ]
  },
  {
   "cell_type": "markdown",
   "metadata": {},
   "source": [
    "Consommation - Production (defined as extra Energy needed) for all regions. Paris area is always in need of a lot of energy, therefore some other regions have negative extre energy, meaning that they produce and export to neighbours."
   ]
  },
  {
   "cell_type": "code",
   "execution_count": null,
   "metadata": {},
   "outputs": [],
   "source": [
    "fig = plt.figure()\n",
    "df_regional_temp=df_regional.copy()\n",
    "df_regional_temp=df_regional_temp.dropna(subset=['Consommation'])\n",
    "\n",
    "df_regional_temp.groupby('Datetime').Besoin_E.sum().plot(alpha=.3)\n",
    "(df_regional_temp.groupby('Datetime')['Ech. physiques'].sum()+5000).plot(alpha=.5)\n",
    "\n",
    "plt.xlabel('Time')\n",
    "plt.ylabel('Energy (a.u.)')\n",
    "plt.legend()\n",
    "plt.show()"
   ]
  },
  {
   "cell_type": "markdown",
   "metadata": {},
   "source": [
    "Extra energy needed at national level, defined as consumption minus production for all regions at given times, is exactly the same as the physical exchange. "
   ]
  },
  {
   "cell_type": "code",
   "execution_count": null,
   "metadata": {},
   "outputs": [],
   "source": [
    "liste_to_display=list(df_regional.loc[:,'Consommation':'Bioénergies'].columns)\n",
    "df_test = df_regional.loc[df_regional.Périmètre=='Auvergne-Rhône-Alpes'].loc['2015-02',liste_to_display]"
   ]
  },
  {
   "cell_type": "code",
   "execution_count": null,
   "metadata": {},
   "outputs": [],
   "source": [
    "#Remove only columns that contains full NaN (Pompage here)\n",
    "df_test.dropna(axis=0, how='all').plot()\n"
   ]
  },
  {
   "cell_type": "markdown",
   "metadata": {},
   "source": [
    "Mois de février 2015 pour la région Rhône Alpes. On retrouve le lissage par hydraulique. Rien que le nucléaire est supérieur à la consommation : Rhône Alpes est un exporteur d'énergie."
   ]
  },
  {
   "cell_type": "code",
   "execution_count": null,
   "metadata": {},
   "outputs": [],
   "source": [
    "x=df_regional.groupby('Périmètre').resample('M').Production.mean()\n",
    "x.unstack('Périmètre').plot()"
   ]
  },
  {
   "cell_type": "markdown",
   "metadata": {},
   "source": [
    "Production moyenne par mois pour chaque régions. Les pics hivernaux sont évidents, ainsi que les grosses réiong productrices et les dépendantes."
   ]
  },
  {
   "cell_type": "code",
   "execution_count": null,
   "metadata": {},
   "outputs": [],
   "source": [
    "_=df_regional.groupby('Périmètre').resample('M').Besoin_E.mean()\n",
    "_.unstack('Périmètre').plot()"
   ]
  },
  {
   "cell_type": "markdown",
   "metadata": {},
   "source": [
    "Extra energy needed for each regions, averaged over months. Paris area is in need of a large quantity of energy. Regions at the bottom of the graph are compensating dor dependant ones."
   ]
  },
  {
   "cell_type": "code",
   "execution_count": null,
   "metadata": {},
   "outputs": [],
   "source": [
    "x=df_regional.groupby('Périmètre').resample('M').Besoin_E.mean()\n",
    "x.unstack('Périmètre').loc['2013'].plot()"
   ]
  },
  {
   "cell_type": "markdown",
   "metadata": {},
   "source": [
    "Zoom on 2013."
   ]
  },
  {
   "cell_type": "markdown",
   "metadata": {
    "extensions": {
     "jupyter_dashboards": {
      "version": 1,
      "views": {
       "grid_default": {
        "col": 4,
        "height": 4,
        "hidden": false,
        "row": 12,
        "width": 4
       },
       "report_default": {
        "hidden": false
       }
      }
     }
    }
   },
   "source": [
    "### Etude des consommations \n",
    "\n",
    "**TODO**\n",
    "\n",
    "<font color=#cc0066>\n",
    "\n",
    "1. Afficher les moyennes des consommations régionnales pour chaque année, avec et sans standardisation. Quelle info visualisez vous ?\n",
    "    \n",
    "2. Faire pareil avec la moyenne de consommation selon le jour de la semaine.\n",
    "\n",
    "3. Tracer les consommations horaires moyenne par région en décembre et en juin. Peut-on observer les différences d'ensoleillement entre les régions ?\n",
    "\n",
    "4. Tracer ces mêmes courbes, en ne sélectionnant que les jours de semaine, puis que les jours de week end. Quelles différences de comportement peu-on observer ?\n",
    "    \n",
    "</font>\n",
    "\n",
    "**Aide**\n",
    "\n",
    "<font color=#0033cc>\n",
    "\n",
    "- un DatetimeIndex possède de nombreux attributs et méthodes utiles: https://pandas.pydata.org/pandas-docs/stable/reference/api/pandas.DatetimeIndex.html\n",
    "- Regarder la doc des méthodes groupby, unstack, pivot...\n",
    "- Si besoin, utiliser la méthode seaborn.heatmap pour visualiser vos résultats (cmap=\"YlGnBu\")\n",
    "</font>\n"
   ]
  },
  {
   "cell_type": "code",
   "execution_count": null,
   "metadata": {},
   "outputs": [],
   "source": [
    "x=df_regional.groupby('Périmètre').resample('M').Consommation.mean()\n",
    "x.unstack('Périmètre').plot()"
   ]
  },
  {
   "cell_type": "markdown",
   "metadata": {},
   "source": [
    "Moyenne mensuelle de la consommation pour chaque régions."
   ]
  },
  {
   "cell_type": "code",
   "execution_count": null,
   "metadata": {},
   "outputs": [],
   "source": [
    "x=df_regional_n.groupby('Périmètre').resample('M').Consommation.mean()\n",
    "x.unstack('Périmètre').plot()"
   ]
  },
  {
   "cell_type": "markdown",
   "metadata": {},
   "source": [
    "Moyenne mensuelle pour la data normalisée."
   ]
  },
  {
   "cell_type": "code",
   "execution_count": null,
   "metadata": {},
   "outputs": [],
   "source": [
    "x=df_regional_s.groupby('Périmètre').resample('M').Consommation.mean()\n",
    "x.unstack('Périmètre').plot()"
   ]
  },
  {
   "cell_type": "markdown",
   "metadata": {},
   "source": [
    "Moyenne mensuelle pour la data standardisée."
   ]
  },
  {
   "cell_type": "code",
   "execution_count": null,
   "metadata": {},
   "outputs": [],
   "source": [
    "x=df_regional.groupby('Périmètre').resample('H').Consommation.mean()\n",
    "x.unstack('Périmètre').loc['2015-02-01':'2015-02-08'].plot()"
   ]
  },
  {
   "cell_type": "code",
   "execution_count": null,
   "metadata": {},
   "outputs": [],
   "source": [
    "x=df_regional_s.groupby('Périmètre').resample('H').Consommation.mean()\n",
    "x.unstack('Périmètre').loc['2015-02-01':'2015-02-08'].plot()"
   ]
  }
 ],
 "metadata": {
  "extensions": {
   "jupyter_dashboards": {
    "activeView": "report_default",
    "version": 1,
    "views": {
     "grid_default": {
      "cellMargin": 10,
      "defaultCellHeight": 20,
      "maxColumns": 12,
      "name": "grid",
      "type": "grid"
     },
     "report_default": {
      "name": "report",
      "type": "report"
     }
    }
   }
  },
  "kernelspec": {
   "display_name": "Python 3",
   "language": "python",
   "name": "python3"
  },
  "language_info": {
   "codemirror_mode": {
    "name": "ipython",
    "version": 3
   },
   "file_extension": ".py",
   "mimetype": "text/x-python",
   "name": "python",
   "nbconvert_exporter": "python",
   "pygments_lexer": "ipython3",
   "version": "3.7.6"
  },
  "toc": {
   "base_numbering": 1,
   "nav_menu": {},
   "number_sections": true,
   "sideBar": true,
   "skip_h1_title": false,
   "title_cell": "Table of Contents",
   "title_sidebar": "Contents",
   "toc_cell": false,
   "toc_position": {
    "height": "calc(100% - 180px)",
    "left": "10px",
    "top": "150px",
    "width": "250.4px"
   },
   "toc_section_display": true,
   "toc_window_display": true
  }
 },
 "nbformat": 4,
 "nbformat_minor": 2
}
