{
 "cells": [
  {
   "cell_type": "markdown",
   "metadata": {},
   "source": [
    "# Forecasting with ML 📉\n",
    "\n",
    "One disadvantage of using ARIMA models is that they are linear. Hence they will underfit in situations where the underlying data is of non-linear form.\n",
    "\n",
    "One piece of recent open software is facebook's `prophet`. This uses a model which is similar to a **generalised additive model** (GAM), a class of regression models with potentially non-linear components. You can read more about this underlying model [here](https://peerj.com/preprints/3190/).\n",
    "\n",
    "As you are beginning to see time series forecasting can sometimes be as much an art as a science, and we know it takes quite some practice to become a good artist. The authors of the software had this in mind when they wrote it.  One of their aims is to provide software which can be used easily by those who have a little timeseries knowledge. Let's see how this goes....We will apply this software to the airline data now."
   ]
  },
  {
   "cell_type": "code",
   "execution_count": 6,
   "metadata": {},
   "outputs": [
    {
     "name": "stdout",
     "output_type": "stream",
     "text": [
      "Collecting package metadata (current_repodata.json): done\n",
      "Solving environment: failed with initial frozen solve. Retrying with flexible solve.\n",
      "Solving environment: failed with repodata from current_repodata.json, will retry with next repodata source.\n",
      "Collecting package metadata (repodata.json): done\n",
      "Solving environment: failed with initial frozen solve. Retrying with flexible solve.\n",
      "Solving environment: | \n",
      "Found conflicts! Looking for incompatible packages.\n",
      "This can take several minutes.  Press CTRL-C to abort.\n",
      "                                                                               failed\n",
      "\n",
      "# >>>>>>>>>>>>>>>>>>>>>> ERROR REPORT <<<<<<<<<<<<<<<<<<<<<<\n",
      "\n",
      "    Traceback (most recent call last):\n",
      "      File \"/home/campus-5/anaconda3/lib/python3.7/site-packages/conda/cli/install.py\", line 265, in install\n",
      "        should_retry_solve=(_should_retry_unfrozen or repodata_fn != repodata_fns[-1]),\n",
      "      File \"/home/campus-5/anaconda3/lib/python3.7/site-packages/conda/core/solve.py\", line 117, in solve_for_transaction\n",
      "        should_retry_solve)\n",
      "      File \"/home/campus-5/anaconda3/lib/python3.7/site-packages/conda/core/solve.py\", line 158, in solve_for_diff\n",
      "        force_remove, should_retry_solve)\n",
      "      File \"/home/campus-5/anaconda3/lib/python3.7/site-packages/conda/core/solve.py\", line 275, in solve_final_state\n",
      "        ssc = self._add_specs(ssc)\n",
      "      File \"/home/campus-5/anaconda3/lib/python3.7/site-packages/conda/core/solve.py\", line 696, in _add_specs\n",
      "        raise UnsatisfiableError({})\n",
      "    conda.exceptions.UnsatisfiableError: \n",
      "    Did not find conflicting dependencies. If you would like to know which\n",
      "    packages conflict ensure that you have enabled unsatisfiable hints.\n",
      "    \n",
      "    conda config --set unsatisfiable_hints True\n",
      "                \n",
      "    \n",
      "    During handling of the above exception, another exception occurred:\n",
      "    \n",
      "    Traceback (most recent call last):\n",
      "      File \"/home/campus-5/anaconda3/lib/python3.7/site-packages/conda/exceptions.py\", line 1079, in __call__\n",
      "        return func(*args, **kwargs)\n",
      "      File \"/home/campus-5/anaconda3/lib/python3.7/site-packages/conda/cli/main.py\", line 84, in _main\n",
      "        exit_code = do_call(args, p)\n",
      "      File \"/home/campus-5/anaconda3/lib/python3.7/site-packages/conda/cli/conda_argparse.py\", line 82, in do_call\n",
      "        return getattr(module, func_name)(args, parser)\n",
      "      File \"/home/campus-5/anaconda3/lib/python3.7/site-packages/conda/cli/main_install.py\", line 20, in execute\n",
      "        install(args, parser, 'install')\n",
      "      File \"/home/campus-5/anaconda3/lib/python3.7/site-packages/conda/cli/install.py\", line 299, in install\n",
      "        should_retry_solve=(repodata_fn != repodata_fns[-1]),\n",
      "      File \"/home/campus-5/anaconda3/lib/python3.7/site-packages/conda/core/solve.py\", line 117, in solve_for_transaction\n",
      "        should_retry_solve)\n",
      "      File \"/home/campus-5/anaconda3/lib/python3.7/site-packages/conda/core/solve.py\", line 158, in solve_for_diff\n",
      "        force_remove, should_retry_solve)\n",
      "      File \"/home/campus-5/anaconda3/lib/python3.7/site-packages/conda/core/solve.py\", line 275, in solve_final_state\n",
      "        ssc = self._add_specs(ssc)\n",
      "      File \"/home/campus-5/anaconda3/lib/python3.7/site-packages/conda/core/solve.py\", line 694, in _add_specs\n",
      "        ssc.r.find_conflicts(spec_set)\n",
      "      File \"/home/campus-5/anaconda3/lib/python3.7/site-packages/conda/resolve.py\", line 347, in find_conflicts\n",
      "        bad_deps = self.build_conflict_map(specs, specs_to_add, history_specs)\n",
      "      File \"/home/campus-5/anaconda3/lib/python3.7/site-packages/conda/resolve.py\", line 507, in build_conflict_map\n",
      "        root, search_node, dep_graph, num_occurances)\n",
      "      File \"/home/campus-5/anaconda3/lib/python3.7/site-packages/conda/resolve.py\", line 369, in breadth_first_search_for_dep_graph\n",
      "        last_spec = MatchSpec.union((path[-1], target_paths[-1][-1]))[0]\n",
      "      File \"/home/campus-5/anaconda3/lib/python3.7/site-packages/conda/models/match_spec.py\", line 481, in union\n",
      "        return cls.merge(match_specs, union=True)\n",
      "      File \"/home/campus-5/anaconda3/lib/python3.7/site-packages/conda/models/match_spec.py\", line 475, in merge\n",
      "        reduce(lambda x, y: x._merge(y, union), group) if len(group) > 1 else group[0]\n",
      "      File \"/home/campus-5/anaconda3/lib/python3.7/site-packages/conda/models/match_spec.py\", line 475, in <lambda>\n",
      "        reduce(lambda x, y: x._merge(y, union), group) if len(group) > 1 else group[0]\n",
      "      File \"/home/campus-5/anaconda3/lib/python3.7/site-packages/conda/models/match_spec.py\", line 502, in _merge\n",
      "        final = this_component.union(that_component)\n",
      "      File \"/home/campus-5/anaconda3/lib/python3.7/site-packages/conda/models/match_spec.py\", line 764, in union\n",
      "        return '|'.join(options)\n",
      "    TypeError: sequence item 0: expected str instance, Channel found\n",
      "\n",
      "`$ /home/campus-5/anaconda3/condabin/conda install -c conda-forge fbprophet`\n",
      "\n",
      "  environment variables:\n",
      "                 CIO_TEST=<not set>\n",
      "        CONDA_DEFAULT_ENV=forecast\n",
      "                CONDA_EXE=/home/campus-5/anaconda3/bin/conda\n",
      "             CONDA_PREFIX=/home/campus-5/anaconda3/envs/forecast\n",
      "           CONDA_PREFIX_1=/home/campus-5/anaconda3\n",
      "    CONDA_PROMPT_MODIFIER=(forecast)\n",
      "         CONDA_PYTHON_EXE=/home/campus-5/anaconda3/bin/python\n",
      "               CONDA_ROOT=/home/campus-5/anaconda3\n",
      "              CONDA_SHLVL=2\n",
      "            DEFAULTS_PATH=/usr/share/gconf/ubuntu.default.path\n",
      "          LD_LIBRARY_PATH=/usr/local/cuda-10.0/lib64\n",
      "           MANDATORY_PATH=/usr/share/gconf/ubuntu.mandatory.path\n",
      "                     PATH=/usr/local/cuda-10.0/bin:/home/campus-5/anaconda3/envs/forecast/bin:/h\n",
      "                          ome/campus-5/anaconda3/condabin:/usr/local/sbin:/usr/local/bin:/usr/sb\n",
      "                          in:/usr/bin:/sbin:/bin:/usr/games:/usr/local/games:/snap/bin:/home/cam\n",
      "                          pus-5/Documents/Linux\n",
      "       REQUESTS_CA_BUNDLE=<not set>\n",
      "            SSL_CERT_FILE=<not set>\n",
      "               WINDOWPATH=2\n",
      "\n",
      "     active environment : forecast\n",
      "    active env location : /home/campus-5/anaconda3/envs/forecast\n",
      "            shell level : 2\n",
      "       user config file : /home/campus-5/.condarc\n",
      " populated config files : /home/campus-5/.condarc\n",
      "          conda version : 4.8.2\n",
      "    conda-build version : 3.18.11\n",
      "         python version : 3.7.6.final.0\n",
      "       virtual packages : __cuda=10.2\n",
      "                          __glibc=2.27\n",
      "       base environment : /home/campus-5/anaconda3  (writable)\n",
      "           channel URLs : https://conda.anaconda.org/conda-forge/linux-64\n",
      "                          https://conda.anaconda.org/conda-forge/noarch\n",
      "                          https://repo.anaconda.com/pkgs/main/linux-64\n",
      "                          https://repo.anaconda.com/pkgs/main/noarch\n",
      "                          https://repo.anaconda.com/pkgs/r/linux-64\n",
      "                          https://repo.anaconda.com/pkgs/r/noarch\n",
      "          package cache : /home/campus-5/anaconda3/pkgs\n",
      "                          /home/campus-5/.conda/pkgs\n",
      "       envs directories : /home/campus-5/anaconda3/envs\n",
      "                          /home/campus-5/.conda/envs\n",
      "               platform : linux-64\n",
      "             user-agent : conda/4.8.2 requests/2.22.0 CPython/3.7.6 Linux/4.15.0-88-generic ubuntu/18.04.4 glibc/2.27\n",
      "                UID:GID : 1000:1000\n",
      "             netrc file : None\n",
      "           offline mode : False\n",
      "\n",
      "\n",
      "An unexpected error has occurred. Conda has prepared the above report.\n",
      "\n",
      "If submitted, this report will be used by core maintainers to improve\n",
      "future releases of conda.\n",
      "Would you like conda to send this report to the core maintainers?\n",
      "\n",
      "[y/N]: \n",
      "Timeout reached. No report sent.\n",
      "\n"
     ]
    }
   ],
   "source": [
    "import pandas as pd\n",
    "import numpy as np\n",
    "import matplotlib.pyplot as plt\n",
    "from matplotlib import dates\n",
    "\n",
    "import seaborn as sns \n",
    "import matplotlib.style as style\n",
    "\n",
    "#!pip install pmdarima==1.5.2\n",
    "import pmdarima as pmd\n",
    "pmd.__version__  #should be version 1.5.2\n",
    "\n",
    "!conda install -c conda-forge fbprophet"
   ]
  },
  {
   "cell_type": "code",
   "execution_count": 8,
   "metadata": {},
   "outputs": [
    {
     "data": {
      "text/plain": [
       "1.380952380952381"
      ]
     },
     "execution_count": 8,
     "metadata": {},
     "output_type": "execute_result"
    }
   ],
   "source": [
    "87/63"
   ]
  },
  {
   "cell_type": "markdown",
   "metadata": {},
   "source": [
    "The automatic ARIMA forecasts are prone to large trend\n",
    "errors when there is a change in trend near the cutoff period and they fail to capture any\n",
    "seasonality. 1 The exponential smoothing and seasonal naive forecasts capture weekly sea-\n",
    "sonality but miss longer-term seasonality. All of the methods overreact to the end-of-year\n",
    "dip because they do not adequately model yearly seasonality."
   ]
  },
  {
   "cell_type": "markdown",
   "metadata": {},
   "source": [
    "# Example 1 - airline data\n",
    "\n",
    "We setup the data as we had done so before in the ARIMA example."
   ]
  },
  {
   "cell_type": "code",
   "execution_count": 9,
   "metadata": {},
   "outputs": [],
   "source": [
    "from pmdarima.datasets import load_airpassengers\n",
    "\n",
    "START_DATE = '1949-01-01'\n",
    "airline = load_airpassengers(as_series=True)\n",
    "\n",
    "#there's no datetimeindex from the bundled dataset. So let's add one.\n",
    "airline.index= pd.date_range(START_DATE, periods=len(airline), freq='MS')"
   ]
  },
  {
   "cell_type": "code",
   "execution_count": 69,
   "metadata": {},
   "outputs": [
    {
     "data": {
      "text/plain": [
       "<matplotlib.axes._subplots.AxesSubplot at 0x7f1369bba760>"
      ]
     },
     "execution_count": 69,
     "metadata": {},
     "output_type": "execute_result"
    },
    {
     "data": {
      "image/png": "[encoded data removed]",
      "text/plain": [
       "<Figure size 432x288 with 1 Axes>"
      ]
     },
     "metadata": {
      "needs_background": "light"
     },
     "output_type": "display_data"
    }
   ],
   "source": [
    "airline['1949':'1950'].plot()"
   ]
  },
  {
   "cell_type": "code",
   "execution_count": 10,
   "metadata": {},
   "outputs": [],
   "source": [
    "def ts_train_test_split(data, split_date):\n",
    "    '''\n",
    "    Split time series into training and test data\n",
    "    \n",
    "    Parameters:\n",
    "    -------\n",
    "    data - pd.DataFrame - time series data.  Index expected as datatimeindex\n",
    "    split_date - the date on which to split the time series\n",
    "    \n",
    "    Returns:\n",
    "    --------\n",
    "    tuple (len=2) \n",
    "    0. pandas.DataFrame - training dataset\n",
    "    1. pandas.DataFrame - test dataset\n",
    "    '''\n",
    "    train = data.loc[data.index < split_date]\n",
    "    test = data.loc[data.index >= split_date]\n",
    "    return train, test"
   ]
  },
  {
   "cell_type": "code",
   "execution_count": 11,
   "metadata": {},
   "outputs": [],
   "source": [
    "#for cv need all of the training data joined together.\n",
    "airline_adj = airline / airline.index.days_in_month\n",
    "\n",
    "train, test = ts_train_test_split(airline_adj, '1960-01-01')\n",
    "train_log, test_log = np.log(train), np.log(test) # get logged values for arima model\n"
   ]
  },
  {
   "cell_type": "markdown",
   "metadata": {},
   "source": [
    "## Forecasting with prophet\n",
    "\n",
    "Fitting a basic model and making predictions is very simple with `prophet`."
   ]
  },
  {
   "cell_type": "code",
   "execution_count": 13,
   "metadata": {},
   "outputs": [],
   "source": [
    "from matplotlib import pyplot as plt\n",
    "from matplotlib.dates import MonthLocator, num2date\n",
    "from matplotlib.ticker import FuncFormatter"
   ]
  },
  {
   "cell_type": "code",
   "execution_count": 14,
   "metadata": {},
   "outputs": [],
   "source": [
    "from fbprophet import Prophet\n",
    "pd.plotting.register_matplotlib_converters() # required to fix plotting bug introduced by prophet"
   ]
  },
  {
   "cell_type": "code",
   "execution_count": null,
   "metadata": {},
   "outputs": [],
   "source": []
  },
  {
   "cell_type": "markdown",
   "metadata": {},
   "source": [
    "Training data is expected in this df format below."
   ]
  },
  {
   "cell_type": "code",
   "execution_count": 15,
   "metadata": {},
   "outputs": [],
   "source": [
    "train_df = pd.DataFrame(train).reset_index().rename(columns = {0:'y','index':'ds'})"
   ]
  },
  {
   "cell_type": "code",
   "execution_count": 16,
   "metadata": {},
   "outputs": [
    {
     "data": {
      "text/html": [
       "<div>\n",
       "<style scoped>\n",
       "    .dataframe tbody tr th:only-of-type {\n",
       "        vertical-align: middle;\n",
       "    }\n",
       "\n",
       "    .dataframe tbody tr th {\n",
       "        vertical-align: top;\n",
       "    }\n",
       "\n",
       "    .dataframe thead th {\n",
       "        text-align: right;\n",
       "    }\n",
       "</style>\n",
       "<table border=\"1\" class=\"dataframe\">\n",
       "  <thead>\n",
       "    <tr style=\"text-align: right;\">\n",
       "      <th></th>\n",
       "      <th>ds</th>\n",
       "      <th>y</th>\n",
       "    </tr>\n",
       "  </thead>\n",
       "  <tbody>\n",
       "    <tr>\n",
       "      <th>127</th>\n",
       "      <td>1959-08-01</td>\n",
       "      <td>18.032258</td>\n",
       "    </tr>\n",
       "    <tr>\n",
       "      <th>128</th>\n",
       "      <td>1959-09-01</td>\n",
       "      <td>15.433333</td>\n",
       "    </tr>\n",
       "    <tr>\n",
       "      <th>129</th>\n",
       "      <td>1959-10-01</td>\n",
       "      <td>13.129032</td>\n",
       "    </tr>\n",
       "    <tr>\n",
       "      <th>130</th>\n",
       "      <td>1959-11-01</td>\n",
       "      <td>12.066667</td>\n",
       "    </tr>\n",
       "    <tr>\n",
       "      <th>131</th>\n",
       "      <td>1959-12-01</td>\n",
       "      <td>13.064516</td>\n",
       "    </tr>\n",
       "  </tbody>\n",
       "</table>\n",
       "</div>"
      ],
      "text/plain": [
       "            ds          y\n",
       "127 1959-08-01  18.032258\n",
       "128 1959-09-01  15.433333\n",
       "129 1959-10-01  13.129032\n",
       "130 1959-11-01  12.066667\n",
       "131 1959-12-01  13.064516"
      ]
     },
     "execution_count": 16,
     "metadata": {},
     "output_type": "execute_result"
    }
   ],
   "source": [
    "train_df.tail()"
   ]
  },
  {
   "cell_type": "markdown",
   "metadata": {},
   "source": [
    "Fit model..."
   ]
  },
  {
   "cell_type": "code",
   "execution_count": 17,
   "metadata": {},
   "outputs": [
    {
     "name": "stderr",
     "output_type": "stream",
     "text": [
      "INFO:fbprophet:Disabling weekly seasonality. Run prophet with weekly_seasonality=True to override this.\n",
      "INFO:fbprophet:Disabling daily seasonality. Run prophet with daily_seasonality=True to override this.\n"
     ]
    },
    {
     "data": {
      "text/plain": [
       "<fbprophet.forecaster.Prophet at 0x7f136faabbe0>"
      ]
     },
     "execution_count": 17,
     "metadata": {},
     "output_type": "execute_result"
    }
   ],
   "source": [
    "model = Prophet()\n",
    "model.fit(train_df)"
   ]
  },
  {
   "cell_type": "markdown",
   "metadata": {},
   "source": [
    "Make predictions..."
   ]
  },
  {
   "cell_type": "code",
   "execution_count": 18,
   "metadata": {},
   "outputs": [
    {
     "data": {
      "text/html": [
       "<div>\n",
       "<style scoped>\n",
       "    .dataframe tbody tr th:only-of-type {\n",
       "        vertical-align: middle;\n",
       "    }\n",
       "\n",
       "    .dataframe tbody tr th {\n",
       "        vertical-align: top;\n",
       "    }\n",
       "\n",
       "    .dataframe thead th {\n",
       "        text-align: right;\n",
       "    }\n",
       "</style>\n",
       "<table border=\"1\" class=\"dataframe\">\n",
       "  <thead>\n",
       "    <tr style=\"text-align: right;\">\n",
       "      <th></th>\n",
       "      <th>ds</th>\n",
       "    </tr>\n",
       "  </thead>\n",
       "  <tbody>\n",
       "    <tr>\n",
       "      <th>0</th>\n",
       "      <td>1949-01-02</td>\n",
       "    </tr>\n",
       "    <tr>\n",
       "      <th>1</th>\n",
       "      <td>1949-02-02</td>\n",
       "    </tr>\n",
       "    <tr>\n",
       "      <th>2</th>\n",
       "      <td>1949-03-02</td>\n",
       "    </tr>\n",
       "    <tr>\n",
       "      <th>3</th>\n",
       "      <td>1949-04-02</td>\n",
       "    </tr>\n",
       "    <tr>\n",
       "      <th>4</th>\n",
       "      <td>1949-05-02</td>\n",
       "    </tr>\n",
       "  </tbody>\n",
       "</table>\n",
       "</div>"
      ],
      "text/plain": [
       "          ds\n",
       "0 1949-01-02\n",
       "1 1949-02-02\n",
       "2 1949-03-02\n",
       "3 1949-04-02\n",
       "4 1949-05-02"
      ]
     },
     "execution_count": 18,
     "metadata": {},
     "output_type": "execute_result"
    }
   ],
   "source": [
    "future = model.make_future_dataframe(periods=12, freq='M', include_history=True).apply(lambda x : x + pd.DateOffset(days = 1))\n",
    "future.head()"
   ]
  },
  {
   "cell_type": "code",
   "execution_count": 19,
   "metadata": {},
   "outputs": [],
   "source": [
    "forecast = model.predict(future)\n",
    "y_pred = forecast[['ds', 'yhat', 'yhat_lower', 'yhat_upper']].set_index('ds')"
   ]
  },
  {
   "cell_type": "markdown",
   "metadata": {},
   "source": [
    "Plot predictions..."
   ]
  },
  {
   "cell_type": "code",
   "execution_count": 20,
   "metadata": {},
   "outputs": [
    {
     "data": {
      "image/png": "[encoded data removed]",
      "text/plain": [
       "<Figure size 720x432 with 1 Axes>"
      ]
     },
     "metadata": {},
     "output_type": "display_data"
    }
   ],
   "source": [
    "fig = model.plot(forecast)\n",
    "# test.plot(style='.r')"
   ]
  },
  {
   "cell_type": "markdown",
   "metadata": {},
   "source": [
    "Evaluating this baseline model error on test set..."
   ]
  },
  {
   "cell_type": "code",
   "execution_count": 21,
   "metadata": {},
   "outputs": [],
   "source": [
    "def mean_absolute_percentage_error(y_true, y_pred): \n",
    "    '''\n",
    "    MAPE\n",
    "\n",
    "    Parameters:\n",
    "    --------\n",
    "    y_true -- np.array actual observations from time series\n",
    "    y_pred -- the predictions to evaluate\n",
    "\n",
    "    Returns:\n",
    "    -------\n",
    "    float, scalar value representing the MAPE (0-100)\n",
    "    '''\n",
    "    #y_true, y_pred = np.array(y_true), np.array(y_pred)\n",
    "    return np.mean(np.abs((y_true - y_pred) / y_true)) * 100"
   ]
  },
  {
   "cell_type": "code",
   "execution_count": 22,
   "metadata": {},
   "outputs": [
    {
     "data": {
      "text/plain": [
       "6.659792218688655"
      ]
     },
     "execution_count": 22,
     "metadata": {},
     "output_type": "execute_result"
    }
   ],
   "source": [
    "mean_absolute_percentage_error(test.values , forecast['yhat'][-12:])"
   ]
  },
  {
   "cell_type": "markdown",
   "metadata": {},
   "source": [
    "We at least see it beats the naive model scores that we saw in the last notebook. Not bad for only several lines of code. But looking at the plot it is clearly not fitting well. We should use cross validation to find a better fitting model (before we evaluated in the test set!)."
   ]
  },
  {
   "cell_type": "markdown",
   "metadata": {},
   "source": [
    "## Cross validation in prophet\n",
    "\n",
    "There are cross validation functions in `prophet` that take care of time series data and do rolling windows as we had previously seen."
   ]
  },
  {
   "cell_type": "code",
   "execution_count": 23,
   "metadata": {},
   "outputs": [],
   "source": [
    "from fbprophet.diagnostics import cross_validation\n",
    "from fbprophet.diagnostics import performance_metrics\n",
    "from fbprophet.plot import plot_cross_validation_metric"
   ]
  },
  {
   "cell_type": "code",
   "execution_count": 24,
   "metadata": {},
   "outputs": [
    {
     "name": "stderr",
     "output_type": "stream",
     "text": [
      "INFO:fbprophet:Disabling weekly seasonality. Run prophet with weekly_seasonality=True to override this.\n",
      "INFO:fbprophet:Disabling daily seasonality. Run prophet with daily_seasonality=True to override this.\n",
      "INFO:fbprophet:Making 7 forecasts with cutoffs between 1952-12-02 00:00:00 and 1958-12-01 00:00:00\n"
     ]
    },
    {
     "data": {
      "text/html": [
       "<div>\n",
       "<style scoped>\n",
       "    .dataframe tbody tr th:only-of-type {\n",
       "        vertical-align: middle;\n",
       "    }\n",
       "\n",
       "    .dataframe tbody tr th {\n",
       "        vertical-align: top;\n",
       "    }\n",
       "\n",
       "    .dataframe thead th {\n",
       "        text-align: right;\n",
       "    }\n",
       "</style>\n",
       "<table border=\"1\" class=\"dataframe\">\n",
       "  <thead>\n",
       "    <tr style=\"text-align: right;\">\n",
       "      <th></th>\n",
       "      <th>ds</th>\n",
       "      <th>yhat</th>\n",
       "      <th>yhat_lower</th>\n",
       "      <th>yhat_upper</th>\n",
       "      <th>y</th>\n",
       "      <th>cutoff</th>\n",
       "    </tr>\n",
       "  </thead>\n",
       "  <tbody>\n",
       "    <tr>\n",
       "      <th>0</th>\n",
       "      <td>1953-01-01</td>\n",
       "      <td>6.608325</td>\n",
       "      <td>6.448449</td>\n",
       "      <td>6.770056</td>\n",
       "      <td>6.322581</td>\n",
       "      <td>1952-12-02</td>\n",
       "    </tr>\n",
       "    <tr>\n",
       "      <th>1</th>\n",
       "      <td>1953-02-01</td>\n",
       "      <td>7.373926</td>\n",
       "      <td>7.218396</td>\n",
       "      <td>7.528812</td>\n",
       "      <td>7.000000</td>\n",
       "      <td>1952-12-02</td>\n",
       "    </tr>\n",
       "    <tr>\n",
       "      <th>2</th>\n",
       "      <td>1953-03-01</td>\n",
       "      <td>7.342451</td>\n",
       "      <td>7.183135</td>\n",
       "      <td>7.503921</td>\n",
       "      <td>7.612903</td>\n",
       "      <td>1952-12-02</td>\n",
       "    </tr>\n",
       "    <tr>\n",
       "      <th>3</th>\n",
       "      <td>1953-04-01</td>\n",
       "      <td>7.260527</td>\n",
       "      <td>7.101285</td>\n",
       "      <td>7.416594</td>\n",
       "      <td>7.833333</td>\n",
       "      <td>1952-12-02</td>\n",
       "    </tr>\n",
       "    <tr>\n",
       "      <th>4</th>\n",
       "      <td>1953-05-01</td>\n",
       "      <td>7.015671</td>\n",
       "      <td>6.859701</td>\n",
       "      <td>7.184565</td>\n",
       "      <td>7.387097</td>\n",
       "      <td>1952-12-02</td>\n",
       "    </tr>\n",
       "  </tbody>\n",
       "</table>\n",
       "</div>"
      ],
      "text/plain": [
       "          ds      yhat  yhat_lower  yhat_upper         y     cutoff\n",
       "0 1953-01-01  6.608325    6.448449    6.770056  6.322581 1952-12-02\n",
       "1 1953-02-01  7.373926    7.218396    7.528812  7.000000 1952-12-02\n",
       "2 1953-03-01  7.342451    7.183135    7.503921  7.612903 1952-12-02\n",
       "3 1953-04-01  7.260527    7.101285    7.416594  7.833333 1952-12-02\n",
       "4 1953-05-01  7.015671    6.859701    7.184565  7.387097 1952-12-02"
      ]
     },
     "execution_count": 24,
     "metadata": {},
     "output_type": "execute_result"
    }
   ],
   "source": [
    "model = Prophet()\n",
    "model.fit(train_df)\n",
    "df_cv = cross_validation(model, initial='1350 days', period='365 days', horizon = '365 days')\n",
    "df_cv.head()"
   ]
  },
  {
   "cell_type": "markdown",
   "metadata": {},
   "source": [
    "A function for performance metrics..."
   ]
  },
  {
   "cell_type": "code",
   "execution_count": 25,
   "metadata": {},
   "outputs": [],
   "source": [
    "df_p = performance_metrics(df_cv)"
   ]
  },
  {
   "cell_type": "code",
   "execution_count": 26,
   "metadata": {},
   "outputs": [
    {
     "data": {
      "text/html": [
       "<div>\n",
       "<style scoped>\n",
       "    .dataframe tbody tr th:only-of-type {\n",
       "        vertical-align: middle;\n",
       "    }\n",
       "\n",
       "    .dataframe tbody tr th {\n",
       "        vertical-align: top;\n",
       "    }\n",
       "\n",
       "    .dataframe thead th {\n",
       "        text-align: right;\n",
       "    }\n",
       "</style>\n",
       "<table border=\"1\" class=\"dataframe\">\n",
       "  <thead>\n",
       "    <tr style=\"text-align: right;\">\n",
       "      <th></th>\n",
       "      <th>horizon</th>\n",
       "      <th>mse</th>\n",
       "      <th>rmse</th>\n",
       "      <th>mae</th>\n",
       "      <th>mape</th>\n",
       "      <th>mdape</th>\n",
       "      <th>coverage</th>\n",
       "    </tr>\n",
       "  </thead>\n",
       "  <tbody>\n",
       "    <tr>\n",
       "      <th>0</th>\n",
       "      <td>61 days</td>\n",
       "      <td>0.657697</td>\n",
       "      <td>0.810985</td>\n",
       "      <td>0.667030</td>\n",
       "      <td>0.075916</td>\n",
       "      <td>0.062552</td>\n",
       "      <td>0.312500</td>\n",
       "    </tr>\n",
       "    <tr>\n",
       "      <th>1</th>\n",
       "      <td>62 days</td>\n",
       "      <td>0.811522</td>\n",
       "      <td>0.900845</td>\n",
       "      <td>0.771085</td>\n",
       "      <td>0.081573</td>\n",
       "      <td>0.069688</td>\n",
       "      <td>0.250000</td>\n",
       "    </tr>\n",
       "    <tr>\n",
       "      <th>2</th>\n",
       "      <td>89 days</td>\n",
       "      <td>0.633276</td>\n",
       "      <td>0.795786</td>\n",
       "      <td>0.647987</td>\n",
       "      <td>0.069127</td>\n",
       "      <td>0.060554</td>\n",
       "      <td>0.250000</td>\n",
       "    </tr>\n",
       "    <tr>\n",
       "      <th>3</th>\n",
       "      <td>90 days</td>\n",
       "      <td>0.518442</td>\n",
       "      <td>0.720029</td>\n",
       "      <td>0.547247</td>\n",
       "      <td>0.052505</td>\n",
       "      <td>0.038482</td>\n",
       "      <td>0.500000</td>\n",
       "    </tr>\n",
       "    <tr>\n",
       "      <th>4</th>\n",
       "      <td>120 days</td>\n",
       "      <td>0.450070</td>\n",
       "      <td>0.670872</td>\n",
       "      <td>0.544906</td>\n",
       "      <td>0.056614</td>\n",
       "      <td>0.046024</td>\n",
       "      <td>0.416667</td>\n",
       "    </tr>\n",
       "  </tbody>\n",
       "</table>\n",
       "</div>"
      ],
      "text/plain": [
       "   horizon       mse      rmse       mae      mape     mdape  coverage\n",
       "0  61 days  0.657697  0.810985  0.667030  0.075916  0.062552  0.312500\n",
       "1  62 days  0.811522  0.900845  0.771085  0.081573  0.069688  0.250000\n",
       "2  89 days  0.633276  0.795786  0.647987  0.069127  0.060554  0.250000\n",
       "3  90 days  0.518442  0.720029  0.547247  0.052505  0.038482  0.500000\n",
       "4 120 days  0.450070  0.670872  0.544906  0.056614  0.046024  0.416667"
      ]
     },
     "execution_count": 26,
     "metadata": {},
     "output_type": "execute_result"
    }
   ],
   "source": [
    "df_p.head()"
   ]
  },
  {
   "cell_type": "code",
   "execution_count": 27,
   "metadata": {},
   "outputs": [
    {
     "data": {
      "image/png": "[encoded data removed]",
      "text/plain": [
       "<Figure size 720x432 with 1 Axes>"
      ]
     },
     "metadata": {},
     "output_type": "display_data"
    }
   ],
   "source": [
    "fig = plot_cross_validation_metric(df_cv, metric='mape')\n",
    "plt.show()"
   ]
  },
  {
   "cell_type": "code",
   "execution_count": 28,
   "metadata": {},
   "outputs": [
    {
     "data": {
      "text/html": [
       "<div>\n",
       "<style scoped>\n",
       "    .dataframe tbody tr th:only-of-type {\n",
       "        vertical-align: middle;\n",
       "    }\n",
       "\n",
       "    .dataframe tbody tr th {\n",
       "        vertical-align: top;\n",
       "    }\n",
       "\n",
       "    .dataframe thead th {\n",
       "        text-align: right;\n",
       "    }\n",
       "</style>\n",
       "<table border=\"1\" class=\"dataframe\">\n",
       "  <thead>\n",
       "    <tr style=\"text-align: right;\">\n",
       "      <th></th>\n",
       "      <th>horizon</th>\n",
       "      <th>mse</th>\n",
       "      <th>rmse</th>\n",
       "      <th>mae</th>\n",
       "      <th>mape</th>\n",
       "      <th>mdape</th>\n",
       "      <th>coverage</th>\n",
       "    </tr>\n",
       "  </thead>\n",
       "  <tbody>\n",
       "    <tr>\n",
       "      <th>count</th>\n",
       "      <td>22</td>\n",
       "      <td>22.000000</td>\n",
       "      <td>22.000000</td>\n",
       "      <td>22.000000</td>\n",
       "      <td>22.000000</td>\n",
       "      <td>22.000000</td>\n",
       "      <td>22.000000</td>\n",
       "    </tr>\n",
       "    <tr>\n",
       "      <th>mean</th>\n",
       "      <td>212 days 03:16:21.818181</td>\n",
       "      <td>0.906426</td>\n",
       "      <td>0.916942</td>\n",
       "      <td>0.758830</td>\n",
       "      <td>0.069973</td>\n",
       "      <td>0.063329</td>\n",
       "      <td>0.327652</td>\n",
       "    </tr>\n",
       "    <tr>\n",
       "      <th>std</th>\n",
       "      <td>98 days 14:31:27.112420</td>\n",
       "      <td>0.544003</td>\n",
       "      <td>0.262238</td>\n",
       "      <td>0.247832</td>\n",
       "      <td>0.016413</td>\n",
       "      <td>0.024051</td>\n",
       "      <td>0.174947</td>\n",
       "    </tr>\n",
       "    <tr>\n",
       "      <th>min</th>\n",
       "      <td>61 days 00:00:00</td>\n",
       "      <td>0.380328</td>\n",
       "      <td>0.616707</td>\n",
       "      <td>0.442208</td>\n",
       "      <td>0.044368</td>\n",
       "      <td>0.020503</td>\n",
       "      <td>0.031250</td>\n",
       "    </tr>\n",
       "    <tr>\n",
       "      <th>25%</th>\n",
       "      <td>128 days 06:00:00</td>\n",
       "      <td>0.500206</td>\n",
       "      <td>0.707232</td>\n",
       "      <td>0.589551</td>\n",
       "      <td>0.057574</td>\n",
       "      <td>0.047393</td>\n",
       "      <td>0.210938</td>\n",
       "    </tr>\n",
       "    <tr>\n",
       "      <th>50%</th>\n",
       "      <td>211 days 12:00:00</td>\n",
       "      <td>0.734609</td>\n",
       "      <td>0.855915</td>\n",
       "      <td>0.683958</td>\n",
       "      <td>0.068361</td>\n",
       "      <td>0.061211</td>\n",
       "      <td>0.302083</td>\n",
       "    </tr>\n",
       "    <tr>\n",
       "      <th>75%</th>\n",
       "      <td>295 days 18:00:00</td>\n",
       "      <td>1.070061</td>\n",
       "      <td>1.034100</td>\n",
       "      <td>0.852450</td>\n",
       "      <td>0.086383</td>\n",
       "      <td>0.080749</td>\n",
       "      <td>0.468750</td>\n",
       "    </tr>\n",
       "    <tr>\n",
       "      <th>max</th>\n",
       "      <td>365 days 00:00:00</td>\n",
       "      <td>2.130555</td>\n",
       "      <td>1.459642</td>\n",
       "      <td>1.298153</td>\n",
       "      <td>0.097596</td>\n",
       "      <td>0.104404</td>\n",
       "      <td>0.666667</td>\n",
       "    </tr>\n",
       "  </tbody>\n",
       "</table>\n",
       "</div>"
      ],
      "text/plain": [
       "                        horizon        mse       rmse        mae       mape  \\\n",
       "count                        22  22.000000  22.000000  22.000000  22.000000   \n",
       "mean   212 days 03:16:21.818181   0.906426   0.916942   0.758830   0.069973   \n",
       "std     98 days 14:31:27.112420   0.544003   0.262238   0.247832   0.016413   \n",
       "min            61 days 00:00:00   0.380328   0.616707   0.442208   0.044368   \n",
       "25%           128 days 06:00:00   0.500206   0.707232   0.589551   0.057574   \n",
       "50%           211 days 12:00:00   0.734609   0.855915   0.683958   0.068361   \n",
       "75%           295 days 18:00:00   1.070061   1.034100   0.852450   0.086383   \n",
       "max           365 days 00:00:00   2.130555   1.459642   1.298153   0.097596   \n",
       "\n",
       "           mdape   coverage  \n",
       "count  22.000000  22.000000  \n",
       "mean    0.063329   0.327652  \n",
       "std     0.024051   0.174947  \n",
       "min     0.020503   0.031250  \n",
       "25%     0.047393   0.210938  \n",
       "50%     0.061211   0.302083  \n",
       "75%     0.080749   0.468750  \n",
       "max     0.104404   0.666667  "
      ]
     },
     "execution_count": 28,
     "metadata": {},
     "output_type": "execute_result"
    }
   ],
   "source": [
    "df_p.describe()"
   ]
  },
  {
   "cell_type": "markdown",
   "metadata": {},
   "source": [
    "We find a MAPE of ~6.9% with std ~1.6%. This would have estimated the error we saw on the test set to a good degree."
   ]
  },
  {
   "cell_type": "markdown",
   "metadata": {},
   "source": [
    "## Hyper-parameters\n",
    "\n",
    "The model plot we saw earlier did not fit very well to the train data. We can change the model assumptions (like hyper-parameters) to change how well it is fitting the train data.\n",
    "\n",
    "`Prophet(\n",
    "    growth='linear',\n",
    "    changepoints=None,\n",
    "    n_changepoints=25,\n",
    "    changepoint_range=0.8,\n",
    "    yearly_seasonality='auto',\n",
    "    weekly_seasonality='auto',\n",
    "    daily_seasonality='auto',\n",
    "    holidays=None,\n",
    "    seasonality_mode='additive',\n",
    "    seasonality_prior_scale=10.0,\n",
    "    holidays_prior_scale=10.0,\n",
    "    changepoint_prior_scale=0.05,\n",
    "    mcmc_samples=0,\n",
    "    interval_width=0.8,\n",
    "    uncertainty_samples=1000,\n",
    "    stan_backend=None,\n",
    ")`"
   ]
  },
  {
   "cell_type": "markdown",
   "metadata": {},
   "source": [
    "**TASK**\n",
    "\n",
    "* Try changing some of these. [This](https://towardsdatascience.com/implementing-facebook-prophet-efficiently-c241305405a3) blog is very useful in explaining the parameters and what they do.\n",
    "* Find at least one change which improves your model cross validation score"
   ]
  },
  {
   "cell_type": "code",
   "execution_count": null,
   "metadata": {},
   "outputs": [],
   "source": [
    "model = Prophet(\n",
    "    yearly_seasonality='auto',weekly_seasonality=False,daily_seasonality=False,\n",
    "    holidays=None,holidays_prior_scale=10.0,changepoint_prior_scale=0.05,stan_backend=None,\n",
    "    mcmc_samples=0,interval_width=0.8,\n",
    "    seasonality_mode='multiplicative',\n",
    "    seasonality_prior_scale=10,\n",
    "    uncertainty_samples=1000,\n",
    ")\n",
    "model.fit(train_df)\n",
    "df_cv = cross_validation(model, initial='1350 days', period='365 days', horizon = '365 days')\n",
    "df_p = performance_metrics(df_cv)\n",
    "fig = plot_cross_validation_metric(df_cv, metric='mape')\n",
    "plt.show()"
   ]
  },
  {
   "cell_type": "code",
   "execution_count": null,
   "metadata": {},
   "outputs": [],
   "source": [
    "growth='linear',\n",
    "    changepoints=None,\n",
    "    n_changepoints=20,\n",
    "    changepoint_range=0.8,\n",
    "    changepoint_prior_scale=0.05,\n",
    "    # we define our own seasonality\n",
    "    yearly_seasonality=False,\n",
    "    weekly_seasonality=False,\n",
    "    daily_seasonality=False,\n",
    "    seasonality_mode='multiplicative',\n",
    "    seasonality_prior_scale=10.0,\n",
    "    interval_width=0.8,\n",
    "    uncertainty_samples=1000,\n",
    "    stan_backend=None"
   ]
  },
  {
   "cell_type": "code",
   "execution_count": 157,
   "metadata": {},
   "outputs": [],
   "source": [
    "#### your solution here \n",
    "\n",
    "# .add_seasonality(name='daily', period=1, fourier_order=15)\n",
    "# .add_seasonality(name='weekly', period=7, fourier_order=20)\n",
    "# .add_seasonality(name='monthly', period=30.5, fourier_order=12)\n",
    "# .add_seasonality(name='yearly', period=365.25, fourier_order=20)\n",
    "# .add_seasonality(name='quarterly', period=365.25/4, fourier_order=5,prior_scale=15)\n",
    "\n",
    "\n",
    "prophet = Prophet(\n",
    "daily_seasonality = False,\n",
    "    weekly_seasonality = False,\n",
    "    seasonality_mode='multiplicative',\n",
    "    seasonality_prior_scale=10,\n",
    "    changepoint_prior_scale=0.05,)\n",
    "# ).add_seasonality(name='monthly', period=30.5, fourier_order=10\n",
    "#                  ).add_seasonality(name='yearly', period=365.25, fourier_order=20\n",
    "#                                   )"
   ]
  },
  {
   "cell_type": "code",
   "execution_count": 158,
   "metadata": {},
   "outputs": [
    {
     "name": "stderr",
     "output_type": "stream",
     "text": [
      "INFO:fbprophet:Making 7 forecasts with cutoffs between 1952-12-02 00:00:00 and 1958-12-01 00:00:00\n"
     ]
    },
    {
     "data": {
      "text/html": [
       "<div>\n",
       "<style scoped>\n",
       "    .dataframe tbody tr th:only-of-type {\n",
       "        vertical-align: middle;\n",
       "    }\n",
       "\n",
       "    .dataframe tbody tr th {\n",
       "        vertical-align: top;\n",
       "    }\n",
       "\n",
       "    .dataframe thead th {\n",
       "        text-align: right;\n",
       "    }\n",
       "</style>\n",
       "<table border=\"1\" class=\"dataframe\">\n",
       "  <thead>\n",
       "    <tr style=\"text-align: right;\">\n",
       "      <th></th>\n",
       "      <th>ds</th>\n",
       "      <th>yhat</th>\n",
       "      <th>yhat_lower</th>\n",
       "      <th>yhat_upper</th>\n",
       "      <th>y</th>\n",
       "      <th>cutoff</th>\n",
       "    </tr>\n",
       "  </thead>\n",
       "  <tbody>\n",
       "    <tr>\n",
       "      <th>0</th>\n",
       "      <td>1953-01-01</td>\n",
       "      <td>6.226010</td>\n",
       "      <td>6.091130</td>\n",
       "      <td>6.361875</td>\n",
       "      <td>6.322581</td>\n",
       "      <td>1952-12-02</td>\n",
       "    </tr>\n",
       "    <tr>\n",
       "      <th>1</th>\n",
       "      <td>1953-02-01</td>\n",
       "      <td>7.586527</td>\n",
       "      <td>7.456132</td>\n",
       "      <td>7.721331</td>\n",
       "      <td>7.000000</td>\n",
       "      <td>1952-12-02</td>\n",
       "    </tr>\n",
       "    <tr>\n",
       "      <th>2</th>\n",
       "      <td>1953-03-01</td>\n",
       "      <td>7.413695</td>\n",
       "      <td>7.284185</td>\n",
       "      <td>7.543960</td>\n",
       "      <td>7.612903</td>\n",
       "      <td>1952-12-02</td>\n",
       "    </tr>\n",
       "    <tr>\n",
       "      <th>3</th>\n",
       "      <td>1953-04-01</td>\n",
       "      <td>7.235272</td>\n",
       "      <td>7.095923</td>\n",
       "      <td>7.370676</td>\n",
       "      <td>7.833333</td>\n",
       "      <td>1952-12-02</td>\n",
       "    </tr>\n",
       "    <tr>\n",
       "      <th>4</th>\n",
       "      <td>1953-05-01</td>\n",
       "      <td>6.926749</td>\n",
       "      <td>6.792360</td>\n",
       "      <td>7.063420</td>\n",
       "      <td>7.387097</td>\n",
       "      <td>1952-12-02</td>\n",
       "    </tr>\n",
       "  </tbody>\n",
       "</table>\n",
       "</div>"
      ],
      "text/plain": [
       "          ds      yhat  yhat_lower  yhat_upper         y     cutoff\n",
       "0 1953-01-01  6.226010    6.091130    6.361875  6.322581 1952-12-02\n",
       "1 1953-02-01  7.586527    7.456132    7.721331  7.000000 1952-12-02\n",
       "2 1953-03-01  7.413695    7.284185    7.543960  7.612903 1952-12-02\n",
       "3 1953-04-01  7.235272    7.095923    7.370676  7.833333 1952-12-02\n",
       "4 1953-05-01  6.926749    6.792360    7.063420  7.387097 1952-12-02"
      ]
     },
     "execution_count": 158,
     "metadata": {},
     "output_type": "execute_result"
    }
   ],
   "source": [
    "prophet.fit(train_df)\n",
    "df_cv2 = cross_validation(prophet, initial='1350 days', period='365 days', horizon = '365 days')\n",
    "df_cv2.head()"
   ]
  },
  {
   "cell_type": "code",
   "execution_count": 159,
   "metadata": {},
   "outputs": [
    {
     "data": {
      "text/html": [
       "<div>\n",
       "<style scoped>\n",
       "    .dataframe tbody tr th:only-of-type {\n",
       "        vertical-align: middle;\n",
       "    }\n",
       "\n",
       "    .dataframe tbody tr th {\n",
       "        vertical-align: top;\n",
       "    }\n",
       "\n",
       "    .dataframe thead th {\n",
       "        text-align: right;\n",
       "    }\n",
       "</style>\n",
       "<table border=\"1\" class=\"dataframe\">\n",
       "  <thead>\n",
       "    <tr style=\"text-align: right;\">\n",
       "      <th></th>\n",
       "      <th>horizon</th>\n",
       "      <th>mse</th>\n",
       "      <th>rmse</th>\n",
       "      <th>mae</th>\n",
       "      <th>mape</th>\n",
       "      <th>mdape</th>\n",
       "      <th>coverage</th>\n",
       "    </tr>\n",
       "  </thead>\n",
       "  <tbody>\n",
       "    <tr>\n",
       "      <th>0</th>\n",
       "      <td>61 days</td>\n",
       "      <td>0.382214</td>\n",
       "      <td>0.618235</td>\n",
       "      <td>0.493041</td>\n",
       "      <td>0.061656</td>\n",
       "      <td>0.050141</td>\n",
       "      <td>0.437500</td>\n",
       "    </tr>\n",
       "    <tr>\n",
       "      <th>1</th>\n",
       "      <td>62 days</td>\n",
       "      <td>0.558494</td>\n",
       "      <td>0.747324</td>\n",
       "      <td>0.645965</td>\n",
       "      <td>0.073130</td>\n",
       "      <td>0.055732</td>\n",
       "      <td>0.208333</td>\n",
       "    </tr>\n",
       "    <tr>\n",
       "      <th>2</th>\n",
       "      <td>89 days</td>\n",
       "      <td>0.488720</td>\n",
       "      <td>0.699085</td>\n",
       "      <td>0.578259</td>\n",
       "      <td>0.065050</td>\n",
       "      <td>0.055732</td>\n",
       "      <td>0.187500</td>\n",
       "    </tr>\n",
       "    <tr>\n",
       "      <th>3</th>\n",
       "      <td>90 days</td>\n",
       "      <td>0.502165</td>\n",
       "      <td>0.708636</td>\n",
       "      <td>0.533470</td>\n",
       "      <td>0.052926</td>\n",
       "      <td>0.039310</td>\n",
       "      <td>0.250000</td>\n",
       "    </tr>\n",
       "    <tr>\n",
       "      <th>4</th>\n",
       "      <td>120 days</td>\n",
       "      <td>0.505200</td>\n",
       "      <td>0.710774</td>\n",
       "      <td>0.581786</td>\n",
       "      <td>0.061778</td>\n",
       "      <td>0.049154</td>\n",
       "      <td>0.166667</td>\n",
       "    </tr>\n",
       "  </tbody>\n",
       "</table>\n",
       "</div>"
      ],
      "text/plain": [
       "   horizon       mse      rmse       mae      mape     mdape  coverage\n",
       "0  61 days  0.382214  0.618235  0.493041  0.061656  0.050141  0.437500\n",
       "1  62 days  0.558494  0.747324  0.645965  0.073130  0.055732  0.208333\n",
       "2  89 days  0.488720  0.699085  0.578259  0.065050  0.055732  0.187500\n",
       "3  90 days  0.502165  0.708636  0.533470  0.052926  0.039310  0.250000\n",
       "4 120 days  0.505200  0.710774  0.581786  0.061778  0.049154  0.166667"
      ]
     },
     "execution_count": 159,
     "metadata": {},
     "output_type": "execute_result"
    }
   ],
   "source": [
    "df_p2 = pd.DataFrame(performance_metrics(df_cv2))\n",
    "df_p2.head()"
   ]
  },
  {
   "cell_type": "code",
   "execution_count": 160,
   "metadata": {},
   "outputs": [
    {
     "data": {
      "text/html": [
       "<div>\n",
       "<style scoped>\n",
       "    .dataframe tbody tr th:only-of-type {\n",
       "        vertical-align: middle;\n",
       "    }\n",
       "\n",
       "    .dataframe tbody tr th {\n",
       "        vertical-align: top;\n",
       "    }\n",
       "\n",
       "    .dataframe thead th {\n",
       "        text-align: right;\n",
       "    }\n",
       "</style>\n",
       "<table border=\"1\" class=\"dataframe\">\n",
       "  <thead>\n",
       "    <tr style=\"text-align: right;\">\n",
       "      <th></th>\n",
       "      <th>horizon</th>\n",
       "      <th>mse</th>\n",
       "      <th>rmse</th>\n",
       "      <th>mae</th>\n",
       "      <th>mape</th>\n",
       "      <th>mdape</th>\n",
       "      <th>coverage</th>\n",
       "    </tr>\n",
       "  </thead>\n",
       "  <tbody>\n",
       "    <tr>\n",
       "      <th>count</th>\n",
       "      <td>22</td>\n",
       "      <td>22.000000</td>\n",
       "      <td>22.000000</td>\n",
       "      <td>22.000000</td>\n",
       "      <td>22.000000</td>\n",
       "      <td>22.000000</td>\n",
       "      <td>22.000000</td>\n",
       "    </tr>\n",
       "    <tr>\n",
       "      <th>mean</th>\n",
       "      <td>212 days 03:16:21.818181</td>\n",
       "      <td>0.471836</td>\n",
       "      <td>0.684087</td>\n",
       "      <td>0.534380</td>\n",
       "      <td>0.051866</td>\n",
       "      <td>0.040898</td>\n",
       "      <td>0.322917</td>\n",
       "    </tr>\n",
       "    <tr>\n",
       "      <th>std</th>\n",
       "      <td>98 days 14:31:27.112420</td>\n",
       "      <td>0.087463</td>\n",
       "      <td>0.063605</td>\n",
       "      <td>0.059629</td>\n",
       "      <td>0.010637</td>\n",
       "      <td>0.014587</td>\n",
       "      <td>0.094982</td>\n",
       "    </tr>\n",
       "    <tr>\n",
       "      <th>min</th>\n",
       "      <td>61 days 00:00:00</td>\n",
       "      <td>0.306908</td>\n",
       "      <td>0.553993</td>\n",
       "      <td>0.461843</td>\n",
       "      <td>0.034776</td>\n",
       "      <td>0.018016</td>\n",
       "      <td>0.166667</td>\n",
       "    </tr>\n",
       "    <tr>\n",
       "      <th>25%</th>\n",
       "      <td>128 days 06:00:00</td>\n",
       "      <td>0.408941</td>\n",
       "      <td>0.639426</td>\n",
       "      <td>0.489128</td>\n",
       "      <td>0.044185</td>\n",
       "      <td>0.029699</td>\n",
       "      <td>0.257812</td>\n",
       "    </tr>\n",
       "    <tr>\n",
       "      <th>50%</th>\n",
       "      <td>211 days 12:00:00</td>\n",
       "      <td>0.481598</td>\n",
       "      <td>0.693954</td>\n",
       "      <td>0.525748</td>\n",
       "      <td>0.049170</td>\n",
       "      <td>0.037955</td>\n",
       "      <td>0.312500</td>\n",
       "    </tr>\n",
       "    <tr>\n",
       "      <th>75%</th>\n",
       "      <td>295 days 18:00:00</td>\n",
       "      <td>0.513658</td>\n",
       "      <td>0.716692</td>\n",
       "      <td>0.577150</td>\n",
       "      <td>0.061731</td>\n",
       "      <td>0.050452</td>\n",
       "      <td>0.406250</td>\n",
       "    </tr>\n",
       "    <tr>\n",
       "      <th>max</th>\n",
       "      <td>365 days 00:00:00</td>\n",
       "      <td>0.679240</td>\n",
       "      <td>0.824160</td>\n",
       "      <td>0.676548</td>\n",
       "      <td>0.073130</td>\n",
       "      <td>0.067081</td>\n",
       "      <td>0.500000</td>\n",
       "    </tr>\n",
       "  </tbody>\n",
       "</table>\n",
       "</div>"
      ],
      "text/plain": [
       "                        horizon        mse       rmse        mae       mape  \\\n",
       "count                        22  22.000000  22.000000  22.000000  22.000000   \n",
       "mean   212 days 03:16:21.818181   0.471836   0.684087   0.534380   0.051866   \n",
       "std     98 days 14:31:27.112420   0.087463   0.063605   0.059629   0.010637   \n",
       "min            61 days 00:00:00   0.306908   0.553993   0.461843   0.034776   \n",
       "25%           128 days 06:00:00   0.408941   0.639426   0.489128   0.044185   \n",
       "50%           211 days 12:00:00   0.481598   0.693954   0.525748   0.049170   \n",
       "75%           295 days 18:00:00   0.513658   0.716692   0.577150   0.061731   \n",
       "max           365 days 00:00:00   0.679240   0.824160   0.676548   0.073130   \n",
       "\n",
       "           mdape   coverage  \n",
       "count  22.000000  22.000000  \n",
       "mean    0.040898   0.322917  \n",
       "std     0.014587   0.094982  \n",
       "min     0.018016   0.166667  \n",
       "25%     0.029699   0.257812  \n",
       "50%     0.037955   0.312500  \n",
       "75%     0.050452   0.406250  \n",
       "max     0.067081   0.500000  "
      ]
     },
     "execution_count": 160,
     "metadata": {},
     "output_type": "execute_result"
    }
   ],
   "source": [
    "df_p2.describe()"
   ]
  },
  {
   "cell_type": "code",
   "execution_count": 161,
   "metadata": {},
   "outputs": [
    {
     "data": {
      "image/png": "[encoded data removed]",
      "text/plain": [
       "<Figure size 648x432 with 2 Axes>"
      ]
     },
     "metadata": {},
     "output_type": "display_data"
    }
   ],
   "source": [
    "prophet.plot_components(forecast2);"
   ]
  },
  {
   "cell_type": "code",
   "execution_count": 136,
   "metadata": {},
   "outputs": [],
   "source": [
    "# plot_cross_validation_metric(df_cv2, metric='mape');"
   ]
  },
  {
   "cell_type": "code",
   "execution_count": 162,
   "metadata": {},
   "outputs": [
    {
     "data": {
      "image/png": "[encoded data removed]",
      "text/plain": [
       "<Figure size 720x432 with 1 Axes>"
      ]
     },
     "metadata": {},
     "output_type": "display_data"
    }
   ],
   "source": [
    "future2 = prophet.make_future_dataframe(periods=12, freq='M', include_history=True).apply(lambda x : x + pd.DateOffset(days = 1))\n",
    "forecast2 = prophet.predict(future2)\n",
    "y_pred2 = forecast2[['ds', 'yhat', 'yhat_lower', 'yhat_upper']].set_index('ds')\n",
    "fig = model.plot(forecast2)"
   ]
  },
  {
   "cell_type": "code",
   "execution_count": 163,
   "metadata": {},
   "outputs": [
    {
     "data": {
      "text/plain": [
       "4.551802349855427"
      ]
     },
     "execution_count": 163,
     "metadata": {},
     "output_type": "execute_result"
    }
   ],
   "source": [
    "mean_absolute_percentage_error(test.values , forecast2['yhat'][-12:])"
   ]
  },
  {
   "cell_type": "markdown",
   "metadata": {},
   "source": []
  }
 ],
 "metadata": {
  "kernelspec": {
   "display_name": "Python 3",
   "language": "python",
   "name": "python3"
  },
  "language_info": {
   "codemirror_mode": {
    "name": "ipython",
    "version": 3
   },
   "file_extension": ".py",
   "mimetype": "text/x-python",
   "name": "python",
   "nbconvert_exporter": "python",
   "pygments_lexer": "ipython3",
   "version": "3.7.6"
  },
  "toc": {
   "base_numbering": 1,
   "nav_menu": {},
   "number_sections": true,
   "sideBar": true,
   "skip_h1_title": false,
   "title_cell": "Table of Contents",
   "title_sidebar": "Contents",
   "toc_cell": false,
   "toc_position": {},
   "toc_section_display": true,
   "toc_window_display": false
  }
 },
 "nbformat": 4,
 "nbformat_minor": 4
}
